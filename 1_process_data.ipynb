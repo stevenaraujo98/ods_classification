{
 "cells": [
  {
   "cell_type": "code",
   "execution_count": 218,
   "id": "c9a416c1",
   "metadata": {},
   "outputs": [],
   "source": [
    "import pandas as pd\n",
    "import glob\n",
    "import re\n",
    "from bs4 import BeautifulSoup\n",
    "import html\n",
    "import matplotlib.pyplot as plt\n",
    "import seaborn as sns"
   ]
  },
  {
   "cell_type": "code",
   "execution_count": 219,
   "id": "a8c18eee",
   "metadata": {},
   "outputs": [],
   "source": [
    "pd.set_option('display.max_columns', None)"
   ]
  },
  {
   "cell_type": "markdown",
   "id": "1714a81b",
   "metadata": {},
   "source": [
    "### Investigacion"
   ]
  },
  {
   "cell_type": "code",
   "execution_count": 220,
   "id": "e0ba64a9",
   "metadata": {},
   "outputs": [],
   "source": [
    "df_inve = pd.read_csv(\"./data/investigacion/proyectos.csv\")\n",
    "df_inve_ods = pd.read_csv(\"./data/investigacion/ods.csv\")"
   ]
  },
  {
   "cell_type": "code",
   "execution_count": 221,
   "id": "68e4005e",
   "metadata": {},
   "outputs": [
    {
     "name": "stdout",
     "output_type": "stream",
     "text": [
      "<class 'pandas.core.frame.DataFrame'>\n",
      "RangeIndex: 879 entries, 0 to 878\n",
      "Data columns (total 51 columns):\n",
      " #   Column                          Non-Null Count  Dtype  \n",
      "---  ------                          --------------  -----  \n",
      " 0   IDDECINVPROYECTOOBJODS          879 non-null    int64  \n",
      " 1   IDDECINVPROYECTO                879 non-null    int64  \n",
      " 2   IDDECINVOBJODS                  879 non-null    int64  \n",
      " 3   ULTIMO_CAMBIO                   879 non-null    object \n",
      " 4   IDDECINVPROYECTODATOSGENERALES  879 non-null    int64  \n",
      " 5   IDDECINVPROYECTO.1              879 non-null    int64  \n",
      " 6   TITULO                          879 non-null    object \n",
      " 7   TIPOPROYECTO                    879 non-null    int64  \n",
      " 8   TIPOINVESTIGACION               879 non-null    int64  \n",
      " 9   OBJETIVOGENERAL                 879 non-null    object \n",
      " 10  MESES                           879 non-null    int64  \n",
      " 11  FECHAINICIO                     879 non-null    object \n",
      " 12  FECHAFIN                        879 non-null    object \n",
      " 13  ULTIMO_CAMBIO.1                 879 non-null    object \n",
      " 14  IDOBJETIVOECFRASCATI            879 non-null    int64  \n",
      " 15  ESEDITABLE                      879 non-null    int64  \n",
      " 16  IDUNIDAD                        879 non-null    int64  \n",
      " 17  FECHAFINORIGINAL                196 non-null    object \n",
      " 18  IDDECINVPROGRAMA                856 non-null    float64\n",
      " 19  TIPOFINANCIAMIENTOEXTERNO       879 non-null    int64  \n",
      " 20  IDPROGRAMADOCTORADO             879 non-null    int64  \n",
      " 21  IDDECINVPROYECTO.2              879 non-null    int64  \n",
      " 22  IDPERSONA                       879 non-null    int64  \n",
      " 23  TIENEDATOS                      879 non-null    int64  \n",
      " 24  HAYDATOSGENERALES               879 non-null    int64  \n",
      " 25  HAYAREASCONOCIMIENTO            879 non-null    int64  \n",
      " 26  HAYALINEACION                   879 non-null    int64  \n",
      " 27  HAYDELIMITACION                 879 non-null    int64  \n",
      " 28  HAYFINANCIAMIENTO               879 non-null    int64  \n",
      " 29  HAYINSTITUCIONES                879 non-null    int64  \n",
      " 30  HAYCOLABORADORES                879 non-null    int64  \n",
      " 31  HAYPRODUCTOS                    879 non-null    int64  \n",
      " 32  HAYEVIDENCIAS                   879 non-null    int64  \n",
      " 33  AUTORIZADODIRECTORUNIDAR        879 non-null    int64  \n",
      " 34  AUTORIZADOSECRETARIA            879 non-null    int64  \n",
      " 35  AUTORIZADODECANA                879 non-null    int64  \n",
      " 36  ULTIMO_CAMBIO.2                 879 non-null    object \n",
      " 37  HAYAREAFRASCATI                 879 non-null    int64  \n",
      " 38  ACTIVO                          879 non-null    int64  \n",
      " 39  INICIOPROCESO                   879 non-null    int64  \n",
      " 40  HAYOBJECFRAS                    879 non-null    int64  \n",
      " 41  CODIGOPR                        879 non-null    object \n",
      " 42  HAYCRONOGRAMA                   879 non-null    int64  \n",
      " 43  HAYDISCIPLINACIENTIFICA         873 non-null    float64\n",
      " 44  AUTORIZADOSECRETARIA2           879 non-null    int64  \n",
      " 45  FINALIZADO                      879 non-null    int64  \n",
      " 46  IDVSPROGRAMA                    875 non-null    float64\n",
      " 47  NUMPR                           397 non-null    float64\n",
      " 48  HAYAREASH2020                   816 non-null    float64\n",
      " 49  ESMIGRADO                       0 non-null      float64\n",
      " 50  AUTORIZADOCOORDOCTORADO         879 non-null    int64  \n",
      "dtypes: float64(6), int64(36), object(9)\n",
      "memory usage: 350.4+ KB\n"
     ]
    }
   ],
   "source": [
    "df_inve.info()"
   ]
  },
  {
   "cell_type": "code",
   "execution_count": 222,
   "id": "ec3d299a",
   "metadata": {},
   "outputs": [],
   "source": [
    "# df_inve.head()"
   ]
  },
  {
   "cell_type": "code",
   "execution_count": 223,
   "id": "bb871f86",
   "metadata": {},
   "outputs": [],
   "source": [
    "df_inve[\"ODS_Numero_descripcion\"] = pd.Series([pd.NA] * len(df_inve), dtype=object)\n",
    "for i in range(df_inve.shape[0]):\n",
    "        df_inve.loc[i, \"ODS_Numero_descripcion\"] = df_inve_ods[\"NOMBRE\"].iloc[df_inve.loc[i, \"IDDECINVOBJODS\"]-1]"
   ]
  },
  {
   "cell_type": "code",
   "execution_count": 224,
   "id": "01e99f85",
   "metadata": {},
   "outputs": [
    {
     "data": {
      "text/html": [
       "<div>\n",
       "<style scoped>\n",
       "    .dataframe tbody tr th:only-of-type {\n",
       "        vertical-align: middle;\n",
       "    }\n",
       "\n",
       "    .dataframe tbody tr th {\n",
       "        vertical-align: top;\n",
       "    }\n",
       "\n",
       "    .dataframe thead th {\n",
       "        text-align: right;\n",
       "    }\n",
       "</style>\n",
       "<table border=\"1\" class=\"dataframe\">\n",
       "  <thead>\n",
       "    <tr style=\"text-align: right;\">\n",
       "      <th></th>\n",
       "      <th>TITULO</th>\n",
       "      <th>OBJETIVOGENERAL</th>\n",
       "      <th>IDDECINVOBJODS</th>\n",
       "      <th>ODS_Numero_descripcion</th>\n",
       "    </tr>\n",
       "  </thead>\n",
       "  <tbody>\n",
       "    <tr>\n",
       "      <th>0</th>\n",
       "      <td>Mapa de la investigación en diseño en Iberoamé...</td>\n",
       "      <td>ANALIZAR LAS LÍNEAS DE INVESTIGACIÓN PRESENTES...</td>\n",
       "      <td>9</td>\n",
       "      <td>9.- INDUSTRIA, INNOVACIÓN E INFRAESTRUCTURA</td>\n",
       "    </tr>\n",
       "    <tr>\n",
       "      <th>1</th>\n",
       "      <td>Marco de habilidades digitales en Ecuador</td>\n",
       "      <td>VALIDAR UN MARCO DE HABILIDADES DIGITALES PARA...</td>\n",
       "      <td>4</td>\n",
       "      <td>4.- EDUCACIÓN DE CALIDAD</td>\n",
       "    </tr>\n",
       "    <tr>\n",
       "      <th>2</th>\n",
       "      <td>Desarrollo de Sistemas Inteligentes de Monitor...</td>\n",
       "      <td>CREAR SISTEMA DE MONITOREO INTELIGENTE UTILIZA...</td>\n",
       "      <td>9</td>\n",
       "      <td>9.- INDUSTRIA, INNOVACIÓN E INFRAESTRUCTURA</td>\n",
       "    </tr>\n",
       "    <tr>\n",
       "      <th>3</th>\n",
       "      <td>Understanding biodiversity – productivity rela...</td>\n",
       "      <td>TO UNDESTAND THE ROL OF BIODIVERSITY IN HIGLY ...</td>\n",
       "      <td>13</td>\n",
       "      <td>13.- ACCIÓN POR EL CLIMA</td>\n",
       "    </tr>\n",
       "    <tr>\n",
       "      <th>4</th>\n",
       "      <td>Understanding biodiversity – productivity rela...</td>\n",
       "      <td>TO UNDESTAND THE ROL OF BIODIVERSITY IN HIGLY ...</td>\n",
       "      <td>15</td>\n",
       "      <td>15.- VIDA DE ECOSISTEMAS TERRESTRES</td>\n",
       "    </tr>\n",
       "  </tbody>\n",
       "</table>\n",
       "</div>"
      ],
      "text/plain": [
       "                                              TITULO  \\\n",
       "0  Mapa de la investigación en diseño en Iberoamé...   \n",
       "1          Marco de habilidades digitales en Ecuador   \n",
       "2  Desarrollo de Sistemas Inteligentes de Monitor...   \n",
       "3  Understanding biodiversity – productivity rela...   \n",
       "4  Understanding biodiversity – productivity rela...   \n",
       "\n",
       "                                     OBJETIVOGENERAL  IDDECINVOBJODS  \\\n",
       "0  ANALIZAR LAS LÍNEAS DE INVESTIGACIÓN PRESENTES...               9   \n",
       "1  VALIDAR UN MARCO DE HABILIDADES DIGITALES PARA...               4   \n",
       "2  CREAR SISTEMA DE MONITOREO INTELIGENTE UTILIZA...               9   \n",
       "3  TO UNDESTAND THE ROL OF BIODIVERSITY IN HIGLY ...              13   \n",
       "4  TO UNDESTAND THE ROL OF BIODIVERSITY IN HIGLY ...              15   \n",
       "\n",
       "                        ODS_Numero_descripcion  \n",
       "0  9.- INDUSTRIA, INNOVACIÓN E INFRAESTRUCTURA  \n",
       "1                     4.- EDUCACIÓN DE CALIDAD  \n",
       "2  9.- INDUSTRIA, INNOVACIÓN E INFRAESTRUCTURA  \n",
       "3                     13.- ACCIÓN POR EL CLIMA  \n",
       "4          15.- VIDA DE ECOSISTEMAS TERRESTRES  "
      ]
     },
     "execution_count": 224,
     "metadata": {},
     "output_type": "execute_result"
    }
   ],
   "source": [
    "df_inve[[\"TITULO\", \"OBJETIVOGENERAL\", \"IDDECINVOBJODS\", \"ODS_Numero_descripcion\"]].head()#.loc[0, \"OBJETIVOGENERAL\"]"
   ]
  },
  {
   "cell_type": "markdown",
   "id": "ea64bcc0",
   "metadata": {},
   "source": [
    "### Vinculacion"
   ]
  },
  {
   "cell_type": "code",
   "execution_count": 225,
   "id": "03bd3dc9",
   "metadata": {},
   "outputs": [],
   "source": [
    "df_vincu = pd.read_csv(\"./data/vinculacion/proyectos.csv\")"
   ]
  },
  {
   "cell_type": "code",
   "execution_count": 226,
   "id": "a7efac33",
   "metadata": {},
   "outputs": [
    {
     "name": "stdout",
     "output_type": "stream",
     "text": [
      "<class 'pandas.core.frame.DataFrame'>\n",
      "RangeIndex: 242 entries, 0 to 241\n",
      "Data columns (total 5 columns):\n",
      " #   Column          Non-Null Count  Dtype \n",
      "---  ------          --------------  ----- \n",
      " 0   NOMBREPROYECTO  242 non-null    object\n",
      " 1   ODS             242 non-null    object\n",
      " 2   ANTECEDENTES    242 non-null    object\n",
      " 3   CONTEXTO        242 non-null    object\n",
      " 4   DEFINICION      242 non-null    object\n",
      "dtypes: object(5)\n",
      "memory usage: 9.6+ KB\n"
     ]
    }
   ],
   "source": [
    "df_vincu.info()"
   ]
  },
  {
   "cell_type": "code",
   "execution_count": 227,
   "id": "4cb5ddcf",
   "metadata": {},
   "outputs": [
    {
     "data": {
      "text/html": [
       "<div>\n",
       "<style scoped>\n",
       "    .dataframe tbody tr th:only-of-type {\n",
       "        vertical-align: middle;\n",
       "    }\n",
       "\n",
       "    .dataframe tbody tr th {\n",
       "        vertical-align: top;\n",
       "    }\n",
       "\n",
       "    .dataframe thead th {\n",
       "        text-align: right;\n",
       "    }\n",
       "</style>\n",
       "<table border=\"1\" class=\"dataframe\">\n",
       "  <thead>\n",
       "    <tr style=\"text-align: right;\">\n",
       "      <th></th>\n",
       "      <th>NOMBREPROYECTO</th>\n",
       "      <th>ODS</th>\n",
       "      <th>ANTECEDENTES</th>\n",
       "      <th>CONTEXTO</th>\n",
       "      <th>DEFINICION</th>\n",
       "    </tr>\n",
       "  </thead>\n",
       "  <tbody>\n",
       "    <tr>\n",
       "      <th>0</th>\n",
       "      <td>Caracterización de playas de la comuna Libert...</td>\n",
       "      <td>14.-Conservar y utilizar sosteniblemente los o...</td>\n",
       "      <td>La Comuna Libertador Bolívar -Atravezado- está...</td>\n",
       "      <td>El uso incremental y desorganizado de las play...</td>\n",
       "      <td>El problema central es la falta de información...</td>\n",
       "    </tr>\n",
       "    <tr>\n",
       "      <th>1</th>\n",
       "      <td>Construcción Segura en tiempos de pandemia 2021</td>\n",
       "      <td>11.-Lograr que las ciudades y los asentamiento...</td>\n",
       "      <td>Como se expuso en la conferencia denominada “H...</td>\n",
       "      <td>En un levantamiento cuantitativo y cualitativo...</td>\n",
       "      <td>Falta de conocimiento y concienciación sobre l...</td>\n",
       "    </tr>\n",
       "    <tr>\n",
       "      <th>2</th>\n",
       "      <td>Modelo de sostenibilidad con el uso de plataf...</td>\n",
       "      <td>2.-Poner fin al hambre, lograr la seguridad al...</td>\n",
       "      <td>En el mes de abril del 2023, los profesores de...</td>\n",
       "      <td>El Ecuador tiene 17.3 millones de habitantes, ...</td>\n",
       "      <td>En la unidad educativa Fermín Vera Rojas y Jua...</td>\n",
       "    </tr>\n",
       "    <tr>\n",
       "      <th>3</th>\n",
       "      <td>\"Desarrollo de habilidades tecnológicas utiliz...</td>\n",
       "      <td>4.-Garantizar una educación inclusiva y equita...</td>\n",
       "      <td>El estudio socioeconómico del Recinto La Unión...</td>\n",
       "      <td>El recinto cuenta con una sola escuela fiscal,...</td>\n",
       "      <td>Debido a la falta de conocimientos básicos de ...</td>\n",
       "    </tr>\n",
       "    <tr>\n",
       "      <th>4</th>\n",
       "      <td>“Siembra, cosecha y reutilización del agua par...</td>\n",
       "      <td>6.-Garantizar la disponibilidad y la gestión s...</td>\n",
       "      <td>La estructura política en la que está dividida...</td>\n",
       "      <td>En la zona Sur de la provincia de Santa Elena,...</td>\n",
       "      <td>Entorno al contexto hidrológico de las zonas d...</td>\n",
       "    </tr>\n",
       "  </tbody>\n",
       "</table>\n",
       "</div>"
      ],
      "text/plain": [
       "                                      NOMBREPROYECTO  \\\n",
       "0   Caracterización de playas de la comuna Libert...   \n",
       "1    Construcción Segura en tiempos de pandemia 2021   \n",
       "2   Modelo de sostenibilidad con el uso de plataf...   \n",
       "3  \"Desarrollo de habilidades tecnológicas utiliz...   \n",
       "4  “Siembra, cosecha y reutilización del agua par...   \n",
       "\n",
       "                                                 ODS  \\\n",
       "0  14.-Conservar y utilizar sosteniblemente los o...   \n",
       "1  11.-Lograr que las ciudades y los asentamiento...   \n",
       "2  2.-Poner fin al hambre, lograr la seguridad al...   \n",
       "3  4.-Garantizar una educación inclusiva y equita...   \n",
       "4  6.-Garantizar la disponibilidad y la gestión s...   \n",
       "\n",
       "                                        ANTECEDENTES  \\\n",
       "0  La Comuna Libertador Bolívar -Atravezado- está...   \n",
       "1  Como se expuso en la conferencia denominada “H...   \n",
       "2  En el mes de abril del 2023, los profesores de...   \n",
       "3  El estudio socioeconómico del Recinto La Unión...   \n",
       "4  La estructura política en la que está dividida...   \n",
       "\n",
       "                                            CONTEXTO  \\\n",
       "0  El uso incremental y desorganizado de las play...   \n",
       "1  En un levantamiento cuantitativo y cualitativo...   \n",
       "2  El Ecuador tiene 17.3 millones de habitantes, ...   \n",
       "3  El recinto cuenta con una sola escuela fiscal,...   \n",
       "4  En la zona Sur de la provincia de Santa Elena,...   \n",
       "\n",
       "                                          DEFINICION  \n",
       "0  El problema central es la falta de información...  \n",
       "1  Falta de conocimiento y concienciación sobre l...  \n",
       "2  En la unidad educativa Fermín Vera Rojas y Jua...  \n",
       "3  Debido a la falta de conocimientos básicos de ...  \n",
       "4  Entorno al contexto hidrológico de las zonas d...  "
      ]
     },
     "execution_count": 227,
     "metadata": {},
     "output_type": "execute_result"
    }
   ],
   "source": [
    "df_vincu.head()"
   ]
  },
  {
   "cell_type": "code",
   "execution_count": 228,
   "id": "17798849",
   "metadata": {},
   "outputs": [
    {
     "data": {
      "text/plain": [
       "'11.-Lograr que las ciudades y los asentamientos humanos sean inclusivos, seguros, resilientes y sostenibles|9.-Construir infraestructuras resilientes, promover la industrialización inclusiva y sostenible y fomentar la innovación'"
      ]
     },
     "execution_count": 228,
     "metadata": {},
     "output_type": "execute_result"
    }
   ],
   "source": [
    "df_vincu[\"ODS\"].iloc[1]"
   ]
  },
  {
   "cell_type": "code",
   "execution_count": 229,
   "id": "2c3fa481",
   "metadata": {},
   "outputs": [],
   "source": [
    "# ---------------------------------------------------------------------------\n",
    "# Función 1: expandir_columna_ods (ACTUALIZADA para el nuevo formato)\n",
    "# ---------------------------------------------------------------------------\n",
    "def expandir_columna_ods(df_original, nombre_columna_ods='ODS'):\n",
    "    \"\"\"\n",
    "    Expande una columna que contiene múltiples Objetivos de Desarrollo Sostenible (ODS).\n",
    "    Maneja formatos como:\n",
    "    - \"NUMERO.-TEXTO|NUMERO.-TEXTO\"\n",
    "    - \"ODS: NUMERO.-TEXTO|| ODS: NUMERO.-TEXTO\"\n",
    "    - Mezclas de los anteriores.\n",
    "\n",
    "    Crea:\n",
    "    1. Una columna '{nombre_columna_ods}_numeros_lista' con una cadena de los números\n",
    "       de ODS encontrados, ordenados y separados por comas (ej: \"9, 11\").\n",
    "    2. Columnas individuales para cada ODS (ej: '{nombre_columna_ods}_9', \n",
    "       '{nombre_columna_ods}_11') que contienen el texto descriptivo del ODS\n",
    "       si está presente en la fila, o pd.NA si no.\n",
    "    \"\"\"\n",
    "    df = df_original.copy()\n",
    "    col_lista_numeros_nombre = f'{nombre_columna_ods}_numeros_lista'\n",
    "    df[col_lista_numeros_nombre] = '' # Inicializarla como cadena vacía\n",
    "\n",
    "    ods_extraidos_por_fila = [] # Lista de diccionarios [{num_str: texto_ods}, ...]\n",
    "    todos_los_numeros_ods_unicos = set()\n",
    "\n",
    "    # Patrón regex actualizado:\n",
    "    # (?:ODS:\\s*)? : Grupo opcional sin captura para \"ODS: \" seguido de espacios.\n",
    "    # (\\d+)         : Grupo 1, captura el número del ODS.\n",
    "    # \\s*\\.\\s*-\\s*  : Coincide con \".-\" rodeado de espacios opcionales.\n",
    "    # (.+)          : Grupo 2, captura el texto descriptivo del ODS.\n",
    "    patron_ods = re.compile(r\"(?:ODS:\\s*)?(\\d+)\\s*\\.\\s*-\\s*(.+)\")\n",
    "\n",
    "    for index, row in df.iterrows():\n",
    "        valor_celda_ods = row[nombre_columna_ods]\n",
    "        numeros_en_esta_fila = []\n",
    "        ods_de_esta_fila = {} \n",
    "\n",
    "        if pd.notna(valor_celda_ods) and str(valor_celda_ods).strip():\n",
    "            # Usar re.split para manejar \"||\" con espacios opcionales como separador.\n",
    "            # También maneja el caso de un solo \"|\" si ese fuera el separador en otras filas.\n",
    "            # Si solo hay un ODS, split no lo afectará negativamente.\n",
    "            partes_ods = re.split(r'\\s*\\|{1,2}\\s*', str(valor_celda_ods))\n",
    "            \n",
    "            for parte in partes_ods:\n",
    "                parte_limpia = parte.strip()\n",
    "                if not parte_limpia: # Saltar si la parte está vacía después del split\n",
    "                    continue\n",
    "                \n",
    "                match = patron_ods.match(parte_limpia)\n",
    "                if match:\n",
    "                    numero_str = match.group(1)\n",
    "                    texto_ods = match.group(2).strip()\n",
    "                    \n",
    "                    numeros_en_esta_fila.append(numero_str)\n",
    "                    ods_de_esta_fila[numero_str] = texto_ods\n",
    "                    todos_los_numeros_ods_unicos.add(numero_str)\n",
    "        \n",
    "        if numeros_en_esta_fila:\n",
    "            numeros_ordenados_unicos = sorted(list(set(numeros_en_esta_fila)), key=int)\n",
    "            df.loc[index, col_lista_numeros_nombre] = \", \".join(numeros_ordenados_unicos)\n",
    "        else:\n",
    "            # Asegurar que si no hay ODS, la columna de lista de números quede vacía o pd.NA\n",
    "            df.loc[index, col_lista_numeros_nombre] = pd.NA # O \"\" si prefieres cadena vacía\n",
    "\n",
    "        ods_extraidos_por_fila.append(ods_de_esta_fila)\n",
    "\n",
    "    # Crear las columnas individuales para cada ODS (ej. ODS_9, ODS_11)\n",
    "    numeros_ods_globales_ordenados = sorted(list(todos_los_numeros_ods_unicos), key=int)\n",
    "\n",
    "    for num_ods_str in numeros_ods_globales_ordenados:\n",
    "        nombre_nueva_columna = f'{nombre_columna_ods}_{num_ods_str}'\n",
    "        df[nombre_nueva_columna] = pd.Series([pd.NA] * len(df), dtype=object) \n",
    "\n",
    "    # Llenar las nuevas columnas ODS_X con el texto correspondiente\n",
    "    # Es importante usar el índice original del DataFrame 'df' para la asignación con .loc\n",
    "    for i, ods_fila_actual in enumerate(ods_extraidos_por_fila):\n",
    "        idx = df.index[i] # Obtener el índice original de la fila\n",
    "        for num_ods_str, texto_ods in ods_fila_actual.items():\n",
    "            nombre_columna_especifica = f'{nombre_columna_ods}_{num_ods_str}'\n",
    "            df.loc[idx, nombre_columna_especifica] = texto_ods\n",
    "            \n",
    "    return df"
   ]
  },
  {
   "cell_type": "code",
   "execution_count": 230,
   "id": "f2440cca",
   "metadata": {},
   "outputs": [],
   "source": [
    "# ---------------------------------------------------------------------------\n",
    "# Función 2: explotar_dataframe_por_ods (CORREGIDA)\n",
    "# ---------------------------------------------------------------------------\n",
    "def explotar_dataframe_por_ods(df_con_ods_expandidos, columna_con_lista_numeros, nuevo_nombre_col_ods_individual, prefijo_col_descripcion_ods):\n",
    "    \"\"\"\n",
    "    Transforma un DataFrame repitiendo filas por cada ODS individual\n",
    "    presente en una columna de lista de números de ODS. También añade la descripción correcta.\n",
    "    \"\"\"\n",
    "    df_explotado = df_con_ods_expandidos.copy()\n",
    "\n",
    "    # 1. Convertir la cadena de números de ODS en una lista de strings\n",
    "    def convertir_a_lista(cadena_numeros):\n",
    "        if pd.isna(cadena_numeros) or not str(cadena_numeros).strip():\n",
    "            return [] \n",
    "        return [num.strip() for num in str(cadena_numeros).split(',')]\n",
    "\n",
    "    df_explotado[columna_con_lista_numeros] = df_explotado[columna_con_lista_numeros].apply(convertir_a_lista)\n",
    "\n",
    "    # 2. Usar la función explode de pandas\n",
    "    # Guardar el índice original si se quiere mantener alguna referencia, aunque aquí lo resetearemos\n",
    "    df_explotado = df_explotado.explode(columna_con_lista_numeros)\n",
    "\n",
    "    # 3. Renombrar la columna que ahora contiene el ODS individual\n",
    "    df_explotado.rename(columns={columna_con_lista_numeros: nuevo_nombre_col_ods_individual}, inplace=True)\n",
    "    \n",
    "    # 4. Convertir la nueva columna de ODS a tipo numérico (entero)\n",
    "    df_explotado[nuevo_nombre_col_ods_individual] = pd.to_numeric(\n",
    "        df_explotado[nuevo_nombre_col_ods_individual], \n",
    "        errors='coerce'\n",
    "    ).astype('Int64')\n",
    "\n",
    "    # 5. Limpiar filas donde el ODS individual es NaN (debido a coerce o listas vacías originales)\n",
    "    df_explotado.dropna(subset=[nuevo_nombre_col_ods_individual], inplace=True)\n",
    "    \n",
    "    # 6. Añadir la columna con la descripción del ODS (CORREGIDO)\n",
    "    col_descripcion_final = f'{nuevo_nombre_col_ods_individual}_descripcion'\n",
    "    \n",
    "    def obtener_descripcion_correcta(row):\n",
    "        ods_num_actual = row[nuevo_nombre_col_ods_individual]\n",
    "        if pd.notna(ods_num_actual):\n",
    "            # Construir el nombre de la columna de descripción original (ej. 'ODS_9')\n",
    "            # Estas columnas (ODS_1, ODS_9, etc.) fueron copiadas por la operación 'explode'\n",
    "            # y están disponibles en 'row'.\n",
    "            columna_descripcion_original = f\"{prefijo_col_descripcion_ods}_{int(ods_num_actual)}\"\n",
    "            \n",
    "            # Verificar que la columna de descripción exista en la fila (debería)\n",
    "            # y que tenga un valor\n",
    "            if columna_descripcion_original in row.index and pd.notna(row[columna_descripcion_original]):\n",
    "                return row[columna_descripcion_original]\n",
    "        return pd.NA # Usar pd.NA para consistencia\n",
    "\n",
    "    df_explotado[col_descripcion_final] = df_explotado.apply(obtener_descripcion_correcta, axis=1)\n",
    "\n",
    "    return df_explotado.reset_index(drop=True)"
   ]
  },
  {
   "cell_type": "code",
   "execution_count": 231,
   "id": "84a03137",
   "metadata": {},
   "outputs": [],
   "source": [
    "# PASO 1: Aplicar la función de expansión de ODS (de la respuesta anterior)\n",
    "# El nombre de la columna original de ODS es 'ODS'\n",
    "df_con_ods_expandidos = expandir_columna_ods(df_vincu, nombre_columna_ods='ODS')"
   ]
  },
  {
   "cell_type": "code",
   "execution_count": 232,
   "id": "f1b70b66",
   "metadata": {},
   "outputs": [],
   "source": [
    "# df_con_ods_expandidos.head()"
   ]
  },
  {
   "cell_type": "code",
   "execution_count": 233,
   "id": "c02e9580",
   "metadata": {},
   "outputs": [],
   "source": [
    "# PASO 2: Aplicar la nueva función para explotar el DataFrame\n",
    "# - La columna con la lista de números se llama 'ODS_numeros_lista' (creada por expandir_columna_ods)\n",
    "# - Queremos que la nueva columna con el ODS individual se llame 'ODS_Numero'\n",
    "# - El prefijo para las columnas de descripción es 'ODS' (porque las columnas son ODS_1, ODS_9, etc.)\n",
    "df_final_explotado = explotar_dataframe_por_ods(\n",
    "    df_con_ods_expandidos,\n",
    "    columna_con_lista_numeros='ODS_numeros_lista',\n",
    "    nuevo_nombre_col_ods_individual='ODS_Numero',\n",
    "    prefijo_col_descripcion_ods='ODS'\n",
    ")\n",
    "\n",
    "# Opcional: Si ya no necesitas las columnas ODS_1, ODS_9, ODS_17, etc. y la columna ODS original, puedes eliminarlas.\n",
    "# Para hacerlo de forma dinámica, necesitarías identificar esas columnas.\n",
    "# Por ejemplo, todas las columnas que empiezan con \"ODS_\" y terminan en un número.\n",
    "columnas_a_eliminar = [col for col in df_final_explotado.columns if re.match(r'^ODS_\\d+$', col)]\n",
    "columnas_a_eliminar.append('ODS') # La columna original\n",
    "# También la columna 'ODS_numeros_lista' si ya no la quieres en el resultado final\n",
    "# (aunque ya fue renombrada y explotada, así que no debería estar con ese nombre)\n",
    "\n",
    "df_limpio = df_final_explotado.drop(columns=columnas_a_eliminar, errors='ignore')"
   ]
  },
  {
   "cell_type": "code",
   "execution_count": 234,
   "id": "3063d2ab",
   "metadata": {},
   "outputs": [
    {
     "data": {
      "text/plain": [
       "((242, 5), (242, 23), (569, 6))"
      ]
     },
     "execution_count": 234,
     "metadata": {},
     "output_type": "execute_result"
    }
   ],
   "source": [
    "df_vincu.shape, df_con_ods_expandidos.shape, df_limpio.shape"
   ]
  },
  {
   "cell_type": "code",
   "execution_count": 235,
   "id": "8b3609e5",
   "metadata": {},
   "outputs": [
    {
     "name": "stdout",
     "output_type": "stream",
     "text": [
      "<class 'pandas.core.frame.DataFrame'>\n",
      "RangeIndex: 569 entries, 0 to 568\n",
      "Data columns (total 6 columns):\n",
      " #   Column                  Non-Null Count  Dtype \n",
      "---  ------                  --------------  ----- \n",
      " 0   NOMBREPROYECTO          569 non-null    object\n",
      " 1   ANTECEDENTES            569 non-null    object\n",
      " 2   CONTEXTO                569 non-null    object\n",
      " 3   DEFINICION              569 non-null    object\n",
      " 4   ODS_Numero              569 non-null    Int64 \n",
      " 5   ODS_Numero_descripcion  569 non-null    object\n",
      "dtypes: Int64(1), object(5)\n",
      "memory usage: 27.4+ KB\n"
     ]
    }
   ],
   "source": [
    "df_limpio.info()"
   ]
  },
  {
   "cell_type": "code",
   "execution_count": 236,
   "id": "7bce4529",
   "metadata": {},
   "outputs": [
    {
     "data": {
      "text/html": [
       "<div>\n",
       "<style scoped>\n",
       "    .dataframe tbody tr th:only-of-type {\n",
       "        vertical-align: middle;\n",
       "    }\n",
       "\n",
       "    .dataframe tbody tr th {\n",
       "        vertical-align: top;\n",
       "    }\n",
       "\n",
       "    .dataframe thead th {\n",
       "        text-align: right;\n",
       "    }\n",
       "</style>\n",
       "<table border=\"1\" class=\"dataframe\">\n",
       "  <thead>\n",
       "    <tr style=\"text-align: right;\">\n",
       "      <th></th>\n",
       "      <th>NOMBREPROYECTO</th>\n",
       "      <th>ANTECEDENTES</th>\n",
       "      <th>CONTEXTO</th>\n",
       "      <th>DEFINICION</th>\n",
       "      <th>ODS_Numero</th>\n",
       "      <th>ODS_Numero_descripcion</th>\n",
       "    </tr>\n",
       "  </thead>\n",
       "  <tbody>\n",
       "    <tr>\n",
       "      <th>0</th>\n",
       "      <td>Caracterización de playas de la comuna Libert...</td>\n",
       "      <td>La Comuna Libertador Bolívar -Atravezado- está...</td>\n",
       "      <td>El uso incremental y desorganizado de las play...</td>\n",
       "      <td>El problema central es la falta de información...</td>\n",
       "      <td>14</td>\n",
       "      <td>Conservar y utilizar sosteniblemente los océan...</td>\n",
       "    </tr>\n",
       "    <tr>\n",
       "      <th>1</th>\n",
       "      <td>Construcción Segura en tiempos de pandemia 2021</td>\n",
       "      <td>Como se expuso en la conferencia denominada “H...</td>\n",
       "      <td>En un levantamiento cuantitativo y cualitativo...</td>\n",
       "      <td>Falta de conocimiento y concienciación sobre l...</td>\n",
       "      <td>9</td>\n",
       "      <td>Construir infraestructuras resilientes, promov...</td>\n",
       "    </tr>\n",
       "    <tr>\n",
       "      <th>2</th>\n",
       "      <td>Construcción Segura en tiempos de pandemia 2021</td>\n",
       "      <td>Como se expuso en la conferencia denominada “H...</td>\n",
       "      <td>En un levantamiento cuantitativo y cualitativo...</td>\n",
       "      <td>Falta de conocimiento y concienciación sobre l...</td>\n",
       "      <td>11</td>\n",
       "      <td>Lograr que las ciudades y los asentamientos hu...</td>\n",
       "    </tr>\n",
       "    <tr>\n",
       "      <th>3</th>\n",
       "      <td>Modelo de sostenibilidad con el uso de plataf...</td>\n",
       "      <td>En el mes de abril del 2023, los profesores de...</td>\n",
       "      <td>El Ecuador tiene 17.3 millones de habitantes, ...</td>\n",
       "      <td>En la unidad educativa Fermín Vera Rojas y Jua...</td>\n",
       "      <td>2</td>\n",
       "      <td>Poner fin al hambre, lograr la seguridad alime...</td>\n",
       "    </tr>\n",
       "    <tr>\n",
       "      <th>4</th>\n",
       "      <td>Modelo de sostenibilidad con el uso de plataf...</td>\n",
       "      <td>En el mes de abril del 2023, los profesores de...</td>\n",
       "      <td>El Ecuador tiene 17.3 millones de habitantes, ...</td>\n",
       "      <td>En la unidad educativa Fermín Vera Rojas y Jua...</td>\n",
       "      <td>3</td>\n",
       "      <td>Garantizar una vida sana y promover el bienest...</td>\n",
       "    </tr>\n",
       "  </tbody>\n",
       "</table>\n",
       "</div>"
      ],
      "text/plain": [
       "                                      NOMBREPROYECTO  \\\n",
       "0   Caracterización de playas de la comuna Libert...   \n",
       "1    Construcción Segura en tiempos de pandemia 2021   \n",
       "2    Construcción Segura en tiempos de pandemia 2021   \n",
       "3   Modelo de sostenibilidad con el uso de plataf...   \n",
       "4   Modelo de sostenibilidad con el uso de plataf...   \n",
       "\n",
       "                                        ANTECEDENTES  \\\n",
       "0  La Comuna Libertador Bolívar -Atravezado- está...   \n",
       "1  Como se expuso en la conferencia denominada “H...   \n",
       "2  Como se expuso en la conferencia denominada “H...   \n",
       "3  En el mes de abril del 2023, los profesores de...   \n",
       "4  En el mes de abril del 2023, los profesores de...   \n",
       "\n",
       "                                            CONTEXTO  \\\n",
       "0  El uso incremental y desorganizado de las play...   \n",
       "1  En un levantamiento cuantitativo y cualitativo...   \n",
       "2  En un levantamiento cuantitativo y cualitativo...   \n",
       "3  El Ecuador tiene 17.3 millones de habitantes, ...   \n",
       "4  El Ecuador tiene 17.3 millones de habitantes, ...   \n",
       "\n",
       "                                          DEFINICION  ODS_Numero  \\\n",
       "0  El problema central es la falta de información...          14   \n",
       "1  Falta de conocimiento y concienciación sobre l...           9   \n",
       "2  Falta de conocimiento y concienciación sobre l...          11   \n",
       "3  En la unidad educativa Fermín Vera Rojas y Jua...           2   \n",
       "4  En la unidad educativa Fermín Vera Rojas y Jua...           3   \n",
       "\n",
       "                              ODS_Numero_descripcion  \n",
       "0  Conservar y utilizar sosteniblemente los océan...  \n",
       "1  Construir infraestructuras resilientes, promov...  \n",
       "2  Lograr que las ciudades y los asentamientos hu...  \n",
       "3  Poner fin al hambre, lograr la seguridad alime...  \n",
       "4  Garantizar una vida sana y promover el bienest...  "
      ]
     },
     "execution_count": 236,
     "metadata": {},
     "output_type": "execute_result"
    }
   ],
   "source": [
    "# df_final_explotado[['ID_proyecto', 'Otra_Columna', 'ODS_Numero', 'ODS_Numero_descripcion']]\n",
    "# df_limpio[df_limpio[\"NOMBREPROYECTO\"] == \"Viviendas Seguras y Resilientes 2023\"]\n",
    "df_limpio.head()"
   ]
  },
  {
   "cell_type": "markdown",
   "id": "e166da73",
   "metadata": {},
   "source": [
    "### Integradora"
   ]
  },
  {
   "cell_type": "code",
   "execution_count": 237,
   "id": "b40d83fc",
   "metadata": {},
   "outputs": [
    {
     "name": "stdout",
     "output_type": "stream",
     "text": [
      "2020 (843, 19)\n",
      "2020 (839, 19)\n",
      "2021 (792, 19)\n",
      "2021 (715, 19)\n",
      "2022 (828, 19)\n",
      "2022 (710, 19)\n",
      "2023 (767, 19)\n",
      "2023 (726, 19)\n",
      "2024 (699, 19)\n",
      "2024 (685, 19)\n"
     ]
    }
   ],
   "source": [
    "step = 1\n",
    "for file in glob.glob(\"./data/integradora/*.csv\"):\n",
    "    df = pd.read_csv(file,delimiter=',')\n",
    "    año = int(file.split(\"\\\\\")[-1][:4])\n",
    "    df[\"año\"] = año\n",
    "    print(año, df.shape)\n",
    "\n",
    "    if step: \n",
    "        step = 0\n",
    "        big_df = df.copy()\n",
    "    else:\n",
    "        big_df = pd.concat([big_df, df], ignore_index=True)"
   ]
  },
  {
   "cell_type": "code",
   "execution_count": 238,
   "id": "d991e197",
   "metadata": {},
   "outputs": [
    {
     "name": "stdout",
     "output_type": "stream",
     "text": [
      "<class 'pandas.core.frame.DataFrame'>\n",
      "RangeIndex: 7604 entries, 0 to 7603\n",
      "Data columns (total 19 columns):\n",
      " #   Column                             Non-Null Count  Dtype \n",
      "---  ------                             --------------  ----- \n",
      " 0   PROFESOR                           7604 non-null   object\n",
      " 1   PARALELO                           7604 non-null   int64 \n",
      " 2   FECHAINICIO                        7604 non-null   object\n",
      " 3   FECHAFIN                           7604 non-null   object\n",
      " 4   CODESTUDIANTE                      7604 non-null   int64 \n",
      " 5   NOMBRECOMPLETOS                    7604 non-null   object\n",
      " 6   CODIGO_PROYECTO                    7604 non-null   object\n",
      " 7   PROYECTO                           7604 non-null   object\n",
      " 8   PROBLEMA                           7604 non-null   object\n",
      " 9   IMPACTO                            7604 non-null   object\n",
      " 10  CARRERA                            7604 non-null   object\n",
      " 11  UNIDAD                             7604 non-null   object\n",
      " 12  ODS                                7372 non-null   object\n",
      " 13  NOMBRE_CONTACTO_EMPRESA_CLIENTE    7600 non-null   object\n",
      " 14  EMPRESA_CLIENTE                    7591 non-null   object\n",
      " 15  TIPO_EMPRESA_EXTERNA               7604 non-null   object\n",
      " 16  TELEFONO_CONTACTO_EMPRESA_CLIENTE  7582 non-null   object\n",
      " 17  FECHA_REGISTRO                     7454 non-null   object\n",
      " 18  año                                7604 non-null   int64 \n",
      "dtypes: int64(3), object(16)\n",
      "memory usage: 1.1+ MB\n"
     ]
    }
   ],
   "source": [
    "big_df.info()"
   ]
  },
  {
   "cell_type": "code",
   "execution_count": 239,
   "id": "72f71ff4",
   "metadata": {},
   "outputs": [
    {
     "data": {
      "text/plain": [
       "'ODS: 9.-Construir infraestructuras resilientes, promover la industrialización inclusiva y sostenible y fomentar la innovación|| ODS: 14.-Conservar y utilizar sosteniblemente los océanos, los mares y los recursos marinos para el desarrollo sostenible'"
      ]
     },
     "execution_count": 239,
     "metadata": {},
     "output_type": "execute_result"
    }
   ],
   "source": [
    "big_df[\"ODS\"].iloc[0]#[[\"PROYECTO\", \"ODS\", \"PROBLEMA\"]].head()"
   ]
  },
  {
   "cell_type": "code",
   "execution_count": 240,
   "id": "121bc77f",
   "metadata": {},
   "outputs": [],
   "source": [
    "big_df_con_ods_expandidos = expandir_columna_ods(big_df, nombre_columna_ods='ODS')"
   ]
  },
  {
   "cell_type": "code",
   "execution_count": 241,
   "id": "db124e94",
   "metadata": {},
   "outputs": [
    {
     "data": {
      "text/html": [
       "<div>\n",
       "<style scoped>\n",
       "    .dataframe tbody tr th:only-of-type {\n",
       "        vertical-align: middle;\n",
       "    }\n",
       "\n",
       "    .dataframe tbody tr th {\n",
       "        vertical-align: top;\n",
       "    }\n",
       "\n",
       "    .dataframe thead th {\n",
       "        text-align: right;\n",
       "    }\n",
       "</style>\n",
       "<table border=\"1\" class=\"dataframe\">\n",
       "  <thead>\n",
       "    <tr style=\"text-align: right;\">\n",
       "      <th></th>\n",
       "      <th>PROFESOR</th>\n",
       "      <th>PARALELO</th>\n",
       "      <th>FECHAINICIO</th>\n",
       "      <th>FECHAFIN</th>\n",
       "      <th>CODESTUDIANTE</th>\n",
       "      <th>NOMBRECOMPLETOS</th>\n",
       "      <th>CODIGO_PROYECTO</th>\n",
       "      <th>PROYECTO</th>\n",
       "      <th>PROBLEMA</th>\n",
       "      <th>IMPACTO</th>\n",
       "      <th>CARRERA</th>\n",
       "      <th>UNIDAD</th>\n",
       "      <th>ODS</th>\n",
       "      <th>NOMBRE_CONTACTO_EMPRESA_CLIENTE</th>\n",
       "      <th>EMPRESA_CLIENTE</th>\n",
       "      <th>TIPO_EMPRESA_EXTERNA</th>\n",
       "      <th>TELEFONO_CONTACTO_EMPRESA_CLIENTE</th>\n",
       "      <th>FECHA_REGISTRO</th>\n",
       "      <th>año</th>\n",
       "      <th>ODS_numeros_lista</th>\n",
       "      <th>ODS_1</th>\n",
       "      <th>ODS_2</th>\n",
       "      <th>ODS_3</th>\n",
       "      <th>ODS_4</th>\n",
       "      <th>ODS_5</th>\n",
       "      <th>ODS_6</th>\n",
       "      <th>ODS_7</th>\n",
       "      <th>ODS_8</th>\n",
       "      <th>ODS_9</th>\n",
       "      <th>ODS_10</th>\n",
       "      <th>ODS_11</th>\n",
       "      <th>ODS_12</th>\n",
       "      <th>ODS_13</th>\n",
       "      <th>ODS_14</th>\n",
       "      <th>ODS_15</th>\n",
       "      <th>ODS_16</th>\n",
       "      <th>ODS_17</th>\n",
       "    </tr>\n",
       "  </thead>\n",
       "  <tbody>\n",
       "    <tr>\n",
       "      <th>0</th>\n",
       "      <td>MUÑOZ AGILA NADIA ROSENDA</td>\n",
       "      <td>1</td>\n",
       "      <td>2020-05-18</td>\n",
       "      <td>2020-09-25</td>\n",
       "      <td>201300237</td>\n",
       "      <td>ONOFRE VALERO MIGUEL ANGEL</td>\n",
       "      <td>INGE-626</td>\n",
       "      <td>Optimización estructural basada en las normas ...</td>\n",
       "      <td>&amp;lt;p&amp;gt;El principal medio de transporte inte...</td>\n",
       "      <td>&amp;lt;p&amp;gt;&amp;lt;/p&amp;gt;\\r\\n\\r\\n&amp;lt;p style=\"margin...</td>\n",
       "      <td>-</td>\n",
       "      <td>-</td>\n",
       "      <td>ODS: 9.-Construir infraestructuras resilientes...</td>\n",
       "      <td>Jaime Sánchez</td>\n",
       "      <td>Cooperativa de Transporte Marítimo y de Turism...</td>\n",
       "      <td>EMPRESA PRIVADA</td>\n",
       "      <td>-</td>\n",
       "      <td>2020-05-26-10.38.34.284912</td>\n",
       "      <td>2020</td>\n",
       "      <td>9, 14</td>\n",
       "      <td>&lt;NA&gt;</td>\n",
       "      <td>&lt;NA&gt;</td>\n",
       "      <td>&lt;NA&gt;</td>\n",
       "      <td>&lt;NA&gt;</td>\n",
       "      <td>&lt;NA&gt;</td>\n",
       "      <td>&lt;NA&gt;</td>\n",
       "      <td>&lt;NA&gt;</td>\n",
       "      <td>&lt;NA&gt;</td>\n",
       "      <td>Construir infraestructuras resilientes, promov...</td>\n",
       "      <td>&lt;NA&gt;</td>\n",
       "      <td>&lt;NA&gt;</td>\n",
       "      <td>&lt;NA&gt;</td>\n",
       "      <td>&lt;NA&gt;</td>\n",
       "      <td>Conservar y utilizar sosteniblemente los océan...</td>\n",
       "      <td>&lt;NA&gt;</td>\n",
       "      <td>&lt;NA&gt;</td>\n",
       "      <td>&lt;NA&gt;</td>\n",
       "    </tr>\n",
       "    <tr>\n",
       "      <th>1</th>\n",
       "      <td>MUÑOZ AGILA NADIA ROSENDA</td>\n",
       "      <td>1</td>\n",
       "      <td>2020-05-18</td>\n",
       "      <td>2020-09-25</td>\n",
       "      <td>201501088</td>\n",
       "      <td>QUINTUÑA RODRIGUEZ MARIA TADEA</td>\n",
       "      <td>INGE-795</td>\n",
       "      <td>Caracterización numérica de los efectos de sup...</td>\n",
       "      <td>&amp;lt;p&amp;gt;&amp;lt;/p&amp;gt;\\r\\n\\r\\n&amp;lt;p&amp;gt;Los submar...</td>\n",
       "      <td>&amp;lt;p&amp;gt;&amp;lt;/p&amp;gt;\\r\\n\\r\\n&amp;lt;p&amp;gt;&amp;lt;/p&amp;gt;...</td>\n",
       "      <td>-</td>\n",
       "      <td>-</td>\n",
       "      <td>ODS: 9.-Construir infraestructuras resilientes...</td>\n",
       "      <td>Rafael Coba</td>\n",
       "      <td>Armada del Ecuador</td>\n",
       "      <td>ESTADO</td>\n",
       "      <td>0980036555</td>\n",
       "      <td>2020-05-26-10.38.48.287679</td>\n",
       "      <td>2020</td>\n",
       "      <td>9</td>\n",
       "      <td>&lt;NA&gt;</td>\n",
       "      <td>&lt;NA&gt;</td>\n",
       "      <td>&lt;NA&gt;</td>\n",
       "      <td>&lt;NA&gt;</td>\n",
       "      <td>&lt;NA&gt;</td>\n",
       "      <td>&lt;NA&gt;</td>\n",
       "      <td>&lt;NA&gt;</td>\n",
       "      <td>&lt;NA&gt;</td>\n",
       "      <td>Construir infraestructuras resilientes, promov...</td>\n",
       "      <td>&lt;NA&gt;</td>\n",
       "      <td>&lt;NA&gt;</td>\n",
       "      <td>&lt;NA&gt;</td>\n",
       "      <td>&lt;NA&gt;</td>\n",
       "      <td>&lt;NA&gt;</td>\n",
       "      <td>&lt;NA&gt;</td>\n",
       "      <td>&lt;NA&gt;</td>\n",
       "      <td>&lt;NA&gt;</td>\n",
       "    </tr>\n",
       "    <tr>\n",
       "      <th>2</th>\n",
       "      <td>MUÑOZ AGILA NADIA ROSENDA</td>\n",
       "      <td>1</td>\n",
       "      <td>2020-05-18</td>\n",
       "      <td>2020-09-25</td>\n",
       "      <td>201415708</td>\n",
       "      <td>VASQUEZ CEVALLOS ERICKA KATIUSKA</td>\n",
       "      <td>INGE-625</td>\n",
       "      <td>Evaluación de eficiencia energética de dos emb...</td>\n",
       "      <td>&amp;lt;p&amp;gt;En las &amp;amp;uacute;ltimas tres d&amp;amp;...</td>\n",
       "      <td>&amp;lt;p&amp;gt;A trav&amp;amp;eacute;s del proceso de ev...</td>\n",
       "      <td>-</td>\n",
       "      <td>-</td>\n",
       "      <td>ODS: 12.-Garantizar modalidades de consumo y p...</td>\n",
       "      <td>Jaime Sánchez, Gerente de Cooperativa Transmar...</td>\n",
       "      <td>Cooperativa de Transporte Marítimo y de Turism...</td>\n",
       "      <td>EMPRESA PRIVADA</td>\n",
       "      <td>0991505704</td>\n",
       "      <td>2020-05-26-10.38.44.501715</td>\n",
       "      <td>2020</td>\n",
       "      <td>12, 13, 14</td>\n",
       "      <td>&lt;NA&gt;</td>\n",
       "      <td>&lt;NA&gt;</td>\n",
       "      <td>&lt;NA&gt;</td>\n",
       "      <td>&lt;NA&gt;</td>\n",
       "      <td>&lt;NA&gt;</td>\n",
       "      <td>&lt;NA&gt;</td>\n",
       "      <td>&lt;NA&gt;</td>\n",
       "      <td>&lt;NA&gt;</td>\n",
       "      <td>&lt;NA&gt;</td>\n",
       "      <td>&lt;NA&gt;</td>\n",
       "      <td>&lt;NA&gt;</td>\n",
       "      <td>Garantizar modalidades de consumo y producción...</td>\n",
       "      <td>Adoptar medidas urgentes para combatir el camb...</td>\n",
       "      <td>Conservar y utilizar sosteniblemente los océan...</td>\n",
       "      <td>&lt;NA&gt;</td>\n",
       "      <td>&lt;NA&gt;</td>\n",
       "      <td>&lt;NA&gt;</td>\n",
       "    </tr>\n",
       "    <tr>\n",
       "      <th>3</th>\n",
       "      <td>MUÑOZ AGILA NADIA ROSENDA</td>\n",
       "      <td>1</td>\n",
       "      <td>2020-05-18</td>\n",
       "      <td>2020-09-25</td>\n",
       "      <td>201408218</td>\n",
       "      <td>VENEGAS SILVERIO CESAR HUMBERTO</td>\n",
       "      <td>INGE-626</td>\n",
       "      <td>Optimización estructural basada en las normas ...</td>\n",
       "      <td>&amp;lt;p&amp;gt;El principal medio de transporte inte...</td>\n",
       "      <td>&amp;lt;p&amp;gt;&amp;lt;/p&amp;gt;\\r\\n\\r\\n&amp;lt;p style=\"margin...</td>\n",
       "      <td>-</td>\n",
       "      <td>-</td>\n",
       "      <td>ODS: 9.-Construir infraestructuras resilientes...</td>\n",
       "      <td>Jaime Sánchez</td>\n",
       "      <td>Cooperativa de Transporte Marítimo y de Turism...</td>\n",
       "      <td>EMPRESA PRIVADA</td>\n",
       "      <td>-</td>\n",
       "      <td>2020-05-26-10.38.31.442409</td>\n",
       "      <td>2020</td>\n",
       "      <td>9, 14</td>\n",
       "      <td>&lt;NA&gt;</td>\n",
       "      <td>&lt;NA&gt;</td>\n",
       "      <td>&lt;NA&gt;</td>\n",
       "      <td>&lt;NA&gt;</td>\n",
       "      <td>&lt;NA&gt;</td>\n",
       "      <td>&lt;NA&gt;</td>\n",
       "      <td>&lt;NA&gt;</td>\n",
       "      <td>&lt;NA&gt;</td>\n",
       "      <td>Construir infraestructuras resilientes, promov...</td>\n",
       "      <td>&lt;NA&gt;</td>\n",
       "      <td>&lt;NA&gt;</td>\n",
       "      <td>&lt;NA&gt;</td>\n",
       "      <td>&lt;NA&gt;</td>\n",
       "      <td>Conservar y utilizar sosteniblemente los océan...</td>\n",
       "      <td>&lt;NA&gt;</td>\n",
       "      <td>&lt;NA&gt;</td>\n",
       "      <td>&lt;NA&gt;</td>\n",
       "    </tr>\n",
       "    <tr>\n",
       "      <th>4</th>\n",
       "      <td>MUÑOZ AGILA NADIA ROSENDA</td>\n",
       "      <td>1</td>\n",
       "      <td>2020-05-18</td>\n",
       "      <td>2020-09-25</td>\n",
       "      <td>201301216</td>\n",
       "      <td>VILLAMARIN GARCIA EDGAR GONZALO</td>\n",
       "      <td>INGE-627</td>\n",
       "      <td>Propuesta de mejora del comportamiento dinámic...</td>\n",
       "      <td>&amp;lt;p style=\"margin-left:0cm; margin-right:0cm...</td>\n",
       "      <td>&amp;lt;p style=\"margin-left:0cm; margin-right:0cm...</td>\n",
       "      <td>-</td>\n",
       "      <td>-</td>\n",
       "      <td>ODS: 9.-Construir infraestructuras resilientes...</td>\n",
       "      <td>Jaime Sánchez</td>\n",
       "      <td>TRANSMARTISA</td>\n",
       "      <td>EMPRESA PRIVADA</td>\n",
       "      <td>-</td>\n",
       "      <td>2020-05-26-10.38.39.585583</td>\n",
       "      <td>2020</td>\n",
       "      <td>9, 14</td>\n",
       "      <td>&lt;NA&gt;</td>\n",
       "      <td>&lt;NA&gt;</td>\n",
       "      <td>&lt;NA&gt;</td>\n",
       "      <td>&lt;NA&gt;</td>\n",
       "      <td>&lt;NA&gt;</td>\n",
       "      <td>&lt;NA&gt;</td>\n",
       "      <td>&lt;NA&gt;</td>\n",
       "      <td>&lt;NA&gt;</td>\n",
       "      <td>Construir infraestructuras resilientes, promov...</td>\n",
       "      <td>&lt;NA&gt;</td>\n",
       "      <td>&lt;NA&gt;</td>\n",
       "      <td>&lt;NA&gt;</td>\n",
       "      <td>&lt;NA&gt;</td>\n",
       "      <td>Conservar y utilizar sosteniblemente los océan...</td>\n",
       "      <td>&lt;NA&gt;</td>\n",
       "      <td>&lt;NA&gt;</td>\n",
       "      <td>&lt;NA&gt;</td>\n",
       "    </tr>\n",
       "  </tbody>\n",
       "</table>\n",
       "</div>"
      ],
      "text/plain": [
       "                    PROFESOR  PARALELO FECHAINICIO    FECHAFIN  CODESTUDIANTE  \\\n",
       "0  MUÑOZ AGILA NADIA ROSENDA         1  2020-05-18  2020-09-25      201300237   \n",
       "1  MUÑOZ AGILA NADIA ROSENDA         1  2020-05-18  2020-09-25      201501088   \n",
       "2  MUÑOZ AGILA NADIA ROSENDA         1  2020-05-18  2020-09-25      201415708   \n",
       "3  MUÑOZ AGILA NADIA ROSENDA         1  2020-05-18  2020-09-25      201408218   \n",
       "4  MUÑOZ AGILA NADIA ROSENDA         1  2020-05-18  2020-09-25      201301216   \n",
       "\n",
       "                    NOMBRECOMPLETOS CODIGO_PROYECTO  \\\n",
       "0        ONOFRE VALERO MIGUEL ANGEL        INGE-626   \n",
       "1    QUINTUÑA RODRIGUEZ MARIA TADEA        INGE-795   \n",
       "2  VASQUEZ CEVALLOS ERICKA KATIUSKA        INGE-625   \n",
       "3   VENEGAS SILVERIO CESAR HUMBERTO        INGE-626   \n",
       "4   VILLAMARIN GARCIA EDGAR GONZALO        INGE-627   \n",
       "\n",
       "                                            PROYECTO  \\\n",
       "0  Optimización estructural basada en las normas ...   \n",
       "1  Caracterización numérica de los efectos de sup...   \n",
       "2  Evaluación de eficiencia energética de dos emb...   \n",
       "3  Optimización estructural basada en las normas ...   \n",
       "4  Propuesta de mejora del comportamiento dinámic...   \n",
       "\n",
       "                                            PROBLEMA  \\\n",
       "0  &lt;p&gt;El principal medio de transporte inte...   \n",
       "1  &lt;p&gt;&lt;/p&gt;\\r\\n\\r\\n&lt;p&gt;Los submar...   \n",
       "2  &lt;p&gt;En las &amp;uacute;ltimas tres d&amp;...   \n",
       "3  &lt;p&gt;El principal medio de transporte inte...   \n",
       "4  &lt;p style=\"margin-left:0cm; margin-right:0cm...   \n",
       "\n",
       "                                             IMPACTO CARRERA UNIDAD  \\\n",
       "0  &lt;p&gt;&lt;/p&gt;\\r\\n\\r\\n&lt;p style=\"margin...       -      -   \n",
       "1  &lt;p&gt;&lt;/p&gt;\\r\\n\\r\\n&lt;p&gt;&lt;/p&gt;...       -      -   \n",
       "2  &lt;p&gt;A trav&amp;eacute;s del proceso de ev...       -      -   \n",
       "3  &lt;p&gt;&lt;/p&gt;\\r\\n\\r\\n&lt;p style=\"margin...       -      -   \n",
       "4  &lt;p style=\"margin-left:0cm; margin-right:0cm...       -      -   \n",
       "\n",
       "                                                 ODS  \\\n",
       "0  ODS: 9.-Construir infraestructuras resilientes...   \n",
       "1  ODS: 9.-Construir infraestructuras resilientes...   \n",
       "2  ODS: 12.-Garantizar modalidades de consumo y p...   \n",
       "3  ODS: 9.-Construir infraestructuras resilientes...   \n",
       "4  ODS: 9.-Construir infraestructuras resilientes...   \n",
       "\n",
       "                     NOMBRE_CONTACTO_EMPRESA_CLIENTE  \\\n",
       "0                                      Jaime Sánchez   \n",
       "1                                        Rafael Coba   \n",
       "2  Jaime Sánchez, Gerente de Cooperativa Transmar...   \n",
       "3                                      Jaime Sánchez   \n",
       "4                                      Jaime Sánchez   \n",
       "\n",
       "                                     EMPRESA_CLIENTE TIPO_EMPRESA_EXTERNA  \\\n",
       "0  Cooperativa de Transporte Marítimo y de Turism...      EMPRESA PRIVADA   \n",
       "1                                 Armada del Ecuador               ESTADO   \n",
       "2  Cooperativa de Transporte Marítimo y de Turism...      EMPRESA PRIVADA   \n",
       "3  Cooperativa de Transporte Marítimo y de Turism...      EMPRESA PRIVADA   \n",
       "4                                       TRANSMARTISA      EMPRESA PRIVADA   \n",
       "\n",
       "  TELEFONO_CONTACTO_EMPRESA_CLIENTE              FECHA_REGISTRO   año  \\\n",
       "0                                 -  2020-05-26-10.38.34.284912  2020   \n",
       "1                        0980036555  2020-05-26-10.38.48.287679  2020   \n",
       "2                        0991505704  2020-05-26-10.38.44.501715  2020   \n",
       "3                                 -  2020-05-26-10.38.31.442409  2020   \n",
       "4                                 -  2020-05-26-10.38.39.585583  2020   \n",
       "\n",
       "  ODS_numeros_lista ODS_1 ODS_2 ODS_3 ODS_4 ODS_5 ODS_6 ODS_7 ODS_8  \\\n",
       "0             9, 14  <NA>  <NA>  <NA>  <NA>  <NA>  <NA>  <NA>  <NA>   \n",
       "1                 9  <NA>  <NA>  <NA>  <NA>  <NA>  <NA>  <NA>  <NA>   \n",
       "2        12, 13, 14  <NA>  <NA>  <NA>  <NA>  <NA>  <NA>  <NA>  <NA>   \n",
       "3             9, 14  <NA>  <NA>  <NA>  <NA>  <NA>  <NA>  <NA>  <NA>   \n",
       "4             9, 14  <NA>  <NA>  <NA>  <NA>  <NA>  <NA>  <NA>  <NA>   \n",
       "\n",
       "                                               ODS_9 ODS_10 ODS_11  \\\n",
       "0  Construir infraestructuras resilientes, promov...   <NA>   <NA>   \n",
       "1  Construir infraestructuras resilientes, promov...   <NA>   <NA>   \n",
       "2                                               <NA>   <NA>   <NA>   \n",
       "3  Construir infraestructuras resilientes, promov...   <NA>   <NA>   \n",
       "4  Construir infraestructuras resilientes, promov...   <NA>   <NA>   \n",
       "\n",
       "                                              ODS_12  \\\n",
       "0                                               <NA>   \n",
       "1                                               <NA>   \n",
       "2  Garantizar modalidades de consumo y producción...   \n",
       "3                                               <NA>   \n",
       "4                                               <NA>   \n",
       "\n",
       "                                              ODS_13  \\\n",
       "0                                               <NA>   \n",
       "1                                               <NA>   \n",
       "2  Adoptar medidas urgentes para combatir el camb...   \n",
       "3                                               <NA>   \n",
       "4                                               <NA>   \n",
       "\n",
       "                                              ODS_14 ODS_15 ODS_16 ODS_17  \n",
       "0  Conservar y utilizar sosteniblemente los océan...   <NA>   <NA>   <NA>  \n",
       "1                                               <NA>   <NA>   <NA>   <NA>  \n",
       "2  Conservar y utilizar sosteniblemente los océan...   <NA>   <NA>   <NA>  \n",
       "3  Conservar y utilizar sosteniblemente los océan...   <NA>   <NA>   <NA>  \n",
       "4  Conservar y utilizar sosteniblemente los océan...   <NA>   <NA>   <NA>  "
      ]
     },
     "execution_count": 241,
     "metadata": {},
     "output_type": "execute_result"
    }
   ],
   "source": [
    "big_df_con_ods_expandidos.head()"
   ]
  },
  {
   "cell_type": "code",
   "execution_count": 242,
   "id": "2efa053c",
   "metadata": {},
   "outputs": [],
   "source": [
    "# PASO 2: Aplicar la nueva función para explotar el DataFrame\n",
    "# - La columna con la lista de números se llama 'ODS_numeros_lista' (creada por expandir_columna_ods)\n",
    "# - Queremos que la nueva columna con el ODS individual se llame 'ODS_Numero'\n",
    "# - El prefijo para las columnas de descripción es 'ODS' (porque las columnas son ODS_1, ODS_9, etc.)\n",
    "big_df_final_explotado = explotar_dataframe_por_ods(\n",
    "    big_df_con_ods_expandidos,\n",
    "    columna_con_lista_numeros='ODS_numeros_lista',\n",
    "    nuevo_nombre_col_ods_individual='ODS_Numero',\n",
    "    prefijo_col_descripcion_ods='ODS'\n",
    ")\n",
    "\n",
    "# Opcional: Si ya no necesitas las columnas ODS_1, ODS_9, ODS_17, etc. y la columna ODS original, puedes eliminarlas.\n",
    "# Para hacerlo de forma dinámica, necesitarías identificar esas columnas.\n",
    "# Por ejemplo, todas las columnas que empiezan con \"ODS_\" y terminan en un número.\n",
    "columnas_a_eliminar = [col for col in big_df_final_explotado.columns if re.match(r'^ODS_\\d+$', col)]\n",
    "columnas_a_eliminar.append('ODS') # La columna original\n",
    "# También la columna 'ODS_numeros_lista' si ya no la quieres en el resultado final\n",
    "# (aunque ya fue renombrada y explotada, así que no debería estar con ese nombre)\n",
    "\n",
    "big_df_limpio = big_df_final_explotado.drop(columns=columnas_a_eliminar, errors='ignore')"
   ]
  },
  {
   "cell_type": "code",
   "execution_count": 243,
   "id": "61ac04f4",
   "metadata": {},
   "outputs": [],
   "source": [
    "def limpiar_html_a_texto(html_content):\n",
    "    \"\"\"\n",
    "    Limpia una cadena de texto que contiene HTML, eliminando etiquetas,\n",
    "    decodificando entidades y normalizando espacios para obtener texto plano.\n",
    "    Versión corregida para asegurar la decodificación antes del parseo.\n",
    "    \"\"\"\n",
    "    if pd.isna(html_content) or not str(html_content).strip():\n",
    "        return \"\" \n",
    "\n",
    "    # Primero, decodificar cualquier entidad HTML en la cadena completa. '&lt;p&gt;' a '<p>'.\n",
    "    try:\n",
    "        texto_decodificado_inicial = html.unescape(str(html_content))\n",
    "    except Exception:\n",
    "        # En caso improbable de que unescape falle, usar el string original.\n",
    "        texto_decodificado_inicial = str(html_content)\n",
    "\n",
    "    # Ahora, usar BeautifulSoup para parsear el HTML (<, > literales)\n",
    "    soup = BeautifulSoup(texto_decodificado_inicial, \"html.parser\")\n",
    "    texto_extraido = soup.get_text(separator=\" \")\n",
    "\n",
    "    # un unescape final sobre el texto extraído ayudar con entidades que ESTUVIERAN DENTRO\n",
    "    # del contenido de texto y no fueran parte de las etiquetas.\n",
    "    texto_final_decodificado = html.unescape(texto_extraido)\n",
    "    \n",
    "    # Normalizar espacios en blanco y caracteres especiales como \\xa0 (non-breaking space).\n",
    "    texto_normalizado = texto_final_decodificado.replace('\\xa0', ' ')\n",
    "    texto_normalizado = re.sub(r'\\s+', ' ', texto_normalizado)\n",
    "    \n",
    "    # Eliminar espacios al inicio y al final del texto resultante.\n",
    "    return texto_normalizado.strip()"
   ]
  },
  {
   "cell_type": "code",
   "execution_count": 244,
   "id": "2f547d98",
   "metadata": {},
   "outputs": [],
   "source": [
    "big_df_limpio_cp = big_df_limpio.copy()"
   ]
  },
  {
   "cell_type": "code",
   "execution_count": 245,
   "id": "d121052d",
   "metadata": {},
   "outputs": [
    {
     "data": {
      "text/plain": [
       "'&lt;p&gt;&lt;/p&gt;\\r\\n\\r\\n&lt;p style=\"margin-left:0cm; margin-right:0cm\"&gt;Dado a que el objetivo principal del proyecto es minimizar el peso estructural de una lancha planeadora lo cual implica posible ahorro en costos de construcci&amp;oacute;n, materiales, operaci&amp;oacute;n y mantenimiento; adem&amp;aacute;s una reducci&amp;oacute;n significativa de peso equivale a necesitar menor potencia propulsiva para alcanzar la velocidad de dise&amp;ntilde;o lo que conlleva a un menor costo en equipos de propulsi&amp;oacute;n se puede implementar el proceso al dise&amp;ntilde;o de este tipo de lanchas y conseguir un ahorro considerable en la inversi&amp;oacute;n inicial. Adem&amp;aacute;s, si al proceso de optimizaci&amp;oacute;n desarrollado en este proyecto se le complementa con estudios similares que optimicen otros aspectos importantes como el comportamiento en la mar y resistencia al avance debido a las formas del casco su puede patentar el dise&amp;ntilde;o final con el prop&amp;oacute;sito de ofrecerlo a las principales empresas dedicadas a la construcci&amp;oacute;n naval a nivel nacional e internacional. Adicionalmente, al utilizar la norma ISO 12215 para el dise&amp;ntilde;o de embarcaciones menores como requerimientos m&amp;iacute;nimos del dise&amp;ntilde;o estructural del proyecto se obtuvieron conocimientos del proceso de implementaci&amp;oacute;n de esta norma de modo que existe la opci&amp;oacute;n de ofrecer consultor&amp;iacute;as o talleres a personas interesadas que supervisa la construcci&amp;oacute;n naval en los peque&amp;ntilde;os astilleros nacionales para el correcto proceso durante la construcci&amp;oacute;n de embarcaciones menores.\\xa0&lt;/p&gt;\\r\\n\\r\\n&lt;p&gt;&lt;/p&gt;\\r\\n'"
      ]
     },
     "execution_count": 245,
     "metadata": {},
     "output_type": "execute_result"
    }
   ],
   "source": [
    "big_df_limpio_cp[\"IMPACTO\"].iloc[0]"
   ]
  },
  {
   "cell_type": "code",
   "execution_count": 246,
   "id": "16f1fa62",
   "metadata": {},
   "outputs": [],
   "source": [
    "big_df_limpio_cp['IMPACTO_limpio'] = big_df_limpio_cp['IMPACTO'].apply(limpiar_html_a_texto)\n",
    "big_df_limpio_cp['PROBLEMA_limpio'] = big_df_limpio_cp['PROBLEMA'].apply(limpiar_html_a_texto)"
   ]
  },
  {
   "cell_type": "code",
   "execution_count": 247,
   "id": "f7e54d18",
   "metadata": {},
   "outputs": [
    {
     "data": {
      "text/plain": [
       "'Dado a que el objetivo principal del proyecto es minimizar el peso estructural de una lancha planeadora lo cual implica posible ahorro en costos de construcción, materiales, operación y mantenimiento; además una reducción significativa de peso equivale a necesitar menor potencia propulsiva para alcanzar la velocidad de diseño lo que conlleva a un menor costo en equipos de propulsión se puede implementar el proceso al diseño de este tipo de lanchas y conseguir un ahorro considerable en la inversión inicial. Además, si al proceso de optimización desarrollado en este proyecto se le complementa con estudios similares que optimicen otros aspectos importantes como el comportamiento en la mar y resistencia al avance debido a las formas del casco su puede patentar el diseño final con el propósito de ofrecerlo a las principales empresas dedicadas a la construcción naval a nivel nacional e internacional. Adicionalmente, al utilizar la norma ISO 12215 para el diseño de embarcaciones menores como requerimientos mínimos del diseño estructural del proyecto se obtuvieron conocimientos del proceso de implementación de esta norma de modo que existe la opción de ofrecer consultorías o talleres a personas interesadas que supervisa la construcción naval en los pequeños astilleros nacionales para el correcto proceso durante la construcción de embarcaciones menores.'"
      ]
     },
     "execution_count": 247,
     "metadata": {},
     "output_type": "execute_result"
    }
   ],
   "source": [
    "big_df_limpio_cp[\"IMPACTO_limpio\"].iloc[0]"
   ]
  },
  {
   "cell_type": "code",
   "execution_count": 248,
   "id": "258d9287",
   "metadata": {},
   "outputs": [
    {
     "data": {
      "text/html": [
       "<div>\n",
       "<style scoped>\n",
       "    .dataframe tbody tr th:only-of-type {\n",
       "        vertical-align: middle;\n",
       "    }\n",
       "\n",
       "    .dataframe tbody tr th {\n",
       "        vertical-align: top;\n",
       "    }\n",
       "\n",
       "    .dataframe thead th {\n",
       "        text-align: right;\n",
       "    }\n",
       "</style>\n",
       "<table border=\"1\" class=\"dataframe\">\n",
       "  <thead>\n",
       "    <tr style=\"text-align: right;\">\n",
       "      <th></th>\n",
       "      <th>PROYECTO</th>\n",
       "      <th>PROBLEMA_limpio</th>\n",
       "      <th>IMPACTO_limpio</th>\n",
       "      <th>ODS_Numero</th>\n",
       "      <th>ODS_Numero_descripcion</th>\n",
       "    </tr>\n",
       "  </thead>\n",
       "  <tbody>\n",
       "    <tr>\n",
       "      <th>0</th>\n",
       "      <td>Optimización estructural basada en las normas ...</td>\n",
       "      <td>El principal medio de transporte interislas en...</td>\n",
       "      <td>Dado a que el objetivo principal del proyecto ...</td>\n",
       "      <td>9</td>\n",
       "      <td>Construir infraestructuras resilientes, promov...</td>\n",
       "    </tr>\n",
       "    <tr>\n",
       "      <th>1</th>\n",
       "      <td>Optimización estructural basada en las normas ...</td>\n",
       "      <td>El principal medio de transporte interislas en...</td>\n",
       "      <td>Dado a que el objetivo principal del proyecto ...</td>\n",
       "      <td>14</td>\n",
       "      <td>Conservar y utilizar sosteniblemente los océan...</td>\n",
       "    </tr>\n",
       "    <tr>\n",
       "      <th>2</th>\n",
       "      <td>Caracterización numérica de los efectos de sup...</td>\n",
       "      <td>Los submarinos garantizan la soberanía marítim...</td>\n",
       "      <td>El esquema a presentar de las áreas sobre el s...</td>\n",
       "      <td>9</td>\n",
       "      <td>Construir infraestructuras resilientes, promov...</td>\n",
       "    </tr>\n",
       "    <tr>\n",
       "      <th>3</th>\n",
       "      <td>Evaluación de eficiencia energética de dos emb...</td>\n",
       "      <td>En las últimas tres décadas las emisiones de D...</td>\n",
       "      <td>A través del proceso de evaluación de la efici...</td>\n",
       "      <td>12</td>\n",
       "      <td>Garantizar modalidades de consumo y producción...</td>\n",
       "    </tr>\n",
       "    <tr>\n",
       "      <th>4</th>\n",
       "      <td>Evaluación de eficiencia energética de dos emb...</td>\n",
       "      <td>En las últimas tres décadas las emisiones de D...</td>\n",
       "      <td>A través del proceso de evaluación de la efici...</td>\n",
       "      <td>13</td>\n",
       "      <td>Adoptar medidas urgentes para combatir el camb...</td>\n",
       "    </tr>\n",
       "  </tbody>\n",
       "</table>\n",
       "</div>"
      ],
      "text/plain": [
       "                                            PROYECTO  \\\n",
       "0  Optimización estructural basada en las normas ...   \n",
       "1  Optimización estructural basada en las normas ...   \n",
       "2  Caracterización numérica de los efectos de sup...   \n",
       "3  Evaluación de eficiencia energética de dos emb...   \n",
       "4  Evaluación de eficiencia energética de dos emb...   \n",
       "\n",
       "                                     PROBLEMA_limpio  \\\n",
       "0  El principal medio de transporte interislas en...   \n",
       "1  El principal medio de transporte interislas en...   \n",
       "2  Los submarinos garantizan la soberanía marítim...   \n",
       "3  En las últimas tres décadas las emisiones de D...   \n",
       "4  En las últimas tres décadas las emisiones de D...   \n",
       "\n",
       "                                      IMPACTO_limpio  ODS_Numero  \\\n",
       "0  Dado a que el objetivo principal del proyecto ...           9   \n",
       "1  Dado a que el objetivo principal del proyecto ...          14   \n",
       "2  El esquema a presentar de las áreas sobre el s...           9   \n",
       "3  A través del proceso de evaluación de la efici...          12   \n",
       "4  A través del proceso de evaluación de la efici...          13   \n",
       "\n",
       "                              ODS_Numero_descripcion  \n",
       "0  Construir infraestructuras resilientes, promov...  \n",
       "1  Conservar y utilizar sosteniblemente los océan...  \n",
       "2  Construir infraestructuras resilientes, promov...  \n",
       "3  Garantizar modalidades de consumo y producción...  \n",
       "4  Adoptar medidas urgentes para combatir el camb...  "
      ]
     },
     "execution_count": 248,
     "metadata": {},
     "output_type": "execute_result"
    }
   ],
   "source": [
    "big_df_limpio_cp[[\"PROYECTO\", \"PROBLEMA_limpio\", \"IMPACTO_limpio\", \"ODS_Numero\", \"ODS_Numero_descripcion\"]].head()"
   ]
  },
  {
   "cell_type": "markdown",
   "id": "d8d4a672",
   "metadata": {},
   "source": [
    "### Otros"
   ]
  },
  {
   "cell_type": "code",
   "execution_count": 249,
   "id": "1309a463",
   "metadata": {},
   "outputs": [],
   "source": [
    "df_ods = pd.read_csv(\"./data/OSDG Community Dataset (OSDG-CD)/osdg-community-data-v2024-04-01.csv\", delimiter=\"\\t\")"
   ]
  },
  {
   "cell_type": "code",
   "execution_count": 250,
   "id": "ce38a74f",
   "metadata": {},
   "outputs": [
    {
     "name": "stdout",
     "output_type": "stream",
     "text": [
      "<class 'pandas.core.frame.DataFrame'>\n",
      "RangeIndex: 43025 entries, 0 to 43024\n",
      "Data columns (total 7 columns):\n",
      " #   Column           Non-Null Count  Dtype  \n",
      "---  ------           --------------  -----  \n",
      " 0   doi              43025 non-null  object \n",
      " 1   text_id          43025 non-null  object \n",
      " 2   text             43025 non-null  object \n",
      " 3   sdg              43025 non-null  int64  \n",
      " 4   labels_negative  43025 non-null  int64  \n",
      " 5   labels_positive  43025 non-null  int64  \n",
      " 6   agreement        43025 non-null  float64\n",
      "dtypes: float64(1), int64(3), object(3)\n",
      "memory usage: 2.3+ MB\n"
     ]
    }
   ],
   "source": [
    "df_ods.info()"
   ]
  },
  {
   "cell_type": "code",
   "execution_count": 251,
   "id": "35941ef7",
   "metadata": {},
   "outputs": [],
   "source": [
    "df_ods_simp = df_ods[[\"text\", \"sdg\", \"agreement\"]]"
   ]
  },
  {
   "cell_type": "code",
   "execution_count": 252,
   "id": "30f421b2",
   "metadata": {},
   "outputs": [
    {
     "name": "stderr",
     "output_type": "stream",
     "text": [
      "C:\\Users\\saraujo\\AppData\\Local\\Temp\\ipykernel_23524\\1547763570.py:1: SettingWithCopyWarning: \n",
      "A value is trying to be set on a copy of a slice from a DataFrame\n",
      "\n",
      "See the caveats in the documentation: https://pandas.pydata.org/pandas-docs/stable/user_guide/indexing.html#returning-a-view-versus-a-copy\n",
      "  df_ods_simp.rename(columns={\"sdg\": \"value\"}, inplace=True)\n"
     ]
    }
   ],
   "source": [
    "df_ods_simp.rename(columns={\"sdg\": \"value\"}, inplace=True)"
   ]
  },
  {
   "cell_type": "code",
   "execution_count": 253,
   "id": "38728b3d",
   "metadata": {},
   "outputs": [
    {
     "data": {
      "text/html": [
       "<div>\n",
       "<style scoped>\n",
       "    .dataframe tbody tr th:only-of-type {\n",
       "        vertical-align: middle;\n",
       "    }\n",
       "\n",
       "    .dataframe tbody tr th {\n",
       "        vertical-align: top;\n",
       "    }\n",
       "\n",
       "    .dataframe thead th {\n",
       "        text-align: right;\n",
       "    }\n",
       "</style>\n",
       "<table border=\"1\" class=\"dataframe\">\n",
       "  <thead>\n",
       "    <tr style=\"text-align: right;\">\n",
       "      <th></th>\n",
       "      <th>text</th>\n",
       "      <th>value</th>\n",
       "      <th>agreement</th>\n",
       "    </tr>\n",
       "  </thead>\n",
       "  <tbody>\n",
       "    <tr>\n",
       "      <th>2</th>\n",
       "      <td>The average figure also masks large difference...</td>\n",
       "      <td>3</td>\n",
       "      <td>0.777778</td>\n",
       "    </tr>\n",
       "    <tr>\n",
       "      <th>8</th>\n",
       "      <td>The Israel Oceanographic and Limnological Rese...</td>\n",
       "      <td>6</td>\n",
       "      <td>1.000000</td>\n",
       "    </tr>\n",
       "    <tr>\n",
       "      <th>9</th>\n",
       "      <td>Previous chapters have discussed ways to make ...</td>\n",
       "      <td>2</td>\n",
       "      <td>1.000000</td>\n",
       "    </tr>\n",
       "    <tr>\n",
       "      <th>11</th>\n",
       "      <td>The “War on Terror” and the Framework of Inter...</td>\n",
       "      <td>16</td>\n",
       "      <td>1.000000</td>\n",
       "    </tr>\n",
       "    <tr>\n",
       "      <th>13</th>\n",
       "      <td>Prescription rates appear to be higher where l...</td>\n",
       "      <td>8</td>\n",
       "      <td>1.000000</td>\n",
       "    </tr>\n",
       "    <tr>\n",
       "      <th>...</th>\n",
       "      <td>...</td>\n",
       "      <td>...</td>\n",
       "      <td>...</td>\n",
       "    </tr>\n",
       "    <tr>\n",
       "      <th>43014</th>\n",
       "      <td>As a fact-based management approach, its succe...</td>\n",
       "      <td>14</td>\n",
       "      <td>1.000000</td>\n",
       "    </tr>\n",
       "    <tr>\n",
       "      <th>43015</th>\n",
       "      <td>Nevertheless, the survey Encuesta de Caracteri...</td>\n",
       "      <td>5</td>\n",
       "      <td>0.777778</td>\n",
       "    </tr>\n",
       "    <tr>\n",
       "      <th>43019</th>\n",
       "      <td>It also features individual accountability, wh...</td>\n",
       "      <td>4</td>\n",
       "      <td>1.000000</td>\n",
       "    </tr>\n",
       "    <tr>\n",
       "      <th>43022</th>\n",
       "      <td>Groundwater quality can also be affected by co...</td>\n",
       "      <td>6</td>\n",
       "      <td>1.000000</td>\n",
       "    </tr>\n",
       "    <tr>\n",
       "      <th>43024</th>\n",
       "      <td>The three diseases that resulted in the greate...</td>\n",
       "      <td>3</td>\n",
       "      <td>0.750000</td>\n",
       "    </tr>\n",
       "  </tbody>\n",
       "</table>\n",
       "<p>20862 rows × 3 columns</p>\n",
       "</div>"
      ],
      "text/plain": [
       "                                                    text  value  agreement\n",
       "2      The average figure also masks large difference...      3   0.777778\n",
       "8      The Israel Oceanographic and Limnological Rese...      6   1.000000\n",
       "9      Previous chapters have discussed ways to make ...      2   1.000000\n",
       "11     The “War on Terror” and the Framework of Inter...     16   1.000000\n",
       "13     Prescription rates appear to be higher where l...      8   1.000000\n",
       "...                                                  ...    ...        ...\n",
       "43014  As a fact-based management approach, its succe...     14   1.000000\n",
       "43015  Nevertheless, the survey Encuesta de Caracteri...      5   0.777778\n",
       "43019  It also features individual accountability, wh...      4   1.000000\n",
       "43022  Groundwater quality can also be affected by co...      6   1.000000\n",
       "43024  The three diseases that resulted in the greate...      3   0.750000\n",
       "\n",
       "[20862 rows x 3 columns]"
      ]
     },
     "execution_count": 253,
     "metadata": {},
     "output_type": "execute_result"
    }
   ],
   "source": [
    "df_ods_simp[((df_ods_simp[\"agreement\"] > 0.74) & (df_ods_simp[\"text\"].str.len() < 1025))]"
   ]
  },
  {
   "cell_type": "markdown",
   "id": "aec2067b",
   "metadata": {},
   "source": [
    "### Concat all"
   ]
  },
  {
   "cell_type": "code",
   "execution_count": 254,
   "id": "49e6173c",
   "metadata": {},
   "outputs": [
    {
     "name": "stderr",
     "output_type": "stream",
     "text": [
      "C:\\Users\\saraujo\\AppData\\Local\\Temp\\ipykernel_23524\\2689345196.py:12: SettingWithCopyWarning: \n",
      "A value is trying to be set on a copy of a slice from a DataFrame\n",
      "\n",
      "See the caveats in the documentation: https://pandas.pydata.org/pandas-docs/stable/user_guide/indexing.html#returning-a-view-versus-a-copy\n",
      "  df_all.rename(columns={\"OBJETIVOGENERAL\": \"text\"}, inplace=True)\n",
      "C:\\Users\\saraujo\\AppData\\Local\\Temp\\ipykernel_23524\\2689345196.py:13: SettingWithCopyWarning: \n",
      "A value is trying to be set on a copy of a slice from a DataFrame\n",
      "\n",
      "See the caveats in the documentation: https://pandas.pydata.org/pandas-docs/stable/user_guide/indexing.html#returning-a-view-versus-a-copy\n",
      "  df_all.rename(columns={\"IDDECINVOBJODS\": \"ODS_Numero\"}, inplace=True)\n"
     ]
    }
   ],
   "source": [
    "# df_all = df_inve[[\"TITULO\", \"IDDECINVOBJODS\", \"ODS_Numero_descripcion\"]]\n",
    "# df_all.rename(columns={\"TITULO\": \"text\"}, inplace=True)\n",
    "# df_all.rename(columns={\"IDDECINVOBJODS\": \"ODS_Numero\"}, inplace=True)\n",
    "\n",
    "# df_all_tmp = df_inve[[\"OBJETIVOGENERAL\", \"IDDECINVOBJODS\", \"ODS_Numero_descripcion\"]]\n",
    "# df_all_tmp.rename(columns={\"OBJETIVOGENERAL\": \"text\"}, inplace=True)\n",
    "# df_all_tmp.rename(columns={\"IDDECINVOBJODS\": \"ODS_Numero\"}, inplace=True)\n",
    "\n",
    "# df_all = pd.concat([df_all, df_all_tmp], ignore_index=True)\n",
    "\n",
    "df_all = df_inve[[\"OBJETIVOGENERAL\", \"IDDECINVOBJODS\", \"ODS_Numero_descripcion\"]]\n",
    "df_all.rename(columns={\"OBJETIVOGENERAL\": \"text\"}, inplace=True)\n",
    "df_all.rename(columns={\"IDDECINVOBJODS\": \"ODS_Numero\"}, inplace=True)"
   ]
  },
  {
   "cell_type": "code",
   "execution_count": 255,
   "id": "e83f10d8",
   "metadata": {},
   "outputs": [
    {
     "data": {
      "text/plain": [
       "(1758, 879)"
      ]
     },
     "execution_count": 255,
     "metadata": {},
     "output_type": "execute_result"
    }
   ],
   "source": [
    "df_inve.shape[0] * 2, df_all.shape[0]"
   ]
  },
  {
   "cell_type": "code",
   "execution_count": 256,
   "id": "6dc863cc",
   "metadata": {},
   "outputs": [
    {
     "data": {
      "text/plain": [
       "'El uso incremental y desorganizado de las playas de las comunas del Cantón Santa Elena ha llevado a un desarrollo no sostenible de sus recursos por lo que el estado ha emitido una normativa que regule estos usos. Plan de Manejo de la Playa (Fase I). (ESPOL, 2022),    \\n\\nEl Código Orgánico de Organización Territorial (COOTAD) en su Artículo 55 literal j, menciona que los Gobiernos Autónomos Descentralizados (GADs) tienen la competencia exclusiva de “ Delimitar, regular, autorizar y controlar el uso de las playas de mar, riberas y lechos de ríos, lagos y lagunas, sin perjuicio de las limitaciones que establezca la ley;” \\n\\nPor otro lado, el Código Orgánico del Ambiente en el Art. 272 menciona que los GADs “…. deberán establecer un plan de manejo de la playa de mar y la franja adyacente como un instrumento complementario al plan de desarrollo y ordenamiento territorial” \\nEn el mismo sentido el Reglamento al Código Orgánico del Ambiente en su art 741 menciona que el Manejo Costero Integrado es un proceso de gestión participativa de los recursos naturales costeros para la conservación de la diversidad marina y los ecosistemas, mediante su uso sostenible y para mejorar la calidad de vida de los habitantes y que “ La implementación del Manejo Costero Integrado será de responsabilidad de los gobiernos autónomos descentralizados municipales, en el ámbito de su jurisdicción y competencias…..” . En el mismo documento en el artículo 745 indica que “ El instrumento de gestión del Manejo Costero Integrado será el Plan de Manejo Costero Integrado,….”, mientras que en Artículo 746, se menciona que “ El Plan de Manejo Costero Integrado de los gobiernos autónomos descentralizados con frente costero contendrá, al menos, los siguientes elementos…..”, literal f) Planes de Manejo de las playas de mar y franja adyacente;”. En el artículo 748 del mismo documento se menciona que los planes de manejo de la playa de mar y de la franja adyacente deben contener al menos las características físicas de las playas, ubicación de las zonas de sensibilidad ecológica, características de la infraestructura pública, privada y comunitaria, zonificación de usos de la playa, gestión de residuos y de riesgos y estrategias de manejo de la playa y sus visitantes. \\n\\nLa comuna Libertador Bolívar se dedica mayoritariamente al turismo y presenta problemas en el desarrollo turístico del recurso playa (Barzallo y Camacho, 2021). Existe preocupación por parte de la comuna sobre el desarrollo sostenible de su playa, por lo es necesario cumplir con la normativa establecida para lo cual es imprescindible un conocimiento previo de las características físicas, biológicas, turísticas y socio económicas.'"
      ]
     },
     "execution_count": 256,
     "metadata": {},
     "output_type": "execute_result"
    }
   ],
   "source": [
    "df_limpio[[\"CONTEXTO\", \"DEFINICION\"]].iloc[0][\"CONTEXTO\"]"
   ]
  },
  {
   "cell_type": "code",
   "execution_count": 257,
   "id": "0d0b33c2",
   "metadata": {},
   "outputs": [
    {
     "data": {
      "text/plain": [
       "'El problema central es la falta de información técnica adecuada de los recursos costeros de la playa de Liberador Bolívar, lo que hace necesario la caracterización de su playa que permita la elaboración de una planificación para el desarrollo y conservación de sus recursos y seguridad de sus habitantes. '"
      ]
     },
     "execution_count": 257,
     "metadata": {},
     "output_type": "execute_result"
    }
   ],
   "source": [
    "df_limpio[[\"CONTEXTO\", \"DEFINICION\"]].iloc[0][\"DEFINICION\"]"
   ]
  },
  {
   "cell_type": "code",
   "execution_count": 258,
   "id": "7900f6eb",
   "metadata": {},
   "outputs": [
    {
     "name": "stderr",
     "output_type": "stream",
     "text": [
      "C:\\Users\\saraujo\\AppData\\Local\\Temp\\ipykernel_23524\\1912222920.py:12: SettingWithCopyWarning: \n",
      "A value is trying to be set on a copy of a slice from a DataFrame\n",
      "\n",
      "See the caveats in the documentation: https://pandas.pydata.org/pandas-docs/stable/user_guide/indexing.html#returning-a-view-versus-a-copy\n",
      "  df_all_tmp.rename(columns={\"CONTEXTO\": \"text\"}, inplace=True)\n"
     ]
    }
   ],
   "source": [
    "# df_all_tmp = df_limpio[[\"NOMBREPROYECTO\", \"ODS_Numero\", \"ODS_Numero_descripcion\"]]\n",
    "# df_all_tmp.rename(columns={\"NOMBREPROYECTO\": \"text\"}, inplace=True)\n",
    "\n",
    "# df_all = pd.concat([df_all, df_all_tmp], ignore_index=True)\n",
    "\n",
    "# df_all_tmp = df_limpio[[\"ANTECEDENTES\", \"ODS_Numero\", \"ODS_Numero_descripcion\"]]\n",
    "# df_all_tmp.rename(columns={\"ANTECEDENTES\": \"text\"}, inplace=True)\n",
    "\n",
    "# df_all = pd.concat([df_all, df_all_tmp], ignore_index=True)\n",
    "\n",
    "df_all_tmp = df_limpio[[\"CONTEXTO\", \"ODS_Numero\", \"ODS_Numero_descripcion\"]]\n",
    "df_all_tmp.rename(columns={\"CONTEXTO\": \"text\"}, inplace=True)\n",
    "\n",
    "df_all = pd.concat([df_all, df_all_tmp], ignore_index=True)\n",
    "\n",
    "# df_all_tmp = df_limpio[[\"DEFINICION\", \"ODS_Numero\", \"ODS_Numero_descripcion\"]] # El problema\n",
    "# df_all_tmp.rename(columns={\"DEFINICION\": \"text\"}, inplace=True)\n",
    "\n",
    "# df_all = pd.concat([df_all, df_all_tmp], ignore_index=True)"
   ]
  },
  {
   "cell_type": "code",
   "execution_count": 259,
   "id": "64f97e0d",
   "metadata": {},
   "outputs": [
    {
     "data": {
      "text/plain": [
       "(4034, 1448)"
      ]
     },
     "execution_count": 259,
     "metadata": {},
     "output_type": "execute_result"
    }
   ],
   "source": [
    "(df_inve.shape[0] * 2) + (df_limpio.shape[0] * 4), df_all.shape[0]"
   ]
  },
  {
   "cell_type": "code",
   "execution_count": 260,
   "id": "1cc04e26",
   "metadata": {},
   "outputs": [],
   "source": [
    "# df_all_tmp = big_df_limpio_cp[[\"PROYECTO\", \"ODS_Numero\", \"ODS_Numero_descripcion\"]]\n",
    "# df_all_tmp.rename(columns={\"PROYECTO\": \"text\"}, inplace=True)\n",
    "\n",
    "# df_all = pd.concat([df_all, df_all_tmp], ignore_index=True)\n",
    "\n",
    "# df_all_tmp = big_df_limpio_cp[[\"PROBLEMA_limpio\", \"ODS_Numero\", \"ODS_Numero_descripcion\"]]\n",
    "# df_all_tmp.rename(columns={\"PROBLEMA_limpio\": \"text\"}, inplace=True)\n",
    "\n",
    "# df_all = pd.concat([df_all, df_all_tmp], ignore_index=True)\n",
    "\n",
    "# df_all_tmp = big_df_limpio_cp[[\"IMPACTO_limpio\", \"ODS_Numero\", \"ODS_Numero_descripcion\"]]\n",
    "# df_all_tmp.rename(columns={\"IMPACTO_limpio\": \"text\"}, inplace=True)\n",
    "\n",
    "# df_all = pd.concat([df_all, df_all_tmp], ignore_index=True)"
   ]
  },
  {
   "cell_type": "code",
   "execution_count": 261,
   "id": "dd1c651c",
   "metadata": {},
   "outputs": [
    {
     "data": {
      "text/plain": [
       "(40289, 1448)"
      ]
     },
     "execution_count": 261,
     "metadata": {},
     "output_type": "execute_result"
    }
   ],
   "source": [
    "(df_inve.shape[0] * 2) + (df_limpio.shape[0] * 4) + (big_df_limpio_cp.shape[0] * 3), df_all.shape[0]"
   ]
  },
  {
   "cell_type": "code",
   "execution_count": null,
   "id": "5d02c54b",
   "metadata": {},
   "outputs": [],
   "source": [
    "df_all.rename(columns={\"ODS_Numero\": \"value\"}, inplace=True)"
   ]
  },
  {
   "cell_type": "code",
   "execution_count": 263,
   "id": "f4fa5a2f",
   "metadata": {},
   "outputs": [
    {
     "data": {
      "text/plain": [
       "Index(['text', 'value', 'ODS_Numero_descripcion'], dtype='object')"
      ]
     },
     "execution_count": 263,
     "metadata": {},
     "output_type": "execute_result"
    }
   ],
   "source": [
    "df_all.keys()"
   ]
  },
  {
   "cell_type": "code",
   "execution_count": 264,
   "id": "0dcc742c",
   "metadata": {},
   "outputs": [
    {
     "data": {
      "text/plain": [
       "Index(['text', 'value', 'agreement'], dtype='object')"
      ]
     },
     "execution_count": 264,
     "metadata": {},
     "output_type": "execute_result"
    }
   ],
   "source": [
    "df_ods_simp.keys()"
   ]
  },
  {
   "cell_type": "code",
   "execution_count": 266,
   "id": "8051846d",
   "metadata": {},
   "outputs": [],
   "source": [
    "df_final = pd.concat([df_all[[\"text\",\"value\"]], df_ods_simp[[\"text\",\"value\"]]], ignore_index=True)"
   ]
  },
  {
   "cell_type": "markdown",
   "id": "9b868084",
   "metadata": {},
   "source": [
    "### Analisis"
   ]
  },
  {
   "cell_type": "code",
   "execution_count": 267,
   "id": "c2b54369",
   "metadata": {},
   "outputs": [
    {
     "name": "stdout",
     "output_type": "stream",
     "text": [
      "<class 'pandas.core.frame.DataFrame'>\n",
      "RangeIndex: 44473 entries, 0 to 44472\n",
      "Data columns (total 2 columns):\n",
      " #   Column  Non-Null Count  Dtype \n",
      "---  ------  --------------  ----- \n",
      " 0   text    44473 non-null  object\n",
      " 1   value   44473 non-null  Int64 \n",
      "dtypes: Int64(1), object(1)\n",
      "memory usage: 738.5+ KB\n"
     ]
    }
   ],
   "source": [
    "df_final.info()"
   ]
  },
  {
   "cell_type": "code",
   "execution_count": null,
   "id": "7d2465be",
   "metadata": {},
   "outputs": [],
   "source": [
    "# df_all[df_all[\"value\"] == 17][\"ODS_Numero_descripcion\"].unique()"
   ]
  },
  {
   "cell_type": "code",
   "execution_count": 270,
   "id": "84f5046c",
   "metadata": {},
   "outputs": [
    {
     "data": {
      "text/plain": [
       "value\n",
       "16    5464\n",
       "5     4376\n",
       "4     3958\n",
       "7     3121\n",
       "6     2882\n",
       "9     2868\n",
       "3     2836\n",
       "1     2768\n",
       "15    2674\n",
       "2     2533\n",
       "11    2400\n",
       "10    2342\n",
       "13    2180\n",
       "8     1606\n",
       "12    1250\n",
       "14    1184\n",
       "17      31\n",
       "Name: count, dtype: Int64"
      ]
     },
     "execution_count": 270,
     "metadata": {},
     "output_type": "execute_result"
    }
   ],
   "source": [
    "df_final[\"value\"].value_counts()"
   ]
  },
  {
   "cell_type": "code",
   "execution_count": 273,
   "id": "a31f0e73",
   "metadata": {},
   "outputs": [],
   "source": [
    "def graph_df(df):\n",
    "    # Conteo de frecuencias\n",
    "    counts = df[\"value\"].value_counts().sort_index()\n",
    "\n",
    "    # Gráfico de barras\n",
    "    plt.figure(figsize=(12,6))\n",
    "    sns.barplot(x=counts.index, y=counts.values, palette=\"viridis\")\n",
    "    plt.title(\"Frecuencia de cada value\")\n",
    "    plt.xlabel(\"value\")\n",
    "    plt.ylabel(\"Cantidad de ejemplos\")\n",
    "    plt.xticks(rotation=45)\n",
    "    plt.tight_layout()\n",
    "    plt.show()\n",
    "\n",
    "    # Gráfico de porcentaje\n",
    "    percentages = counts / counts.sum() * 100\n",
    "    plt.figure(figsize=(12,6))\n",
    "    sns.barplot(x=percentages.index, y=percentages.values, palette=\"magma\")\n",
    "    plt.title(\"Porcentaje de cada value\")\n",
    "    plt.xlabel(\"value\")\n",
    "    plt.ylabel(\"Porcentaje (%)\")\n",
    "    plt.xticks(rotation=45)\n",
    "    plt.tight_layout()\n",
    "    plt.show()\n",
    "\n",
    "    # Gráfico de pastel (opcional, solo si hay pocas clases)\n",
    "    if len(counts) <= 15:\n",
    "        plt.figure(figsize=(8,8))\n",
    "        plt.pie(counts.values, labels=counts.index, autopct='%1.1f%%', startangle=140, colors=sns.color_palette(\"pastel\"))\n",
    "        plt.title(\"Distribución de value\")\n",
    "        plt.axis('equal')\n",
    "        plt.show()\n",
    "    \n",
    "    # Tabla resumen\n",
    "    summary = counts.reset_index()\n",
    "    summary.columns = ['value', 'Cantidad']\n",
    "    summary['Porcentaje'] = summary['Cantidad'] / summary['Cantidad'].sum() * 100\n",
    "\n",
    "    print(summary)"
   ]
  },
  {
   "cell_type": "code",
   "execution_count": 274,
   "id": "ebe814b6",
   "metadata": {},
   "outputs": [
    {
     "name": "stderr",
     "output_type": "stream",
     "text": [
      "C:\\Users\\saraujo\\AppData\\Local\\Temp\\ipykernel_23524\\3096793045.py:7: FutureWarning: \n",
      "\n",
      "Passing `palette` without assigning `hue` is deprecated and will be removed in v0.14.0. Assign the `x` variable to `hue` and set `legend=False` for the same effect.\n",
      "\n",
      "  sns.barplot(x=counts.index, y=counts.values, palette=\"viridis\")\n"
     ]
    },
    {
     "data": {
      "image/png": "[encoded data removed]",
      "text/plain": [
       "<Figure size 1200x600 with 1 Axes>"
      ]
     },
     "metadata": {},
     "output_type": "display_data"
    },
    {
     "name": "stderr",
     "output_type": "stream",
     "text": [
      "C:\\Users\\saraujo\\AppData\\Local\\Temp\\ipykernel_23524\\3096793045.py:18: FutureWarning: \n",
      "\n",
      "Passing `palette` without assigning `hue` is deprecated and will be removed in v0.14.0. Assign the `x` variable to `hue` and set `legend=False` for the same effect.\n",
      "\n",
      "  sns.barplot(x=percentages.index, y=percentages.values, palette=\"magma\")\n"
     ]
    },
    {
     "data": {
      "image/png": "[encoded data removed]",
      "text/plain": [
       "<Figure size 1200x600 with 1 Axes>"
      ]
     },
     "metadata": {},
     "output_type": "display_data"
    },
    {
     "name": "stdout",
     "output_type": "stream",
     "text": [
      "    value  Cantidad  Porcentaje\n",
      "0       1      2768    6.224001\n",
      "1       2      2533    5.695591\n",
      "2       3      2836    6.376903\n",
      "3       4      3958    8.899782\n",
      "4       5      4376    9.839678\n",
      "5       6      2882    6.480336\n",
      "6       7      3121    7.017741\n",
      "7       8      1606     3.61118\n",
      "8       9      2868    6.448857\n",
      "9      10      2342    5.266117\n",
      "10     11      2400    5.396533\n",
      "11     12      1250    2.810694\n",
      "12     13      2180    4.901851\n",
      "13     14      1184    2.662289\n",
      "14     15      2674    6.012637\n",
      "15     16      5464   12.286106\n",
      "16     17        31    0.069705\n"
     ]
    }
   ],
   "source": [
    "graph_df(df_final)"
   ]
  },
  {
   "cell_type": "code",
   "execution_count": 275,
   "id": "30c14c32",
   "metadata": {},
   "outputs": [],
   "source": [
    "# Eliminar los ODS con menor cantidad\n",
    "values_target = df_final[\"value\"].value_counts()[df_final[\"value\"].value_counts() < 1000].index.to_list()\n",
    "df_final_tmp = df_final[~df_final[\"value\"].isin(values_target)]\n",
    "\n",
    "df_final = df_final_tmp[(df_final_tmp[\"text\"].str.len() > 120) & (df_final_tmp[\"text\"].str.len() < 1025)]"
   ]
  },
  {
   "cell_type": "code",
   "execution_count": 276,
   "id": "4795ebea",
   "metadata": {},
   "outputs": [
    {
     "name": "stderr",
     "output_type": "stream",
     "text": [
      "C:\\Users\\saraujo\\AppData\\Local\\Temp\\ipykernel_23524\\3096793045.py:7: FutureWarning: \n",
      "\n",
      "Passing `palette` without assigning `hue` is deprecated and will be removed in v0.14.0. Assign the `x` variable to `hue` and set `legend=False` for the same effect.\n",
      "\n",
      "  sns.barplot(x=counts.index, y=counts.values, palette=\"viridis\")\n"
     ]
    },
    {
     "data": {
      "image/png": "[encoded data removed]",
      "text/plain": [
       "<Figure size 1200x600 with 1 Axes>"
      ]
     },
     "metadata": {},
     "output_type": "display_data"
    },
    {
     "name": "stderr",
     "output_type": "stream",
     "text": [
      "C:\\Users\\saraujo\\AppData\\Local\\Temp\\ipykernel_23524\\3096793045.py:18: FutureWarning: \n",
      "\n",
      "Passing `palette` without assigning `hue` is deprecated and will be removed in v0.14.0. Assign the `x` variable to `hue` and set `legend=False` for the same effect.\n",
      "\n",
      "  sns.barplot(x=percentages.index, y=percentages.values, palette=\"magma\")\n"
     ]
    },
    {
     "data": {
      "image/png": "[encoded data removed]",
      "text/plain": [
       "<Figure size 1200x600 with 1 Axes>"
      ]
     },
     "metadata": {},
     "output_type": "display_data"
    },
    {
     "name": "stdout",
     "output_type": "stream",
     "text": [
      "    value  Cantidad  Porcentaje\n",
      "0       1      2645    6.276697\n",
      "1       2      2428    5.761747\n",
      "2       3      2684    6.369245\n",
      "3       4      3739    8.872805\n",
      "4       5      4187    9.935928\n",
      "5       6      2772    6.578073\n",
      "6       7      2987    7.088277\n",
      "7       8      1500    3.559563\n",
      "8       9      2738     6.49739\n",
      "9      10      2253    5.346464\n",
      "10     11      2270    5.386806\n",
      "11     12      1175    2.788325\n",
      "12     13      2060    4.888467\n",
      "13     14      1131    2.683911\n",
      "14     15      2562    6.079734\n",
      "15     16      5009   11.886569\n"
     ]
    }
   ],
   "source": [
    "graph_df(df_final)"
   ]
  },
  {
   "cell_type": "code",
   "execution_count": 277,
   "id": "a6465b62",
   "metadata": {},
   "outputs": [],
   "source": [
    "df_final.to_csv(\"./data/dataset.csv\", index=False)"
   ]
  }
 ],
 "metadata": {
  "kernelspec": {
   "display_name": "Python 3",
   "language": "python",
   "name": "python3"
  },
  "language_info": {
   "codemirror_mode": {
    "name": "ipython",
    "version": 3
   },
   "file_extension": ".py",
   "mimetype": "text/x-python",
   "name": "python",
   "nbconvert_exporter": "python",
   "pygments_lexer": "ipython3",
   "version": "3.12.10"
  }
 },
 "nbformat": 4,
 "nbformat_minor": 5
}
