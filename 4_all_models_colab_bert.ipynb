{
 "cells": [
  {
   "cell_type": "code",
   "execution_count": null,
   "id": "e6f9d991",
   "metadata": {
    "colab": {
     "base_uri": "https://localhost:8080/"
    },
    "executionInfo": {
     "elapsed": 1735,
     "status": "ok",
     "timestamp": 1750003783015,
     "user": {
      "displayName": "Steven Sebastian Araujo Moran",
      "userId": "14571755018649745938"
     },
     "user_tz": 300
    },
    "id": "e6f9d991",
    "outputId": "9f0424f3-63b4-41e7-9637-4eef4b89b7a4"
   },
   "outputs": [
    {
     "name": "stdout",
     "output_type": "stream",
     "text": [
      "Drive already mounted at /content/drive; to attempt to forcibly remount, call drive.mount(\"/content/drive\", force_remount=True).\n"
     ]
    }
   ],
   "source": [
    "# Mount Google Drive if using Colab\n",
    "try:\n",
    "    from google.colab import drive\n",
    "    drive.mount('/content/drive')\n",
    "    USING_COLAB = True\n",
    "except:\n",
    "    USING_COLAB = False"
   ]
  },
  {
   "cell_type": "code",
   "execution_count": null,
   "id": "38f079a6",
   "metadata": {
    "id": "38f079a6"
   },
   "outputs": [],
   "source": [
    "import os\n",
    "import sys\n",
    "import json\n",
    "import time\n",
    "import pandas as pd\n",
    "import numpy as np\n",
    "import matplotlib.pyplot as plt\n",
    "import seaborn as sns\n",
    "from pathlib import Path\n",
    "# import warnings\n",
    "# warnings.filterwarnings('ignore')\n",
    "from typing import Dict, List, Tuple, Optional, Any"
   ]
  },
  {
   "cell_type": "code",
   "execution_count": null,
   "id": "42b23db6",
   "metadata": {
    "id": "42b23db6"
   },
   "outputs": [],
   "source": [
    "import joblib\n",
    "import psutil\n",
    "import torch\n",
    "from collections import Counter\n",
    "from sklearn.model_selection import train_test_split\n",
    "from sklearn.metrics import (\n",
    "    accuracy_score, f1_score, precision_recall_fscore_support, confusion_matrix,\n",
    "    classification_report, roc_auc_score, roc_curve, precision_recall_curve,\n",
    "    average_precision_score\n",
    ")\n",
    "from datetime import datetime"
   ]
  },
  {
   "cell_type": "code",
   "execution_count": null,
   "id": "92552a1f",
   "metadata": {
    "id": "92552a1f"
   },
   "outputs": [],
   "source": [
    "from sklearn.preprocessing import LabelEncoder\n",
    "from sklearn.feature_extraction.text import TfidfVectorizer\n",
    "from sklearn.svm import SVC\n",
    "from sklearn.linear_model import LogisticRegression\n",
    "from sklearn.ensemble import RandomForestClassifier"
   ]
  },
  {
   "cell_type": "code",
   "execution_count": null,
   "id": "3c49944b",
   "metadata": {
    "id": "3c49944b"
   },
   "outputs": [],
   "source": [
    "from torch.utils.data import Dataset\n",
    "from torch.nn.parallel import DataParallel"
   ]
  },
  {
   "cell_type": "code",
   "execution_count": null,
   "id": "64762489",
   "metadata": {
    "id": "64762489"
   },
   "outputs": [],
   "source": [
    "from transformers import (\n",
    "    AutoTokenizer, AutoModelForSequenceClassification,\n",
    "    TrainingArguments, Trainer, EarlyStoppingCallback,\n",
    "    get_linear_schedule_with_warmup\n",
    ")"
   ]
  },
  {
   "cell_type": "code",
   "execution_count": null,
   "id": "684c66fc",
   "metadata": {
    "id": "684c66fc"
   },
   "outputs": [],
   "source": [
    "# Configuración de logging\n",
    "import logging\n",
    "logging.basicConfig(\n",
    "    level=logging.INFO,\n",
    "    format='%(asctime)s - %(levelname)s - %(message)s',\n",
    "    handlers=[\n",
    "        logging.FileHandler('training.log'),\n",
    "        logging.StreamHandler(sys.stdout)\n",
    "    ]\n",
    ")\n",
    "logger = logging.getLogger(__name__)"
   ]
  },
  {
   "cell_type": "code",
   "execution_count": null,
   "id": "08737452",
   "metadata": {
    "id": "08737452"
   },
   "outputs": [],
   "source": [
    "if USING_COLAB:\n",
    "    results_dir = \"/content/drive/My Drive/GTSI/Codigos_ods/results\"\n",
    "    plots_dir = \"/content/drive/My Drive/GTSI/Codigos_ods/plots\"\n",
    "    data_dir = \"/content/drive/My Drive/GTSI/Codigos_ods/data\"\n",
    "    models_dir = \"/content/drive/My Drive/GTSI/Codigos_ods/models\"\n",
    "else:\n",
    "    results_dir = \"./results\"\n",
    "    plots_dir = \"./plots\"\n",
    "    data_dir = \"./data\"\n",
    "    models_dir = \"./models\""
   ]
  },
  {
   "cell_type": "markdown",
   "id": "cac2c96e",
   "metadata": {
    "id": "cac2c96e"
   },
   "source": [
    "# 1. Análisis del sistema"
   ]
  },
  {
   "cell_type": "code",
   "execution_count": null,
   "id": "6169f5a9",
   "metadata": {
    "id": "6169f5a9"
   },
   "outputs": [],
   "source": [
    "def get_system_info():\n",
    "    \"\"\"Obtener información del sistema\"\"\"\n",
    "    info = {\n",
    "        'cpu_count': psutil.cpu_count(),\n",
    "        'cpu_count_logical': psutil.cpu_count(logical=True),\n",
    "        'memory_total_gb': psutil.virtual_memory().total / (1024**3),\n",
    "        'memory_available_gb': psutil.virtual_memory().available / (1024**3),\n",
    "        'gpu_available': torch.cuda.is_available(),\n",
    "        'gpu_count': torch.cuda.device_count() if torch.cuda.is_available() else 0,\n",
    "    }\n",
    "\n",
    "    if info['gpu_available']:\n",
    "        gpu_info = []\n",
    "        for i in range(info['gpu_count']):\n",
    "            gpu_props = torch.cuda.get_device_properties(i)\n",
    "            gpu_info.append({\n",
    "                'name': gpu_props.name,\n",
    "                'memory_total_gb': gpu_props.total_memory / (1024**3),\n",
    "                'compute_capability': f\"{gpu_props.major}.{gpu_props.minor}\"\n",
    "            })\n",
    "        info['gpu_details'] = gpu_info\n",
    "\n",
    "    return info"
   ]
  },
  {
   "cell_type": "code",
   "execution_count": null,
   "id": "19e0a881",
   "metadata": {
    "id": "19e0a881"
   },
   "outputs": [],
   "source": [
    "def recommend_batch_size(model_name: str = 'roberta-base') -> int:\n",
    "    \"\"\"Recomendar tamaño de batch basado en recursos disponibles\"\"\"\n",
    "    if not torch.cuda.is_available():\n",
    "        return 8  # CPU\n",
    "\n",
    "    gpu_memory = torch.cuda.get_device_properties(0).total_memory / (1024**3)\n",
    "\n",
    "    # Recomendaciones basadas en memoria GPU\n",
    "    if gpu_memory >= 24:  # RTX 4090, A100, etc.\n",
    "        return 32 if 'large' not in model_name else 16\n",
    "    elif gpu_memory >= 16:  # RTX 4080, V100, etc.\n",
    "        return 24 if 'large' not in model_name else 12\n",
    "    elif gpu_memory >= 12:  # RTX 4070 Ti, RTX 3080 Ti, etc.\n",
    "        return 16 if 'large' not in model_name else 8\n",
    "    elif gpu_memory >= 8:   # RTX 4060 Ti, RTX 3070, etc.\n",
    "        return 12 if 'large' not in model_name else 6\n",
    "    else:  # GPUs más pequeñas\n",
    "        return 8 if 'large' not in model_name else 4"
   ]
  },
  {
   "cell_type": "code",
   "execution_count": null,
   "id": "b3b8d3d1",
   "metadata": {
    "colab": {
     "base_uri": "https://localhost:8080/"
    },
    "executionInfo": {
     "elapsed": 17,
     "status": "ok",
     "timestamp": 1750003783052,
     "user": {
      "displayName": "Steven Sebastian Araujo Moran",
      "userId": "14571755018649745938"
     },
     "user_tz": 300
    },
    "id": "b3b8d3d1",
    "outputId": "49110a06-35a7-43eb-c512-d0a3e3e5e500"
   },
   "outputs": [
    {
     "name": "stdout",
     "output_type": "stream",
     "text": [
      "============================================================\n",
      "REPORTE DEL SISTEMA\n",
      "============================================================\n",
      "CPU: 2 cores físicos, 2 lógicos\n",
      "RAM: 12.7 GB total, 6.7 GB disponible\n",
      "\n",
      "GPUs disponibles: 1\n",
      "  GPU 0: Tesla T4\n",
      "    Memoria: 14.7 GB\n",
      "    Compute Capability: 7.5\n",
      "\n",
      "Batch size recomendado: 16\n",
      "============================================================\n"
     ]
    }
   ],
   "source": [
    "\"\"\"Imprimir reporte del sistema\"\"\"\n",
    "info = get_system_info()\n",
    "\n",
    "print(\"=\"*60)\n",
    "print(\"REPORTE DEL SISTEMA\")\n",
    "print(\"=\"*60)\n",
    "print(f\"CPU: {info['cpu_count']} cores físicos, {info['cpu_count_logical']} lógicos\")\n",
    "print(f\"RAM: {info['memory_total_gb']:.1f} GB total, {info['memory_available_gb']:.1f} GB disponible\")\n",
    "\n",
    "if info['gpu_available']:\n",
    "    print(f\"\\nGPUs disponibles: {info['gpu_count']}\")\n",
    "    for i, gpu in enumerate(info['gpu_details']):\n",
    "        print(f\"  GPU {i}: {gpu['name']}\")\n",
    "        print(f\"    Memoria: {gpu['memory_total_gb']:.1f} GB\")\n",
    "        print(f\"    Compute Capability: {gpu['compute_capability']}\")\n",
    "else:\n",
    "    print(\"\\nNo hay GPUs disponibles\")\n",
    "\n",
    "print(f\"\\nBatch size recomendado: {recommend_batch_size()}\")\n",
    "print(\"=\"*60)"
   ]
  },
  {
   "cell_type": "markdown",
   "id": "c9c61151",
   "metadata": {
    "id": "c9c61151"
   },
   "source": [
    "# 2. Crear directorios en caso de no existir"
   ]
  },
  {
   "cell_type": "code",
   "execution_count": null,
   "id": "457c3ffd",
   "metadata": {
    "colab": {
     "base_uri": "https://localhost:8080/"
    },
    "executionInfo": {
     "elapsed": 11,
     "status": "ok",
     "timestamp": 1750003783064,
     "user": {
      "displayName": "Steven Sebastian Araujo Moran",
      "userId": "14571755018649745938"
     },
     "user_tz": 300
    },
    "id": "457c3ffd",
    "outputId": "bccea2eb-4fdd-43e7-f7b0-f9f8982034e2"
   },
   "outputs": [
    {
     "name": "stdout",
     "output_type": "stream",
     "text": [
      "✓ /content/drive/My Drive/GTSI/Codigos_ods/data\n",
      "✓ /content/drive/My Drive/GTSI/Codigos_ods/models\n",
      "✓ /content/drive/My Drive/GTSI/Codigos_ods/results\n",
      "✓ /content/drive/My Drive/GTSI/Codigos_ods/plots\n"
     ]
    }
   ],
   "source": [
    "directories = [data_dir, models_dir, results_dir, plots_dir]\n",
    "for dir_path in directories:\n",
    "    Path(dir_path).mkdir(exist_ok=True)\n",
    "    print(f\"✓ {dir_path}\")"
   ]
  },
  {
   "cell_type": "markdown",
   "id": "01c262b9",
   "metadata": {
    "id": "01c262b9"
   },
   "source": [
    "# 3. Dataset"
   ]
  },
  {
   "cell_type": "code",
   "execution_count": null,
   "id": "130d563b",
   "metadata": {
    "colab": {
     "base_uri": "https://localhost:8080/"
    },
    "executionInfo": {
     "elapsed": 871,
     "status": "ok",
     "timestamp": 1750003783945,
     "user": {
      "displayName": "Steven Sebastian Araujo Moran",
      "userId": "14571755018649745938"
     },
     "user_tz": 300
    },
    "id": "130d563b",
    "outputId": "563841bb-f79a-4888-bf9e-1fc22579441e"
   },
   "outputs": [
    {
     "name": "stdout",
     "output_type": "stream",
     "text": [
      "✓ Datos cargados: 80144 muestras\n",
      "✓ SDGs únicos: 16\n",
      "✓ Distribución por SDG:\n",
      "value\n",
      "9     5009\n",
      "12    5009\n",
      "7     5009\n",
      "3     5009\n",
      "13    5009\n",
      "Name: count, dtype: int64\n"
     ]
    }
   ],
   "source": [
    "# df = pd.read_csv(data_dir + \"/dataset_balansed.csv\")\n",
    "df = pd.read_csv(data_dir + \"/dataset_balansed_lema.csv\")\n",
    "print(f\"✓ Datos cargados: {len(df)} muestras\")\n",
    "print(f\"✓ SDGs únicos: {df['value'].nunique()}\") # Sistema de Gestión de Datos\n",
    "print(f\"✓ Distribución por SDG:\") # Stochastic Gradient Descent\n",
    "print(df['value'].value_counts().head())"
   ]
  },
  {
   "cell_type": "code",
   "execution_count": null,
   "id": "VeX9d04fWMT9",
   "metadata": {
    "colab": {
     "base_uri": "https://localhost:8080/",
     "height": 241
    },
    "executionInfo": {
     "elapsed": 5,
     "status": "ok",
     "timestamp": 1750003783951,
     "user": {
      "displayName": "Steven Sebastian Araujo Moran",
      "userId": "14571755018649745938"
     },
     "user_tz": 300
    },
    "id": "VeX9d04fWMT9",
    "outputId": "bbab4727-1864-4798-b7dc-5e02b87145ac"
   },
   "outputs": [
    {
     "data": {
      "text/html": [
       "<div>\n",
       "<style scoped>\n",
       "    .dataframe tbody tr th:only-of-type {\n",
       "        vertical-align: middle;\n",
       "    }\n",
       "\n",
       "    .dataframe tbody tr th {\n",
       "        vertical-align: top;\n",
       "    }\n",
       "\n",
       "    .dataframe thead th {\n",
       "        text-align: right;\n",
       "    }\n",
       "</style>\n",
       "<table border=\"1\" class=\"dataframe\">\n",
       "  <thead>\n",
       "    <tr style=\"text-align: right;\">\n",
       "      <th></th>\n",
       "      <th>0</th>\n",
       "    </tr>\n",
       "  </thead>\n",
       "  <tbody>\n",
       "    <tr>\n",
       "      <th>CORPUS</th>\n",
       "      <td>Analyse the research lines in Iberoamerica wit...</td>\n",
       "    </tr>\n",
       "    <tr>\n",
       "      <th>value</th>\n",
       "      <td>9</td>\n",
       "    </tr>\n",
       "    <tr>\n",
       "      <th>lang</th>\n",
       "      <td>es</td>\n",
       "    </tr>\n",
       "    <tr>\n",
       "      <th>gpu_used</th>\n",
       "      <td>NaN</td>\n",
       "    </tr>\n",
       "    <tr>\n",
       "      <th>text</th>\n",
       "      <td>analyse research line iberoamerica regard desi...</td>\n",
       "    </tr>\n",
       "  </tbody>\n",
       "</table>\n",
       "</div><br><label><b>dtype:</b> object</label>"
      ],
      "text/plain": [
       "CORPUS      Analyse the research lines in Iberoamerica wit...\n",
       "value                                                       9\n",
       "lang                                                       es\n",
       "gpu_used                                                  NaN\n",
       "text        analyse research line iberoamerica regard desi...\n",
       "Name: 0, dtype: object"
      ]
     },
     "execution_count": 101,
     "metadata": {},
     "output_type": "execute_result"
    }
   ],
   "source": [
    "df.iloc[0]"
   ]
  },
  {
   "cell_type": "code",
   "execution_count": null,
   "id": "sD-pWHhsuoVY",
   "metadata": {
    "id": "sD-pWHhsuoVY"
   },
   "outputs": [],
   "source": [
    "if \"CORPUS\" in df.keys():\n",
    "    print(df.keys())\n",
    "    df[\"text_cp\"] = df[\"text\"]  # Guarda el contenido original de 'text' en 'text_cp'\n",
    "    df[\"text\"] = df[\"CORPUS\"]   # Copia el contenido de 'CORPUS' a 'text'\n",
    "    print(\"CORPUS copiado a la columna text y text original almacenado en text_cp.\")\n",
    "    print(df.keys())\n",
    "else:\n",
    "    print(\"Solo existe text, se mantiene la columna de text.\")"
   ]
  },
  {
   "cell_type": "code",
   "execution_count": null,
   "id": "-RwWY6SWurdZ",
   "metadata": {
    "id": "-RwWY6SWurdZ"
   },
   "outputs": [],
   "source": [
    "df.iloc[0]"
   ]
  },
  {
   "cell_type": "markdown",
   "id": "e6ca22f1",
   "metadata": {
    "id": "e6ca22f1"
   },
   "source": [
    "# 4. Análisis exploratorio"
   ]
  },
  {
   "cell_type": "code",
   "execution_count": null,
   "id": "711264e0",
   "metadata": {
    "colab": {
     "base_uri": "https://localhost:8080/"
    },
    "executionInfo": {
     "elapsed": 66,
     "status": "ok",
     "timestamp": 1750003784035,
     "user": {
      "displayName": "Steven Sebastian Araujo Moran",
      "userId": "14571755018649745938"
     },
     "user_tz": 300
    },
    "id": "711264e0",
    "outputId": "5afb61a3-7afe-40b0-91ad-d9d20488a032"
   },
   "outputs": [
    {
     "name": "stdout",
     "output_type": "stream",
     "text": [
      "✓ Longitud promedio de texto: 415.8 caracteres\n",
      "✓ Longitud mínima: 67\n",
      "✓ Longitud máxima: 868\n"
     ]
    }
   ],
   "source": [
    "# Estadísticas básicas\n",
    "text_lengths = df['text'].str.len()\n",
    "print(f\"✓ Longitud promedio de texto: {text_lengths.mean():.1f} caracteres\")\n",
    "print(f\"✓ Longitud mínima: {text_lengths.min()}\")\n",
    "print(f\"✓ Longitud máxima: {text_lengths.max()}\")"
   ]
  },
  {
   "cell_type": "code",
   "execution_count": null,
   "id": "eceb6d4d",
   "metadata": {
    "id": "eceb6d4d"
   },
   "outputs": [],
   "source": [
    "info = {\n",
    "    'total_samples': len(df),\n",
    "    'unique_labels': df['value'].nunique(),\n",
    "    'label_distribution': df['value'].value_counts().to_dict(),\n",
    "    'text_lengths': {\n",
    "        'mean': df['text'].str.len().mean(),\n",
    "        'std': df['text'].str.len().std(),\n",
    "        'min': df['text'].str.len().min(),\n",
    "        'max': df['text'].str.len().max()\n",
    "    },\n",
    "    'missing_values': df.isnull().sum().to_dict()\n",
    "}\n",
    "\n",
    "# Guardar información\n",
    "with open(os.path.join(results_dir, 'data_analysis.json'), 'w') as f:\n",
    "    json.dump(info, f, indent=2, default=str)\n"
   ]
  },
  {
   "cell_type": "code",
   "execution_count": null,
   "id": "e1049bb3",
   "metadata": {
    "colab": {
     "base_uri": "https://localhost:8080/",
     "height": 557
    },
    "executionInfo": {
     "elapsed": 2702,
     "status": "ok",
     "timestamp": 1750003786889,
     "user": {
      "displayName": "Steven Sebastian Araujo Moran",
      "userId": "14571755018649745938"
     },
     "user_tz": 300
    },
    "id": "e1049bb3",
    "outputId": "def37073-2395-45d0-e780-71f1ab5e330e"
   },
   "outputs": [
    {
     "data": {
      "image/png": "[encoded data removed]",
      "text/plain": [
       "<Figure size 1500x1200 with 5 Axes>"
      ]
     },
     "metadata": {},
     "output_type": "display_data"
    },
    {
     "name": "stdout",
     "output_type": "stream",
     "text": [
      "✓ Visualizaciones guardadas en /content/drive/My Drive/GTSI/Codigos_ods/plots/data_analysis.png\n"
     ]
    }
   ],
   "source": [
    "fig, axes = plt.subplots(2, 2, figsize=(15, 12))\n",
    "\n",
    "# Distribución de etiquetas\n",
    "label_counts = pd.Series(info['label_distribution'])\n",
    "axes[0, 0].bar(label_counts.index, label_counts.values)\n",
    "axes[0, 0].set_title('Distribución de Etiquetas SDG')\n",
    "axes[0, 0].set_xlabel('SDG')\n",
    "axes[0, 0].set_ylabel('Frecuencia')\n",
    "axes[0, 0].tick_params(axis='x', rotation=45)\n",
    "\n",
    "# Distribución de longitudes de texto\n",
    "text_lengths_chars = df['text'].str.len() # cantidad de caracteres\n",
    "text_lengths_words = df['text'].str.split().str.len() # cantidad de palabras\n",
    "\n",
    "# axes[0, 1].hist(text_lengths, bins=50, alpha=0.7)\n",
    "# axes[0, 1].set_title('Distribución de Longitudes de Texto (Caracteres)')\n",
    "# axes[0, 1].set_xlabel('Longitud de Texto')\n",
    "# axes[0, 1].set_ylabel('Frecuencia')\n",
    "# axes[0, 1].axvline(text_lengths.mean(), color='red', linestyle='--', label=f'Media: {text_lengths.mean():.0f}')\n",
    "# axes[0, 1].axvline(text_lengths.median(), color='green', linestyle='--', label=f'Mediana: {text_lengths.median():.0f}')\n",
    "# # axes[0, 1].set_xlim(0, text_lengths.max() + 100)\n",
    "# # axes[0, 1].set_ylim(0, text_lengths.value_counts().max() + 100)\n",
    "# axes[0, 1].legend()\n",
    "sns.histplot(text_lengths_chars, bins=50, color='blue', alpha=0.5, label='Caracteres', ax=axes[0, 1])\n",
    "sns.histplot(text_lengths_words, bins=50, color='orange', alpha=0.5, label='Palabras', ax=axes[0, 1])\n",
    "axes[0, 1].set_title('Distribución de Longitudes de Texto')\n",
    "axes[0, 1].set_xlabel('Longitud')\n",
    "axes[0, 1].set_ylabel('Frecuencia')\n",
    "axes[0, 1].legend()\n",
    "\n",
    "# Boxplot de longitudes por SDG\n",
    "df_plot = df.copy()\n",
    "df_plot['text_length'] = df_plot['text'].str.len()\n",
    "sns.boxplot(data=df_plot, x='value', y='text_length', ax=axes[1, 0])\n",
    "axes[1, 0].set_title('Longitud de Texto por SDG')\n",
    "axes[1, 0].set_xlabel('SDG')\n",
    "axes[1, 0].set_ylabel('Longitud de Texto')\n",
    "axes[1, 0].tick_params(axis='x', rotation=45)\n",
    "\n",
    "# Heatmap de correlación (si hay más columnas numéricas)\n",
    "numeric_cols = df.select_dtypes(include=[np.number]).columns\n",
    "if len(numeric_cols) > 1:\n",
    "    corr_matrix = df[numeric_cols].corr()\n",
    "    sns.heatmap(corr_matrix, annot=True, cmap='coolwarm', center=0, ax=axes[1, 1])\n",
    "    axes[1, 1].set_title('Matriz de Correlación')\n",
    "else:\n",
    "    axes[1, 1].text(0.5, 0.5, 'No hay suficientes\\nvariables numéricas\\npara correlación',\n",
    "                    ha='center', va='center', transform=axes[1, 1].transAxes)\n",
    "    axes[1, 1].set_title('Matriz de Correlación')\n",
    "\n",
    "plt.tight_layout()\n",
    "plt.savefig(os.path.join(plots_dir, 'data_analysis.png'), dpi=300, bbox_inches='tight')\n",
    "plt.show()\n",
    "plt.close()\n",
    "print(\"✓ Visualizaciones guardadas en\", os.path.join(plots_dir, 'data_analysis.png'))\n"
   ]
  },
  {
   "cell_type": "code",
   "execution_count": null,
   "id": "d62382ea",
   "metadata": {},
   "outputs": [],
   "source": [
    "print(\"Análisis de datos completado.\")\n",
    "print(\"Cantidad de muestras:\", len(df))\n",
    "print(\"Cantidad de palabras *********\")\n",
    "print(\"Minimo:\", text_lengths_words.min())\n",
    "print(\"Máximo:\", text_lengths_words.max())\n",
    "print(\"Media:\", text_lengths_words.mean())\n",
    "print(\"Mediana\", text_lengths_words.median())\n",
    "print(\"Cantidad de caracteres *********\")\n",
    "print(\"Minimo:\", text_lengths_chars.min())\n",
    "print(\"Máximo:\", text_lengths_chars.max())\n",
    "print(\"Media:\", text_lengths_chars.mean())\n",
    "print(\"Mediana\", text_lengths_chars.median())"
   ]
  },
  {
   "cell_type": "markdown",
   "id": "de70a144",
   "metadata": {
    "id": "de70a144"
   },
   "source": [
    "# 5. Optimización de configuración"
   ]
  },
  {
   "cell_type": "code",
   "execution_count": null,
   "id": "e7e97263",
   "metadata": {
    "id": "e7e97263"
   },
   "outputs": [],
   "source": [
    "def optimize_config(base_config):\n",
    "    \"\"\"Optimizar configuración basada en recursos disponibles\"\"\"\n",
    "    system_info = get_system_info()\n",
    "    optimized = base_config.copy()\n",
    "\n",
    "    # Optimizar batch size\n",
    "    if system_info['gpu_available']:\n",
    "        gpu_memory = system_info['gpu_details'][0]['memory_total_gb']\n",
    "        optimized['batch_size'] = 16 #recommend_batch_size()\n",
    "\n",
    "        # Ajustar número de workers\n",
    "        optimized['num_workers'] = min(system_info['cpu_count'], 8)\n",
    "\n",
    "        # Habilitar optimizaciones GPU\n",
    "        optimized['fp16'] = True\n",
    "        optimized['dataloader_pin_memory'] = True\n",
    "\n",
    "        # Multi-GPU\n",
    "        if system_info['gpu_count'] > 1:\n",
    "            optimized['multi_gpu'] = True\n",
    "            optimized['batch_size'] *= system_info['gpu_count']\n",
    "    else:\n",
    "        # Configuración para CPU\n",
    "        optimized['batch_size'] = 8\n",
    "        optimized['num_workers'] = system_info['cpu_count']\n",
    "        optimized['fp16'] = False\n",
    "        optimized['dataloader_pin_memory'] = False\n",
    "\n",
    "    # # Ajustar épocas basado en tamaño del dataset\n",
    "    # if 'dataset_size' in base_config:\n",
    "    #     if base_config['dataset_size'] < 50000:\n",
    "    #         optimized['num_epochs'] = 10\n",
    "    #     elif base_config['dataset_size'] < 100000:\n",
    "    #         optimized['num_epochs'] = 5\n",
    "    #     else:\n",
    "    #         optimized['num_epochs'] = 3\n",
    "\n",
    "    return optimized"
   ]
  },
  {
   "cell_type": "code",
   "execution_count": null,
   "id": "53f1aa53",
   "metadata": {
    "id": "53f1aa53"
   },
   "outputs": [],
   "source": [
    "def get_device():\n",
    "    \"\"\"Detecta el mejor dispositivo disponible\"\"\"\n",
    "    if torch.cuda.is_available():\n",
    "        return f\"cuda:{torch.cuda.current_device()}\"\n",
    "    elif torch.backends.mps.is_available():\n",
    "        return \"mps\"\n",
    "    else:\n",
    "        return \"cpu\""
   ]
  },
  {
   "cell_type": "code",
   "execution_count": null,
   "id": "bf0cff36",
   "metadata": {
    "colab": {
     "base_uri": "https://localhost:8080/"
    },
    "executionInfo": {
     "elapsed": 4,
     "status": "ok",
     "timestamp": 1750003787021,
     "user": {
      "displayName": "Steven Sebastian Araujo Moran",
      "userId": "14571755018649745938"
     },
     "user_tz": 300
    },
    "id": "bf0cff36",
    "outputId": "97a66074-5e58-4c36-e8bf-fb9f450d2165"
   },
   "outputs": [
    {
     "name": "stdout",
     "output_type": "stream",
     "text": [
      "Configuración optimizada:\n",
      "  dataset_size: 80144\n",
      "  test_size: 0.2\n",
      "  val_size: 0.2\n",
      "  random_state: 42\n",
      "  warmup_steps: 500\n",
      "  weight_decay: 0.01\n",
      "  early_stopping_patience: 3\n",
      "  device: cuda:0\n",
      "  use_gpu: True\n",
      "  multi_gpu: False\n",
      "  traditional_use_gpu: False\n",
      "  transformer_use_gpu: True\n",
      "  max_length: 512\n",
      "  batch_size: 16\n",
      "  num_epochs: 5\n",
      "  learning_rate: 2e-05\n",
      "  use_wandb: False\n",
      "  save_plots: True\n",
      "  verbose: True\n",
      "  models_to_train: {'bert': 'bert-base-uncased'}\n",
      "  num_gpus: 1\n",
      "  num_workers: 2\n",
      "  fp16: True\n",
      "  dataloader_pin_memory: True\n"
     ]
    }
   ],
   "source": [
    "base_config = {\n",
    "    'dataset_size': len(df),\n",
    "    'test_size': 0.2,\n",
    "    'val_size': 0.2,  # Del conjunto de entrenamiento\n",
    "    'random_state': 42,\n",
    "    'warmup_steps': 500,\n",
    "    'weight_decay': 0.01,\n",
    "    'early_stopping_patience': 3,\n",
    "\n",
    "    # Configuración de GPU\n",
    "    \"device\": get_device(),\n",
    "    \"use_gpu\": torch.cuda.is_available(),\n",
    "    \"multi_gpu\": torch.cuda.device_count() > 1,\n",
    "\n",
    "    # Configuración de modelos tradicionales\n",
    "    \"traditional_use_gpu\": False,\n",
    "\n",
    "    # Configuración de transformers\n",
    "    \"transformer_use_gpu\": torch.cuda.is_available(),\n",
    "    'max_length': 512,\n",
    "    'batch_size': 16 if torch.cuda.is_available() else 8,\n",
    "    'num_epochs': 5,\n",
    "    'learning_rate': 2e-5,\n",
    "\n",
    "    # Logging\n",
    "    'use_wandb': False,  # Cambiar a True para usar Weights & Biases\n",
    "    'save_plots': True,\n",
    "    'verbose': True,\n",
    "\n",
    "    \"models_to_train\": {\n",
    "        # 'roberta': 'roberta-base',\n",
    "        'bert': 'bert-base-uncased',\n",
    "        # 'distilbert': 'distilbert-base-uncased'\n",
    "    }\n",
    "}\n",
    "base_config['num_gpus'] = torch.cuda.device_count() if base_config['use_gpu'] else 0\n",
    "\n",
    "optimized_config = optimize_config(base_config)\n",
    "print(\"Configuración optimizada:\")\n",
    "for key, value in optimized_config.items():\n",
    "    print(f\"  {key}: {value}\")"
   ]
  },
  {
   "cell_type": "markdown",
   "id": "e9c23a72",
   "metadata": {
    "id": "e9c23a72"
   },
   "source": [
    "# 6. Procesamiento"
   ]
  },
  {
   "cell_type": "code",
   "execution_count": null,
   "id": "430e46b0",
   "metadata": {
    "id": "430e46b0"
   },
   "outputs": [],
   "source": [
    "def clean_data(df):\n",
    "    \"\"\"Limpiar y preprocesar datos\"\"\"\n",
    "    print(\"Limpiando datos...\")\n",
    "\n",
    "    # Eliminar filas con valores nulos\n",
    "    df['text'] = df['text'].dropna()\n",
    "\n",
    "    # Convertir texto a string\n",
    "    df['text'] = df['text'].astype(str)\n",
    "\n",
    "    # Filtrar textos muy cortos\n",
    "    df = df[df['text'].str.len() >= 10]\n",
    "\n",
    "    print(f\"Datos después de limpieza: {len(df)} muestras\")\n",
    "    return df"
   ]
  },
  {
   "cell_type": "code",
   "execution_count": null,
   "id": "367a654f",
   "metadata": {
    "colab": {
     "base_uri": "https://localhost:8080/"
    },
    "executionInfo": {
     "elapsed": 16,
     "status": "ok",
     "timestamp": 1750003787050,
     "user": {
      "displayName": "Steven Sebastian Araujo Moran",
      "userId": "14571755018649745938"
     },
     "user_tz": 300
    },
    "id": "367a654f",
    "outputId": "c0454171-e7d1-4819-fda8-4fa1e1992633"
   },
   "outputs": [
    {
     "name": "stdout",
     "output_type": "stream",
     "text": [
      "Limpiando datos...\n",
      "Datos después de limpieza: 80144 muestras\n"
     ]
    }
   ],
   "source": [
    "df = clean_data(df)"
   ]
  },
  {
   "cell_type": "code",
   "execution_count": null,
   "id": "54dff69c",
   "metadata": {
    "colab": {
     "base_uri": "https://localhost:8080/"
    },
    "executionInfo": {
     "elapsed": 3,
     "status": "ok",
     "timestamp": 1750003787053,
     "user": {
      "displayName": "Steven Sebastian Araujo Moran",
      "userId": "14571755018649745938"
     },
     "user_tz": 300
    },
    "id": "54dff69c",
    "outputId": "9848a481-0fd9-45dd-e416-53eb9b921249"
   },
   "outputs": [
    {
     "name": "stdout",
     "output_type": "stream",
     "text": [
      "<class 'pandas.core.frame.DataFrame'>\n",
      "RangeIndex: 80144 entries, 0 to 80143\n",
      "Data columns (total 5 columns):\n",
      " #   Column    Non-Null Count  Dtype  \n",
      "---  ------    --------------  -----  \n",
      " 0   CORPUS    80144 non-null  object \n",
      " 1   value     80144 non-null  int64  \n",
      " 2   lang      42140 non-null  object \n",
      " 3   gpu_used  38004 non-null  float64\n",
      " 4   text      80144 non-null  object \n",
      "dtypes: float64(1), int64(1), object(3)\n",
      "memory usage: 3.1+ MB\n"
     ]
    }
   ],
   "source": [
    "df.info()"
   ]
  },
  {
   "cell_type": "code",
   "execution_count": null,
   "id": "7f380562",
   "metadata": {
    "id": "7f380562"
   },
   "outputs": [],
   "source": [
    "def split_data(df):\n",
    "    \"\"\"Dividir datos en entrenamiento, validación y prueba\"\"\"\n",
    "    print(\"Dividiendo datos...\")\n",
    "\n",
    "    # Primera división: train+val vs test\n",
    "    X = df['text'].values\n",
    "    y = df['value'].values\n",
    "\n",
    "    X_temp, X_test, y_temp, y_test = train_test_split(\n",
    "        X, y, test_size=base_config[\"test_size\"],\n",
    "        random_state=base_config[\"random_state\"],\n",
    "        stratify=y\n",
    "    )\n",
    "\n",
    "    # Segunda división: train vs val\n",
    "    X_train, X_val, y_train, y_val = train_test_split(\n",
    "        X_temp, y_temp, test_size=base_config[\"val_size\"],\n",
    "        random_state=base_config[\"random_state\"],\n",
    "        stratify=y_temp\n",
    "    )\n",
    "\n",
    "    # Crear DataFrames\n",
    "    train_df = pd.DataFrame({'text': X_train, 'value': y_train})\n",
    "    val_df = pd.DataFrame({'text': X_val, 'value': y_val})\n",
    "    test_df = pd.DataFrame({'text': X_test, 'value': y_test})\n",
    "\n",
    "    print(f\"División de datos - Train: {len(train_df)}, Val: {len(val_df)}, Test: {len(test_df)}\")\n",
    "\n",
    "    return train_df, val_df, test_df"
   ]
  },
  {
   "cell_type": "code",
   "execution_count": null,
   "id": "8d27489a",
   "metadata": {
    "colab": {
     "base_uri": "https://localhost:8080/"
    },
    "executionInfo": {
     "elapsed": 7,
     "status": "ok",
     "timestamp": 1750003787074,
     "user": {
      "displayName": "Steven Sebastian Araujo Moran",
      "userId": "14571755018649745938"
     },
     "user_tz": 300
    },
    "id": "8d27489a",
    "outputId": "b0a7dcee-d3ff-4187-c44d-390b70a70bf4"
   },
   "outputs": [
    {
     "name": "stdout",
     "output_type": "stream",
     "text": [
      "Dividiendo datos...\n",
      "División de datos - Train: 51292, Val: 12823, Test: 16029\n"
     ]
    }
   ],
   "source": [
    "train_df, val_df, test_df = split_data(df)"
   ]
  },
  {
   "cell_type": "markdown",
   "id": "5465c760",
   "metadata": {
    "id": "5465c760"
   },
   "source": [
    "# 7. Entrenamiento"
   ]
  },
  {
   "cell_type": "code",
   "execution_count": null,
   "id": "b3fda63e",
   "metadata": {
    "id": "b3fda63e"
   },
   "outputs": [],
   "source": [
    "logger.info(\"Iniciando pipeline de entrenamiento...\")\n",
    "start_time = time.time()"
   ]
  },
  {
   "cell_type": "markdown",
   "id": "8de90c65",
   "metadata": {
    "id": "8de90c65"
   },
   "source": [
    "### Entrenar modelos tradicionales"
   ]
  },
  {
   "cell_type": "code",
   "execution_count": null,
   "id": "f4df941a",
   "metadata": {
    "id": "f4df941a"
   },
   "outputs": [],
   "source": [
    "def save_traditional_model(model, vectorizer, model_name, results_dict):\n",
    "    \"\"\"Guarda modelo tradicional y sus componentes\"\"\"\n",
    "    timestamp = datetime.now().strftime(\"%Y%m%d_%H%M%S\")\n",
    "    model_dir = f\"{models_dir}/traditional/{model_name}_{timestamp}\"\n",
    "    os.makedirs(model_dir, exist_ok=True)\n",
    "\n",
    "    # Guardar modelo\n",
    "    model_path = f\"{model_dir}/model.pkl\"\n",
    "    joblib.dump(model, model_path)\n",
    "\n",
    "    # Guardar vectorizador\n",
    "    vectorizer_path = f\"{model_dir}/vectorizer.pkl\"\n",
    "    joblib.dump(vectorizer, vectorizer_path)\n",
    "\n",
    "    # Guardar metadatos\n",
    "    metadata = {\n",
    "        'model_name': model_name,\n",
    "        'timestamp': timestamp,\n",
    "        'val_accuracy': results_dict['val_accuracy'],\n",
    "        'test_accuracy': results_dict['test_accuracy'],\n",
    "        'val_f1': results_dict['val_f1'],\n",
    "        'test_f1': results_dict['f1_score'],\n",
    "        'gpu_used': results_dict['gpu_used'],\n",
    "        'model_path': model_path,\n",
    "        'vectorizer_path': vectorizer_path\n",
    "    }\n",
    "\n",
    "    metadata_path = f\"{model_dir}/metadata.json\"\n",
    "    with open(metadata_path, 'w') as f:\n",
    "        json.dump(metadata, f, indent=2)\n",
    "\n",
    "    print(f\"💾 Modelo guardado en: {model_dir}\")\n",
    "    return model_dir\n"
   ]
  },
  {
   "cell_type": "code",
   "execution_count": null,
   "id": "f032b04a",
   "metadata": {
    "id": "f032b04a"
   },
   "outputs": [],
   "source": [
    "def train_traditional_models(train_df, val_df, test_df, use_gpu=None, save_models=True):\n",
    "    \"\"\"Entrenar modelos tradicionales de ML\"\"\"\n",
    "    logger.info(\"Entrenando modelos tradicionales...\")\n",
    "\n",
    "    # Configuración de GPU\n",
    "    if use_gpu is None:\n",
    "        use_gpu_final = optimized_config[\"traditional_use_gpu\"]\n",
    "    else:\n",
    "        use_gpu_final = use_gpu and optimized_config[\"use_gpu\"]\n",
    "\n",
    "    print(f\"   - Configuración GPU: {use_gpu_final}\")\n",
    "    print(f\"   - Guardar modelos: {save_models}\")\n",
    "\n",
    "    # Vectorización TF-IDF\n",
    "    vectorizer = TfidfVectorizer(max_features=10000, stop_words='english')\n",
    "    X_train_tfidf = vectorizer.fit_transform(train_df['text'])\n",
    "    X_val_tfidf = vectorizer.transform(val_df['text'])\n",
    "    X_test_tfidf = vectorizer.transform(test_df['text'])\n",
    "\n",
    "    # Modelos a entrenar\n",
    "    models = {\n",
    "        'SVM': SVC(kernel='rbf', probability=True, random_state=base_config[\"random_state\"]),\n",
    "        'Logistic_Regression': LogisticRegression(random_state=base_config[\"random_state\"], max_iter=1000),\n",
    "        'Random_Forest': RandomForestClassifier(n_estimators=100, random_state=base_config[\"random_state\"])\n",
    "    }\n",
    "\n",
    "    results = {}\n",
    "    saved_models = {}\n",
    "\n",
    "    for name, model in models.items():\n",
    "        print(f\"Entrenando {name}...\")\n",
    "        start_time = time.time()\n",
    "\n",
    "        # Entrenar modelo\n",
    "        model.fit(X_train_tfidf, train_df['value'])\n",
    "\n",
    "        # Predicciones\n",
    "        train_pred = model.predict(X_train_tfidf)\n",
    "        val_pred = model.predict(X_val_tfidf)\n",
    "        test_pred = model.predict(X_test_tfidf)\n",
    "\n",
    "        # Métricas\n",
    "        results[name] = {\n",
    "            'train_accuracy': accuracy_score(train_df['value'], train_pred),\n",
    "            'val_accuracy': accuracy_score(val_df['value'], val_pred),\n",
    "            'test_accuracy': accuracy_score(test_df['value'], test_pred),\n",
    "            'training_time': time.time() - start_time,\n",
    "            'model': model,\n",
    "            'predictions': {\n",
    "                'train': train_pred,\n",
    "                'val': val_pred,\n",
    "                'test': test_pred\n",
    "            },\n",
    "            'gpu_used': use_gpu_final\n",
    "        }\n",
    "\n",
    "        val_f1 = f1_score(val_df['value'], val_pred, average='weighted')\n",
    "\n",
    "        # Métricas detalladas\n",
    "        precision, recall, f1, _ = precision_recall_fscore_support(\n",
    "            test_df['value'], test_pred, average='weighted'\n",
    "        )\n",
    "        results[name].update({\n",
    "            'precision': precision,\n",
    "            'recall': recall,\n",
    "            'f1_score': f1,\n",
    "            'val_f1': val_f1,\n",
    "        })\n",
    "\n",
    "        if save_models:\n",
    "            model_dir = save_traditional_model(model, vectorizer, name, results[name])\n",
    "            saved_models[name] = model_dir\n",
    "\n",
    "        logger.info(f\"{name} - Test Accuracy: {results[name]['test_accuracy']:.4f}\")\n",
    "\n",
    "    # Guardar vectorizador\n",
    "    joblib.dump(vectorizer, os.path.join(models_dir, 'tfidf_vectorizer.pkl'))\n",
    "\n",
    "    return results, saved_models if save_models else {}\n"
   ]
  },
  {
   "cell_type": "code",
   "execution_count": null,
   "id": "a6f6e2c6",
   "metadata": {
    "id": "a6f6e2c6"
   },
   "outputs": [],
   "source": [
    "# traditional_results, traditional_saved = train_traditional_models(train_df, val_df, test_df, use_gpu=True)"
   ]
  },
  {
   "cell_type": "markdown",
   "id": "f9f51742",
   "metadata": {
    "id": "f9f51742"
   },
   "source": [
    "### Entrenar modelos transformer"
   ]
  },
  {
   "cell_type": "code",
   "execution_count": null,
   "id": "1e0d03be",
   "metadata": {
    "id": "1e0d03be"
   },
   "outputs": [],
   "source": [
    "class SDGDataset(Dataset):\n",
    "    \"\"\"Dataset personalizado para clasificación de SDG\"\"\"\n",
    "\n",
    "    def __init__(self, texts: List[str], labels: List[int], tokenizer, max_length: int = 512):\n",
    "        self.texts = texts\n",
    "        self.labels = labels\n",
    "        self.tokenizer = tokenizer\n",
    "        self.max_length = max_length\n",
    "\n",
    "    def __len__(self):\n",
    "        return len(self.texts)\n",
    "\n",
    "    def __getitem__(self, idx):\n",
    "        text = str(self.texts[idx])\n",
    "        label = self.labels[idx]\n",
    "\n",
    "        encoding = self.tokenizer(\n",
    "            text,\n",
    "            truncation=True,\n",
    "            padding='max_length',\n",
    "            max_length=self.max_length,\n",
    "            return_tensors='pt'\n",
    "        )\n",
    "\n",
    "        return {\n",
    "            'input_ids': encoding['input_ids'].flatten(),\n",
    "            'attention_mask': encoding['attention_mask'].flatten(),\n",
    "            'labels': torch.tensor(label, dtype=torch.long)\n",
    "        }\n"
   ]
  },
  {
   "cell_type": "code",
   "execution_count": null,
   "id": "ccf11154",
   "metadata": {
    "id": "ccf11154"
   },
   "outputs": [],
   "source": [
    "def save_transformer_model(model, tokenizer, trainer, model_name, results_dict):\n",
    "    \"\"\"Guarda modelo transformer y sus componentes\"\"\"\n",
    "    timestamp = datetime.now().strftime(\"%Y%m%d_%H%M%S\")\n",
    "    model_dir = f\"{models_dir}/transformers/{model_name.replace('/', '_')}_{timestamp}\"\n",
    "    os.makedirs(model_dir, exist_ok=True)\n",
    "\n",
    "    # Guardar modelo y tokenizer usando transformers\n",
    "    if hasattr(model, 'module'):  # Si es DataParallel\n",
    "        model.module.save_pretrained(model_dir)\n",
    "    else:\n",
    "        model.save_pretrained(model_dir)\n",
    "\n",
    "    tokenizer.save_pretrained(model_dir)\n",
    "\n",
    "    # Guardar trainer state\n",
    "    trainer_dir = f\"{model_dir}/trainer\"\n",
    "    trainer.save_model(trainer_dir)\n",
    "\n",
    "    # Guardar metadatos\n",
    "    metadata = {\n",
    "        'model_name': model_name,\n",
    "        'timestamp': timestamp,\n",
    "        'val_accuracy': results_dict['val_accuracy'],\n",
    "        'test_accuracy': results_dict['test_accuracy'],\n",
    "        'val_f1': results_dict['val_f1'],\n",
    "        'test_f1': results_dict['test_f1'],\n",
    "        'gpu_used': results_dict['gpu_used'],\n",
    "        'multi_gpu_used': results_dict['multi_gpu_used'],\n",
    "        'device': results_dict['device'],\n",
    "        'model_dir': model_dir,\n",
    "        'trainer_dir': trainer_dir\n",
    "    }\n",
    "\n",
    "    metadata_path = f\"{model_dir}/metadata.json\"\n",
    "    with open(metadata_path, 'w') as f:\n",
    "        json.dump(metadata, f, indent=2)\n",
    "\n",
    "    print(f\"     💾 Modelo transformer guardado en: {model_dir}\")\n",
    "    return model_dir"
   ]
  },
  {
   "cell_type": "code",
   "execution_count": null,
   "id": "4dafcbbc",
   "metadata": {
    "id": "4dafcbbc"
   },
   "outputs": [],
   "source": [
    "def train_transformer_model(model_name: str, train_df: pd.DataFrame,\n",
    "                              val_df: pd.DataFrame, test_df: pd.DataFrame,\n",
    "                              use_gpu=None, multi_gpu=None, save_model=True) -> Dict[str, Any]:\n",
    "        \"\"\"Entrenar modelo transformer\"\"\"\n",
    "        logger.info(f\"Entrenando modelo {model_name}...\")\n",
    "\n",
    "        # Configuración de GPU\n",
    "        if use_gpu is None:\n",
    "            use_gpu_final = optimized_config[\"transformer_use_gpu\"]\n",
    "        else:\n",
    "            use_gpu_final = use_gpu and optimized_config[\"use_gpu\"]\n",
    "\n",
    "        if multi_gpu is None:\n",
    "            multi_gpu_final = optimized_config[\"multi_gpu\"] and use_gpu_final\n",
    "        else:\n",
    "            multi_gpu_final = multi_gpu and optimized_config[\"multi_gpu\"] and use_gpu_final\n",
    "\n",
    "        # Configurar dispositivo\n",
    "        if use_gpu_final:\n",
    "            device = optimized_config[\"device\"]\n",
    "            print(f\"   - Usando GPU: {device}\")\n",
    "            if multi_gpu_final:\n",
    "                print(f\"   - Multi-GPU activado: {torch.cuda.device_count()} GPUs\")\n",
    "        else:\n",
    "            device = \"cpu\"\n",
    "            print(\"   - Usando CPU\")\n",
    "\n",
    "        print(f\"   - Guardar modelo: {save_model}\")\n",
    "\n",
    "        # Preparar etiquetas\n",
    "        label_encoder = LabelEncoder()\n",
    "        all_labels = pd.concat([train_df['value'], val_df['value'], test_df['value']])\n",
    "        label_encoder.fit(all_labels)\n",
    "\n",
    "        train_labels = label_encoder.transform(train_df['value'])\n",
    "        val_labels = label_encoder.transform(val_df['value'])\n",
    "        test_labels = label_encoder.transform(test_df['value'])\n",
    "\n",
    "        # Tokenizer y modelo\n",
    "        tokenizer = AutoTokenizer.from_pretrained(optimized_config[\"models_to_train\"][model_name])\n",
    "        model = AutoModelForSequenceClassification.from_pretrained(\n",
    "            optimized_config[\"models_to_train\"][model_name],\n",
    "            num_labels=len(label_encoder.classes_),\n",
    "            ignore_mismatched_sizes=True\n",
    "        )\n",
    "\n",
    "        # Mover a GPU si está disponible\n",
    "        if use_gpu_final:\n",
    "            model = model.to(device)\n",
    "\n",
    "            # Configurar multi-GPU si está disponible\n",
    "            if multi_gpu_final:\n",
    "                model = DataParallel(model)\n",
    "\n",
    "        # Crear datasets\n",
    "        train_dataset = SDGDataset(\n",
    "            train_df['text'].tolist(), train_labels.tolist(),\n",
    "            tokenizer, optimized_config[\"max_length\"]\n",
    "        )\n",
    "        val_dataset = SDGDataset(\n",
    "            val_df['text'].tolist(), val_labels.tolist(),\n",
    "            tokenizer, optimized_config[\"max_length\"]\n",
    "        )\n",
    "        test_dataset = SDGDataset(\n",
    "            test_df['text'].tolist(), test_labels.tolist(),\n",
    "            tokenizer, optimized_config[\"max_length\"]\n",
    "        )\n",
    "\n",
    "        print(\"epoca\", optimized_config[\"num_epochs\"], \"batch_size\", optimized_config[\"batch_size\"])\n",
    "\n",
    "        # Configurar entrenamiento\n",
    "        training_args = TrainingArguments(\n",
    "            output_dir=os.path.join(models_dir, f'{model_name}_checkpoints'),\n",
    "            num_train_epochs=optimized_config[\"num_epochs\"],\n",
    "            per_device_train_batch_size=optimized_config[\"batch_size\"],\n",
    "            per_device_eval_batch_size=optimized_config[\"batch_size\"],\n",
    "            warmup_steps=optimized_config[\"warmup_steps\"],\n",
    "            weight_decay=optimized_config[\"weight_decay\"],\n",
    "            logging_dir=os.path.join(results_dir, f'{model_name}_logs'),\n",
    "            logging_steps=10,\n",
    "            eval_strategy=\"epoch\",\n",
    "            eval_steps=500,\n",
    "            save_strategy=\"epoch\",\n",
    "            save_steps=500,\n",
    "            load_best_model_at_end=True,\n",
    "            metric_for_best_model=\"eval_accuracy\",\n",
    "            greater_is_better=True,\n",
    "            dataloader_num_workers=(4 if multi_gpu_final else 2) if use_gpu_final else 0,\n",
    "            fp16=use_gpu_final,  # Usar precisión mixta si hay GPU\n",
    "\n",
    "            report_to=\"none\",           # Desactivar wandb\n",
    "            run_name=\"sdg_classifier\",\n",
    "        )\n",
    "\n",
    "        # Función de métricas\n",
    "        def compute_metrics(eval_pred):\n",
    "            predictions, labels = eval_pred\n",
    "            predictions = np.argmax(predictions, axis=1)\n",
    "\n",
    "            accuracy = accuracy_score(labels, predictions)\n",
    "            precision, recall, f1, _ = precision_recall_fscore_support(\n",
    "                labels, predictions, average='weighted'\n",
    "            )\n",
    "\n",
    "            return {\n",
    "                'accuracy': accuracy,\n",
    "                'precision': precision,\n",
    "                'recall': recall,\n",
    "                'f1': f1\n",
    "            }\n",
    "\n",
    "        # Trainer\n",
    "        trainer = Trainer(\n",
    "            model=model,\n",
    "            args=training_args,\n",
    "            train_dataset=train_dataset,\n",
    "            eval_dataset=val_dataset,\n",
    "            compute_metrics=compute_metrics,\n",
    "            callbacks=[EarlyStoppingCallback(early_stopping_patience=optimized_config[\"early_stopping_patience\"])]\n",
    "        )\n",
    "\n",
    "        # Entrenar\n",
    "        start_time = time.time()\n",
    "        trainer.train()\n",
    "        training_time = time.time() - start_time\n",
    "\n",
    "        # Evaluación\n",
    "        train_results = trainer.evaluate(train_dataset)\n",
    "        val_results = trainer.evaluate(val_dataset)\n",
    "        test_results = trainer.evaluate(test_dataset)\n",
    "\n",
    "        # Predicciones en validación\n",
    "        val_predictions = trainer.predict(val_dataset)\n",
    "        val_preds = np.argmax(val_predictions.predictions, axis=1)\n",
    "\n",
    "        # Predicciones detalladas\n",
    "        test_predictions = trainer.predict(test_dataset)\n",
    "        test_pred_labels = np.argmax(test_predictions.predictions, axis=1)\n",
    "\n",
    "        # Guardar modelo\n",
    "        model_save_path = os.path.join(models_dir, f'{model_name}_final')\n",
    "        trainer.save_model(model_save_path)\n",
    "        tokenizer.save_pretrained(model_save_path)\n",
    "\n",
    "        # Guardar label encoder\n",
    "        joblib.dump(label_encoder, os.path.join(model_save_path, 'label_encoder.pkl'))\n",
    "\n",
    "        results = {\n",
    "            'model': model,\n",
    "            'tokenizer': tokenizer,\n",
    "            'trainer': trainer,\n",
    "            'train_accuracy': train_results['eval_accuracy'],\n",
    "            'val_accuracy': val_results['eval_accuracy'],\n",
    "            'test_accuracy': test_results['eval_accuracy'],\n",
    "            'train_f1': train_results['eval_f1'],\n",
    "            'val_f1': val_results['eval_f1'],\n",
    "            'test_f1': test_results['eval_f1'],\n",
    "            'training_time': training_time,\n",
    "            'model_path': model_save_path,\n",
    "            'true_labels': test_labels,\n",
    "            'label_encoder': label_encoder,\n",
    "            'val_predictions': val_preds,\n",
    "            'test_predictions': test_pred_labels,\n",
    "            'gpu_used': use_gpu_final,\n",
    "            'multi_gpu_used': multi_gpu_final,\n",
    "            'device': device\n",
    "        }\n",
    "\n",
    "        # Guardar modelo si se solicita\n",
    "        saved_model_dir = None\n",
    "        if save_model:\n",
    "            saved_model_dir = save_transformer_model(model, tokenizer, trainer, model_name, results)\n",
    "\n",
    "        print(f\"✓ Val Accuracy: {val_results['eval_accuracy']:.4f}, Test Accuracy: {test_results['eval_accuracy']:.4f}\")\n",
    "\n",
    "        return results, saved_model_dir"
   ]
  },
  {
   "cell_type": "code",
   "execution_count": null,
   "id": "093bd077",
   "metadata": {
    "colab": {
     "base_uri": "https://localhost:8080/",
     "height": 377
    },
    "executionInfo": {
     "elapsed": 7600465,
     "status": "ok",
     "timestamp": 1750011387589,
     "user": {
      "displayName": "Steven Sebastian Araujo Moran",
      "userId": "14571755018649745938"
     },
     "user_tz": 300
    },
    "id": "093bd077",
    "outputId": "8086693a-f57e-4868-ad1a-569cbd0248f7"
   },
   "outputs": [
    {
     "name": "stdout",
     "output_type": "stream",
     "text": [
      "   - Usando GPU: cuda:0\n",
      "   - Guardar modelo: True\n"
     ]
    },
    {
     "name": "stderr",
     "output_type": "stream",
     "text": [
      "Some weights of BertForSequenceClassification were not initialized from the model checkpoint at bert-base-uncased and are newly initialized: ['classifier.bias', 'classifier.weight']\n",
      "You should probably TRAIN this model on a down-stream task to be able to use it for predictions and inference.\n"
     ]
    },
    {
     "name": "stdout",
     "output_type": "stream",
     "text": [
      "epoca 5 batch_size 16\n"
     ]
    },
    {
     "data": {
      "text/html": [
       "\n",
       "    <div>\n",
       "      \n",
       "      <progress value='16030' max='16030' style='width:300px; height:20px; vertical-align: middle;'></progress>\n",
       "      [16030/16030 1:53:17, Epoch 5/5]\n",
       "    </div>\n",
       "    <table border=\"1\" class=\"dataframe\">\n",
       "  <thead>\n",
       " <tr style=\"text-align: left;\">\n",
       "      <th>Epoch</th>\n",
       "      <th>Training Loss</th>\n",
       "      <th>Validation Loss</th>\n",
       "      <th>Accuracy</th>\n",
       "      <th>Precision</th>\n",
       "      <th>Recall</th>\n",
       "      <th>F1</th>\n",
       "    </tr>\n",
       "  </thead>\n",
       "  <tbody>\n",
       "    <tr>\n",
       "      <td>1</td>\n",
       "      <td>0.635700</td>\n",
       "      <td>0.769294</td>\n",
       "      <td>0.779069</td>\n",
       "      <td>0.780037</td>\n",
       "      <td>0.779069</td>\n",
       "      <td>0.777118</td>\n",
       "    </tr>\n",
       "    <tr>\n",
       "      <td>2</td>\n",
       "      <td>0.628200</td>\n",
       "      <td>0.604391</td>\n",
       "      <td>0.831787</td>\n",
       "      <td>0.834218</td>\n",
       "      <td>0.831787</td>\n",
       "      <td>0.831774</td>\n",
       "    </tr>\n",
       "    <tr>\n",
       "      <td>3</td>\n",
       "      <td>0.415100</td>\n",
       "      <td>0.550810</td>\n",
       "      <td>0.861655</td>\n",
       "      <td>0.864495</td>\n",
       "      <td>0.861655</td>\n",
       "      <td>0.861541</td>\n",
       "    </tr>\n",
       "    <tr>\n",
       "      <td>4</td>\n",
       "      <td>0.082700</td>\n",
       "      <td>0.617299</td>\n",
       "      <td>0.876238</td>\n",
       "      <td>0.878018</td>\n",
       "      <td>0.876238</td>\n",
       "      <td>0.876263</td>\n",
       "    </tr>\n",
       "    <tr>\n",
       "      <td>5</td>\n",
       "      <td>0.124800</td>\n",
       "      <td>0.631350</td>\n",
       "      <td>0.886688</td>\n",
       "      <td>0.887091</td>\n",
       "      <td>0.886688</td>\n",
       "      <td>0.886792</td>\n",
       "    </tr>\n",
       "  </tbody>\n",
       "</table><p>"
      ],
      "text/plain": [
       "<IPython.core.display.HTML object>"
      ]
     },
     "metadata": {},
     "output_type": "display_data"
    },
    {
     "data": {
      "text/html": [],
      "text/plain": [
       "<IPython.core.display.HTML object>"
      ]
     },
     "metadata": {},
     "output_type": "display_data"
    },
    {
     "data": {
      "text/html": [],
      "text/plain": [
       "<IPython.core.display.HTML object>"
      ]
     },
     "metadata": {},
     "output_type": "display_data"
    },
    {
     "name": "stdout",
     "output_type": "stream",
     "text": [
      "     💾 Modelo transformer guardado en: /content/drive/My Drive/GTSI/Codigos_ods/models/transformers/bert_20250615_181621\n",
      "✓ Val Accuracy: 0.8867, Test Accuracy: 0.8875\n"
     ]
    }
   ],
   "source": [
    "transformer_results = {}\n",
    "for model_name in base_config[\"models_to_train\"].keys():\n",
    "    try:\n",
    "        results, transformer_saved = train_transformer_model(model_name, train_df, val_df, test_df, use_gpu=True)\n",
    "        transformer_results[model_name] = results\n",
    "    except Exception as e:\n",
    "        print(f\"Error entrenando {model_name}: {str(e)}\")\n",
    "        continue"
   ]
  },
  {
   "cell_type": "markdown",
   "id": "7f0f17ff",
   "metadata": {
    "id": "7f0f17ff"
   },
   "source": [
    "# 8. Análisis de resultados"
   ]
  },
  {
   "cell_type": "code",
   "execution_count": null,
   "id": "ec3a8041",
   "metadata": {
    "id": "ec3a8041"
   },
   "outputs": [],
   "source": [
    "# Combinar resultados\n",
    "all_results = {**transformer_results}#{**traditional_results, **transformer_results}"
   ]
  },
  {
   "cell_type": "code",
   "execution_count": null,
   "id": "eb3d5b90",
   "metadata": {
    "id": "eb3d5b90"
   },
   "outputs": [],
   "source": [
    "def create_comparison_plots(summary: Dict[str, Any], all_results: Dict[str, Any], test_df: pd.DataFrame):\n",
    "    \"\"\"Crear gráficos comparativos\"\"\"\n",
    "    fig, axes = plt.subplots(2, 2, figsize=(15, 12))\n",
    "\n",
    "    models = list(summary.keys())\n",
    "    accuracies = [summary[m]['test_accuracy'] for m in models]\n",
    "    f1_scores = [summary[m]['test_f1'] for m in models]\n",
    "    times = [summary[m]['training_time'] for m in models]\n",
    "\n",
    "    # Comparación de accuracy\n",
    "    bars1 = axes[0, 0].bar(models, accuracies, color='skyblue', alpha=0.7)\n",
    "    axes[0, 0].set_title('Comparación de Accuracy en Test')\n",
    "    axes[0, 0].set_ylabel('Accuracy')\n",
    "    axes[0, 0].tick_params(axis='x', rotation=45)\n",
    "\n",
    "    # Añadir valores en las barras\n",
    "    for bar, acc in zip(bars1, accuracies):\n",
    "        axes[0, 0].text(bar.get_x() + bar.get_width()/2, bar.get_height() + 0.01,\n",
    "                        f'{acc:.3f}', ha='center', va='bottom')\n",
    "\n",
    "    # Comparación de F1-Score\n",
    "    bars2 = axes[0, 1].bar(models, f1_scores, color='lightcoral', alpha=0.7)\n",
    "    axes[0, 1].set_title('Comparación de F1-Score en Test')\n",
    "    axes[0, 1].set_ylabel('F1-Score')\n",
    "    axes[0, 1].tick_params(axis='x', rotation=45)\n",
    "\n",
    "    for bar, f1 in zip(bars2, f1_scores):\n",
    "        axes[0, 1].text(bar.get_x() + bar.get_width()/2, bar.get_height() + 0.01,\n",
    "                        f'{f1:.3f}', ha='center', va='bottom')\n",
    "\n",
    "    # Tiempo de entrenamiento\n",
    "    bars3 = axes[1, 0].bar(models, times, color='lightgreen', alpha=0.7)\n",
    "    axes[1, 0].set_title('Tiempo de Entrenamiento')\n",
    "    axes[1, 0].set_ylabel('Tiempo (segundos)')\n",
    "    axes[1, 0].tick_params(axis='x', rotation=45)\n",
    "\n",
    "    for bar, time_val in zip(bars3, times):\n",
    "        axes[1, 0].text(bar.get_x() + bar.get_width()/2, bar.get_height() + max(times)*0.01,\n",
    "                        f'{time_val:.1f}s', ha='center', va='bottom')\n",
    "\n",
    "    # Scatter plot: Accuracy vs Tiempo\n",
    "    axes[1, 1].scatter(times, accuracies, s=100, alpha=0.7)\n",
    "    for i, model in enumerate(models):\n",
    "        axes[1, 1].annotate(model, (times[i], accuracies[i]),\n",
    "                            xytext=(5, 5), textcoords='offset points')\n",
    "    axes[1, 1].set_xlabel('Tiempo de Entrenamiento (s)')\n",
    "    axes[1, 1].set_ylabel('Accuracy')\n",
    "    axes[1, 1].set_title('Accuracy vs Tiempo de Entrenamiento')\n",
    "\n",
    "    plt.tight_layout()\n",
    "    plt.savefig(os.path.join(plots_dir, 'model_comparison.png'),\n",
    "                dpi=300, bbox_inches='tight')\n",
    "    plt.show()\n",
    "    plt.close()"
   ]
  },
  {
   "cell_type": "code",
   "execution_count": null,
   "id": "e22665fc",
   "metadata": {
    "id": "e22665fc"
   },
   "outputs": [],
   "source": [
    "def create_confusion_matrix_analysis(best_model_name: str, best_results: Dict[str, Any], test_df: pd.DataFrame):\n",
    "    \"\"\"Crear análisis de matriz de confusión para el mejor modelo\"\"\"\n",
    "    if 'predictions' not in best_results:\n",
    "        return\n",
    "\n",
    "    # Extraer etiquetas verdaderas\n",
    "    if 'label' in test_df.columns:\n",
    "        true_labels = test_df['label'].values\n",
    "    elif 'value' in test_df.columns:\n",
    "        true_labels = test_df['value'].values\n",
    "    else:\n",
    "        print(\"❌ No se encontró columna de etiquetas\")\n",
    "        return\n",
    "\n",
    "    # Extraer predicciones (buscar en múltiples claves)\n",
    "    predictions = None\n",
    "    possible_keys = ['test_predictions', 'predictions', 'y_pred', 'test_pred']\n",
    "\n",
    "    for key in possible_keys:\n",
    "        if key in best_results and best_results[key] is not None:\n",
    "            predictions = best_results[key]\n",
    "            break\n",
    "\n",
    "    if predictions is None:\n",
    "        print(f\"❌ No se encontraron predicciones. Claves disponibles: {list(best_results.keys())}\")\n",
    "        return\n",
    "\n",
    "    # Verificar tamaños\n",
    "    print(f\"📊 Etiquetas: {len(true_labels)}, Predicciones: {len(predictions)}\")\n",
    "\n",
    "    if len(true_labels) != len(predictions):\n",
    "        min_size = min(len(true_labels), len(predictions))\n",
    "        true_labels = true_labels[:min_size]\n",
    "        predictions = predictions[:min_size]\n",
    "        print(f\"🔧 Ajustado a {min_size} muestras\")\n",
    "\n",
    "    # Matriz de confusión\n",
    "    cm = confusion_matrix(true_labels, predictions)\n",
    "\n",
    "    # Crear visualización\n",
    "    plt.figure(figsize=(12, 10))\n",
    "\n",
    "    # Obtener nombres de clases\n",
    "    if 'label_encoder' in best_results:\n",
    "        class_names = best_results['label_encoder'].classes_\n",
    "    else:\n",
    "        class_names = sorted(set(true_labels))\n",
    "\n",
    "    sns.heatmap(cm, annot=True, fmt='d', cmap='Blues',\n",
    "                xticklabels=class_names, yticklabels=class_names)\n",
    "    plt.title(f'Matriz de Confusión - {best_model_name}')\n",
    "    plt.xlabel('Predicción')\n",
    "    plt.ylabel('Verdadero')\n",
    "    plt.tight_layout()\n",
    "    plt.savefig(os.path.join(plots_dir, f'confusion_matrix_{best_model_name}.png'),\n",
    "                dpi=300, bbox_inches='tight')\n",
    "    plt.show()\n",
    "    plt.close()\n",
    "\n",
    "    # Reporte de clasificación\n",
    "    report = classification_report(true_labels, predictions,\n",
    "                                    target_names=[str(c) for c in class_names],\n",
    "                                    output_dict=True)\n",
    "\n",
    "    with open(os.path.join(results_dir, f'classification_report_{best_model_name}.json'), 'w') as f:\n",
    "        json.dump(report, f, indent=2)"
   ]
  },
  {
   "cell_type": "code",
   "execution_count": null,
   "id": "861ea9b4",
   "metadata": {
    "id": "861ea9b4"
   },
   "outputs": [],
   "source": [
    "def create_detailed_analysis(all_results: Dict[str, Any], test_df: pd.DataFrame):\n",
    "    \"\"\"Crear análisis detallado de resultados\"\"\"\n",
    "    logger.info(\"Creando análisis detallado de resultados...\")\n",
    "\n",
    "    # Resumen de resultados\n",
    "    summary = {}\n",
    "    for model_name, results in all_results.items():\n",
    "        summary[model_name] = {\n",
    "            'test_accuracy': results.get('test_accuracy', 0),\n",
    "            'test_f1': results.get('f1_score', results.get('test_f1', 0)),\n",
    "            'training_time': results.get('training_time', 0)\n",
    "        }\n",
    "\n",
    "    # Crear visualizaciones comparativas\n",
    "    create_comparison_plots(summary, all_results, test_df)\n",
    "\n",
    "    # Análisis de confusión para el mejor modelo\n",
    "    best_model = max(summary.keys(), key=lambda x: summary[x]['test_accuracy'])\n",
    "    # COMENTADO ****************************************************************************\n",
    "    # create_confusion_matrix_analysis(best_model, all_results[best_model], test_df)\n",
    "\n",
    "    # Guardar resumen\n",
    "    with open(os.path.join(results_dir, 'results_summary.json'), 'w') as f:\n",
    "        json.dump(summary, f, indent=2, default=str)\n",
    "\n",
    "    return summary"
   ]
  },
  {
   "cell_type": "code",
   "execution_count": null,
   "id": "a0930d22",
   "metadata": {
    "colab": {
     "base_uri": "https://localhost:8080/",
     "height": 520
    },
    "executionInfo": {
     "elapsed": 3481,
     "status": "ok",
     "timestamp": 1750011391124,
     "user": {
      "displayName": "Steven Sebastian Araujo Moran",
      "userId": "14571755018649745938"
     },
     "user_tz": 300
    },
    "id": "a0930d22",
    "outputId": "b8eefe3d-24ea-45ad-a802-493b1958da74"
   },
   "outputs": [
    {
     "data": {
      "image/png": "[encoded data removed]",
      "text/plain": [
       "<Figure size 1500x1200 with 4 Axes>"
      ]
     },
     "metadata": {},
     "output_type": "display_data"
    }
   ],
   "source": [
    "summary = create_detailed_analysis(all_results, test_df)"
   ]
  },
  {
   "cell_type": "markdown",
   "id": "34af4057",
   "metadata": {
    "id": "34af4057"
   },
   "source": [
    "# 9. Reporte final"
   ]
  },
  {
   "cell_type": "code",
   "execution_count": null,
   "id": "742563bb",
   "metadata": {
    "id": "742563bb"
   },
   "outputs": [],
   "source": [
    "# Tiempo total\n",
    "total_time = time.time() - start_time\n",
    "logger.info(f\"Entrenamiento completado en {total_time:.2f} segundos\")\n",
    "\n",
    "# Mostrar mejores resultados\n",
    "# el accuracy mas grande y da como resultado el key\n",
    "best_model = max(summary.keys(), key=lambda x: summary[x]['test_accuracy'])\n",
    "logger.info(f\"Mejor modelo: {best_model} con accuracy: {summary[best_model]['test_accuracy']:.4f}\")"
   ]
  },
  {
   "cell_type": "code",
   "execution_count": null,
   "id": "303da456",
   "metadata": {
    "colab": {
     "base_uri": "https://localhost:8080/"
    },
    "executionInfo": {
     "elapsed": 36,
     "status": "ok",
     "timestamp": 1750011391191,
     "user": {
      "displayName": "Steven Sebastian Araujo Moran",
      "userId": "14571755018649745938"
     },
     "user_tz": 300
    },
    "id": "303da456",
    "outputId": "630400bd-e1d4-4514-e84c-00156b63b4c8"
   },
   "outputs": [
    {
     "name": "stdout",
     "output_type": "stream",
     "text": [
      "\n",
      "==================================================\n",
      "RESUMEN DE RESULTADOS\n",
      "==================================================\n",
      "bert:\n",
      "  - Test Accuracy: 0.8875\n",
      "  - Test F1-Score: 0.8875\n",
      "  - Tiempo de entrenamiento: 6798.96s\n",
      "\n"
     ]
    }
   ],
   "source": [
    "print(\"\\n\" + \"=\"*50)\n",
    "print(\"RESUMEN DE RESULTADOS\")\n",
    "print(\"=\"*50)\n",
    "for model_name, metrics in summary.items():\n",
    "    print(f\"{model_name}:\")\n",
    "    print(f\"  - Test Accuracy: {metrics['test_accuracy']:.4f}\")\n",
    "    print(f\"  - Test F1-Score: {metrics['test_f1']:.4f}\")\n",
    "    print(f\"  - Tiempo de entrenamiento: {metrics['training_time']:.2f}s\")\n",
    "    print()"
   ]
  }
 ],
 "metadata": {
  "accelerator": "GPU",
  "colab": {
   "gpuType": "T4",
   "provenance": []
  },
  "kernelspec": {
   "display_name": "Python 3",
   "name": "python3"
  },
  "language_info": {
   "codemirror_mode": {
    "name": "ipython",
    "version": 3
   },
   "file_extension": ".py",
   "mimetype": "text/x-python",
   "name": "python",
   "nbconvert_exporter": "python",
   "pygments_lexer": "ipython3",
   "version": "3.12.10"
  }
 },
 "nbformat": 4,
 "nbformat_minor": 5
}
