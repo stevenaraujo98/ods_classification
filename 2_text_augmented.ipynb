{
 "cells": [
  {
   "cell_type": "code",
   "execution_count": 1,
   "id": "PhssFLO6aitf",
   "metadata": {
    "colab": {
     "base_uri": "https://localhost:8080/"
    },
    "executionInfo": {
     "elapsed": 23922,
     "status": "ok",
     "timestamp": 1749587444856,
     "user": {
      "displayName": "Steven Sebastian Araujo Moran",
      "userId": "14571755018649745938"
     },
     "user_tz": 300
    },
    "id": "PhssFLO6aitf",
    "outputId": "1b87977c-c203-4fbc-b933-0ac81750983c"
   },
   "outputs": [
    {
     "name": "stdout",
     "output_type": "stream",
     "text": [
      "Mounted at /content/drive\n"
     ]
    }
   ],
   "source": [
    "# Mount Google Drive if using Colab\n",
    "try:\n",
    "    from google.colab import drive\n",
    "    drive.mount('/content/drive')\n",
    "    USING_COLAB = True\n",
    "except ImportError:\n",
    "    USING_COLAB = False"
   ]
  },
  {
   "cell_type": "code",
   "execution_count": 2,
   "id": "z-MI4U9baDpz",
   "metadata": {
    "colab": {
     "base_uri": "https://localhost:8080/"
    },
    "executionInfo": {
     "elapsed": 7678,
     "status": "ok",
     "timestamp": 1749587452529,
     "user": {
      "displayName": "Steven Sebastian Araujo Moran",
      "userId": "14571755018649745938"
     },
     "user_tz": 300
    },
    "id": "z-MI4U9baDpz",
    "outputId": "fe4c6559-5e03-4d69-f761-690ce21aefa7"
   },
   "outputs": [
    {
     "name": "stdout",
     "output_type": "stream",
     "text": [
      "Collecting nlpaug\n",
      "  Downloading nlpaug-1.1.11-py3-none-any.whl.metadata (14 kB)\n",
      "Requirement already satisfied: numpy>=1.16.2 in /usr/local/lib/python3.11/dist-packages (from nlpaug) (2.0.2)\n",
      "Requirement already satisfied: pandas>=1.2.0 in /usr/local/lib/python3.11/dist-packages (from nlpaug) (2.2.2)\n",
      "Requirement already satisfied: requests>=2.22.0 in /usr/local/lib/python3.11/dist-packages (from nlpaug) (2.32.3)\n",
      "Requirement already satisfied: gdown>=4.0.0 in /usr/local/lib/python3.11/dist-packages (from nlpaug) (5.2.0)\n",
      "Requirement already satisfied: beautifulsoup4 in /usr/local/lib/python3.11/dist-packages (from gdown>=4.0.0->nlpaug) (4.13.4)\n",
      "Requirement already satisfied: filelock in /usr/local/lib/python3.11/dist-packages (from gdown>=4.0.0->nlpaug) (3.18.0)\n",
      "Requirement already satisfied: tqdm in /usr/local/lib/python3.11/dist-packages (from gdown>=4.0.0->nlpaug) (4.67.1)\n",
      "Requirement already satisfied: python-dateutil>=2.8.2 in /usr/local/lib/python3.11/dist-packages (from pandas>=1.2.0->nlpaug) (2.9.0.post0)\n",
      "Requirement already satisfied: pytz>=2020.1 in /usr/local/lib/python3.11/dist-packages (from pandas>=1.2.0->nlpaug) (2025.2)\n",
      "Requirement already satisfied: tzdata>=2022.7 in /usr/local/lib/python3.11/dist-packages (from pandas>=1.2.0->nlpaug) (2025.2)\n",
      "Requirement already satisfied: charset-normalizer<4,>=2 in /usr/local/lib/python3.11/dist-packages (from requests>=2.22.0->nlpaug) (3.4.2)\n",
      "Requirement already satisfied: idna<4,>=2.5 in /usr/local/lib/python3.11/dist-packages (from requests>=2.22.0->nlpaug) (3.10)\n",
      "Requirement already satisfied: urllib3<3,>=1.21.1 in /usr/local/lib/python3.11/dist-packages (from requests>=2.22.0->nlpaug) (2.4.0)\n",
      "Requirement already satisfied: certifi>=2017.4.17 in /usr/local/lib/python3.11/dist-packages (from requests>=2.22.0->nlpaug) (2025.4.26)\n",
      "Requirement already satisfied: six>=1.5 in /usr/local/lib/python3.11/dist-packages (from python-dateutil>=2.8.2->pandas>=1.2.0->nlpaug) (1.17.0)\n",
      "Requirement already satisfied: soupsieve>1.2 in /usr/local/lib/python3.11/dist-packages (from beautifulsoup4->gdown>=4.0.0->nlpaug) (2.7)\n",
      "Requirement already satisfied: typing-extensions>=4.0.0 in /usr/local/lib/python3.11/dist-packages (from beautifulsoup4->gdown>=4.0.0->nlpaug) (4.14.0)\n",
      "Requirement already satisfied: PySocks!=1.5.7,>=1.5.6 in /usr/local/lib/python3.11/dist-packages (from requests[socks]->gdown>=4.0.0->nlpaug) (1.7.1)\n",
      "Downloading nlpaug-1.1.11-py3-none-any.whl (410 kB)\n",
      "\u001b[2K   \u001b[90m━━━━━━━━━━━━━━━━━━━━━━━━━━━━━━━━━━━━━━━━\u001b[0m \u001b[32m410.5/410.5 kB\u001b[0m \u001b[31m7.0 MB/s\u001b[0m eta \u001b[36m0:00:00\u001b[0m\n",
      "\u001b[?25hInstalling collected packages: nlpaug\n",
      "Successfully installed nlpaug-1.1.11\n"
     ]
    }
   ],
   "source": [
    "!pip install nlpaug"
   ]
  },
  {
   "cell_type": "code",
   "execution_count": null,
   "id": "f4283bd3",
   "metadata": {
    "executionInfo": {
     "elapsed": 49477,
     "status": "ok",
     "timestamp": 1749587502007,
     "user": {
      "displayName": "Steven Sebastian Araujo Moran",
      "userId": "14571755018649745938"
     },
     "user_tz": 300
    },
    "id": "f4283bd3"
   },
   "outputs": [],
   "source": [
    "import pandas as pd\n",
    "import torch\n",
    "from transformers import AutoModelForSequenceClassification, AutoTokenizer, MarianMTModel, MarianTokenizer"
   ]
  },
  {
   "cell_type": "code",
   "execution_count": 4,
   "id": "zwORbS4MHSAF",
   "metadata": {
    "executionInfo": {
     "elapsed": 9,
     "status": "ok",
     "timestamp": 1749587502008,
     "user": {
      "displayName": "Steven Sebastian Araujo Moran",
      "userId": "14571755018649745938"
     },
     "user_tz": 300
    },
    "id": "zwORbS4MHSAF"
   },
   "outputs": [],
   "source": [
    "import nlpaug.augmenter.char as nac\n",
    "import nlpaug.augmenter.word as naw\n",
    "import nlpaug.augmenter.sentence as nas\n",
    "import nlpaug.flow as nafc\n",
    "from concurrent.futures import ThreadPoolExecutor\n",
    "\n",
    "from nlpaug.util import Action"
   ]
  },
  {
   "cell_type": "code",
   "execution_count": 5,
   "id": "49i98aH8Yb0S",
   "metadata": {
    "executionInfo": {
     "elapsed": 3490,
     "status": "ok",
     "timestamp": 1749587505493,
     "user": {
      "displayName": "Steven Sebastian Araujo Moran",
      "userId": "14571755018649745938"
     },
     "user_tz": 300
    },
    "id": "49i98aH8Yb0S"
   },
   "outputs": [],
   "source": [
    "import spacy\n",
    "from spacy.lang.es.stop_words import STOP_WORDS as STOP_WORDS_ES\n",
    "from spacy.lang.en.stop_words import STOP_WORDS as STOP_WORDS_EN"
   ]
  },
  {
   "cell_type": "code",
   "execution_count": 6,
   "id": "tmdHSRtYHYg_",
   "metadata": {
    "colab": {
     "base_uri": "https://localhost:8080/"
    },
    "executionInfo": {
     "elapsed": 297,
     "status": "ok",
     "timestamp": 1749587505799,
     "user": {
      "displayName": "Steven Sebastian Araujo Moran",
      "userId": "14571755018649745938"
     },
     "user_tz": 300
    },
    "id": "tmdHSRtYHYg_",
    "outputId": "854edc3e-7d20-41a5-b4dc-2b1d0c741c07"
   },
   "outputs": [
    {
     "name": "stderr",
     "output_type": "stream",
     "text": [
      "[nltk_data] Downloading package averaged_perceptron_tagger_eng to\n",
      "[nltk_data]     /root/nltk_data...\n",
      "[nltk_data]   Unzipping taggers/averaged_perceptron_tagger_eng.zip.\n"
     ]
    },
    {
     "data": {
      "text/plain": [
       "True"
      ]
     },
     "execution_count": 6,
     "metadata": {},
     "output_type": "execute_result"
    }
   ],
   "source": [
    "import nltk\n",
    "nltk.download('averaged_perceptron_tagger_eng')"
   ]
  },
  {
   "cell_type": "code",
   "execution_count": 7,
   "id": "YAx0SNLuYiZ2",
   "metadata": {
    "executionInfo": {
     "elapsed": 14,
     "status": "ok",
     "timestamp": 1749587505816,
     "user": {
      "displayName": "Steven Sebastian Araujo Moran",
      "userId": "14571755018649745938"
     },
     "user_tz": 300
    },
    "id": "YAx0SNLuYiZ2"
   },
   "outputs": [],
   "source": [
    "import spacy\n",
    "from nltk.corpus import stopwords\n",
    "import string"
   ]
  },
  {
   "cell_type": "code",
   "execution_count": null,
   "id": "OpEnmlLEa6T0",
   "metadata": {
    "colab": {
     "base_uri": "https://localhost:8080/"
    },
    "executionInfo": {
     "elapsed": 87,
     "status": "ok",
     "timestamp": 1749587505916,
     "user": {
      "displayName": "Steven Sebastian Araujo Moran",
      "userId": "14571755018649745938"
     },
     "user_tz": 300
    },
    "id": "OpEnmlLEa6T0",
    "outputId": "ca96342c-9a04-4cc2-a2c6-3622d18bed6c"
   },
   "outputs": [
    {
     "name": "stderr",
     "output_type": "stream",
     "text": [
      "[nltk_data] Downloading package stopwords to /root/nltk_data...\n",
      "[nltk_data]   Unzipping corpora/stopwords.zip.\n"
     ]
    },
    {
     "data": {
      "text/plain": [
       "True"
      ]
     },
     "execution_count": 8,
     "metadata": {},
     "output_type": "execute_result"
    }
   ],
   "source": [
    "# # COLAB\n",
    "# nltk.download('stopwords')"
   ]
  },
  {
   "cell_type": "code",
   "execution_count": null,
   "id": "a7Y16XeTa3Lb",
   "metadata": {
    "colab": {
     "base_uri": "https://localhost:8080/"
    },
    "executionInfo": {
     "elapsed": 43630,
     "status": "ok",
     "timestamp": 1749587549549,
     "user": {
      "displayName": "Steven Sebastian Araujo Moran",
      "userId": "14571755018649745938"
     },
     "user_tz": 300
    },
    "id": "a7Y16XeTa3Lb",
    "outputId": "ae63c93c-120d-4d98-c904-7fb1275b92f4"
   },
   "outputs": [
    {
     "name": "stdout",
     "output_type": "stream",
     "text": [
      "Collecting en-core-web-lg==3.8.0\n",
      "  Downloading https://github.com/explosion/spacy-models/releases/download/en_core_web_lg-3.8.0/en_core_web_lg-3.8.0-py3-none-any.whl (400.7 MB)\n",
      "\u001b[2K     \u001b[90m━━━━━━━━━━━━━━━━━━━━━━━━━━━━━━━━━━━━━━━\u001b[0m \u001b[32m400.7/400.7 MB\u001b[0m \u001b[31m3.2 MB/s\u001b[0m eta \u001b[36m0:00:00\u001b[0m\n",
      "\u001b[?25hInstalling collected packages: en-core-web-lg\n",
      "Successfully installed en-core-web-lg-3.8.0\n",
      "\u001b[38;5;2m✔ Download and installation successful\u001b[0m\n",
      "You can now load the package via spacy.load('en_core_web_lg')\n",
      "\u001b[38;5;3m⚠ Restart to reload dependencies\u001b[0m\n",
      "If you are in a Jupyter or Colab notebook, you may need to restart Python in\n",
      "order to load all the package's dependencies. You can do this by selecting the\n",
      "'Restart kernel' or 'Restart runtime' option.\n"
     ]
    }
   ],
   "source": [
    "# # COLAB\n",
    "# modelo en español de spaCy\n",
    "# !python -m spacy download es_core_news_sm\n",
    "# !python -m spacy download en_core_web_lg\n"
   ]
  },
  {
   "cell_type": "markdown",
   "id": "bca87d79",
   "metadata": {
    "id": "bca87d79"
   },
   "source": [
    "## Modelos"
   ]
  },
  {
   "cell_type": "code",
   "execution_count": 10,
   "id": "b692457e",
   "metadata": {
    "executionInfo": {
     "elapsed": 25,
     "status": "ok",
     "timestamp": 1749587549577,
     "user": {
      "displayName": "Steven Sebastian Araujo Moran",
      "userId": "14571755018649745938"
     },
     "user_tz": 300
    },
    "id": "b692457e"
   },
   "outputs": [],
   "source": [
    "# model_ckpt = \"papluca/xlm-roberta-base-language-detection\"\n",
    "# tokenizer_detected = AutoTokenizer.from_pretrained(model_ckpt)\n",
    "# model_detected = AutoModelForSequenceClassification.from_pretrained(model_ckpt)"
   ]
  },
  {
   "cell_type": "code",
   "execution_count": 11,
   "id": "D1Tt0F8o6nd-",
   "metadata": {
    "executionInfo": {
     "elapsed": 18,
     "status": "ok",
     "timestamp": 1749587549600,
     "user": {
      "displayName": "Steven Sebastian Araujo Moran",
      "userId": "14571755018649745938"
     },
     "user_tz": 300
    },
    "id": "D1Tt0F8o6nd-"
   },
   "outputs": [],
   "source": [
    "# model_name = \"Helsinki-NLP/opus-mt-es-en\"\n",
    "# # model_name = \"Helsinki-NLP/opus-mt-en-es\"\n",
    "# # model_name = \"Helsinki-NLP/opus-mt-tc-big-en-es\"\n",
    "\n",
    "# tokenizer_tradu = MarianTokenizer.from_pretrained(model_name)\n",
    "# model_tradu = MarianMTModel.from_pretrained(model_name)"
   ]
  },
  {
   "cell_type": "markdown",
   "id": "bb27310b",
   "metadata": {
    "id": "bb27310b"
   },
   "source": [
    "## Carga de datos"
   ]
  },
  {
   "cell_type": "code",
   "execution_count": 12,
   "id": "qmV3j0RCaBV5",
   "metadata": {
    "executionInfo": {
     "elapsed": 18,
     "status": "ok",
     "timestamp": 1749587549621,
     "user": {
      "displayName": "Steven Sebastian Araujo Moran",
      "userId": "14571755018649745938"
     },
     "user_tz": 300
    },
    "id": "qmV3j0RCaBV5"
   },
   "outputs": [],
   "source": [
    "pd.set_option('display.max_columns', None)"
   ]
  },
  {
   "cell_type": "code",
   "execution_count": 13,
   "id": "582fe2fd",
   "metadata": {
    "executionInfo": {
     "elapsed": 4112,
     "status": "ok",
     "timestamp": 1749587553747,
     "user": {
      "displayName": "Steven Sebastian Araujo Moran",
      "userId": "14571755018649745938"
     },
     "user_tz": 300
    },
    "id": "582fe2fd"
   },
   "outputs": [],
   "source": [
    "if USING_COLAB:\n",
    "  # df_all = pd.read_csv(\"/content/drive/My Drive/GTSI/Codigos_ods/data/dataset.csv\")\n",
    "  # df_all = pd.read_csv(\"/content/drive/My Drive/GTSI/Codigos_ods/data/dataset_lang.csv\")\n",
    "  # df_all = pd.read_csv(\"/content/drive/My Drive/GTSI/Codigos_ods/data/dataset_english.csv\")\n",
    "  df_all = pd.read_csv(\"/content/drive/My Drive/GTSI/Codigos_ods/data/dataset_balansed.csv\")\n",
    "\n",
    "else:\n",
    "  # df_all = pd.read_csv(\"./data/dataset.csv\")\n",
    "  # df_all = pd.read_csv(\"./data/dataset_lang.csv\")\n",
    "  # df_all = pd.read_csv(\"./data/dataset_english.csv\")\n",
    "  df_all = pd.read_csv(\"./data/dataset_balansed.csv\")"
   ]
  },
  {
   "cell_type": "code",
   "execution_count": 14,
   "id": "ca34f783",
   "metadata": {
    "colab": {
     "base_uri": "https://localhost:8080/"
    },
    "executionInfo": {
     "elapsed": 65,
     "status": "ok",
     "timestamp": 1749587553815,
     "user": {
      "displayName": "Steven Sebastian Araujo Moran",
      "userId": "14571755018649745938"
     },
     "user_tz": 300
    },
    "id": "ca34f783",
    "outputId": "fd620704-033d-47d8-b350-8e71e7a2016e"
   },
   "outputs": [
    {
     "name": "stdout",
     "output_type": "stream",
     "text": [
      "<class 'pandas.core.frame.DataFrame'>\n",
      "RangeIndex: 80144 entries, 0 to 80143\n",
      "Data columns (total 4 columns):\n",
      " #   Column    Non-Null Count  Dtype  \n",
      "---  ------    --------------  -----  \n",
      " 0   text      80144 non-null  object \n",
      " 1   value     80144 non-null  int64  \n",
      " 2   lang      42140 non-null  object \n",
      " 3   gpu_used  38004 non-null  float64\n",
      "dtypes: float64(1), int64(1), object(2)\n",
      "memory usage: 2.4+ MB\n"
     ]
    }
   ],
   "source": [
    "df_all.info()"
   ]
  },
  {
   "cell_type": "code",
   "execution_count": 15,
   "id": "57a60721",
   "metadata": {
    "executionInfo": {
     "elapsed": 15,
     "status": "ok",
     "timestamp": 1749587553832,
     "user": {
      "displayName": "Steven Sebastian Araujo Moran",
      "userId": "14571755018649745938"
     },
     "user_tz": 300
    },
    "id": "57a60721"
   },
   "outputs": [],
   "source": [
    "df_values_count = df_all[\"value\"].value_counts().sort_values()"
   ]
  },
  {
   "cell_type": "code",
   "execution_count": 16,
   "id": "a53dff2e",
   "metadata": {
    "executionInfo": {
     "elapsed": 5,
     "status": "ok",
     "timestamp": 1749587553840,
     "user": {
      "displayName": "Steven Sebastian Araujo Moran",
      "userId": "14571755018649745938"
     },
     "user_tz": 300
    },
    "id": "a53dff2e"
   },
   "outputs": [],
   "source": [
    "# df_values_count"
   ]
  },
  {
   "cell_type": "code",
   "execution_count": 17,
   "id": "dabc0226",
   "metadata": {
    "colab": {
     "base_uri": "https://localhost:8080/"
    },
    "executionInfo": {
     "elapsed": 11,
     "status": "ok",
     "timestamp": 1749587553864,
     "user": {
      "displayName": "Steven Sebastian Araujo Moran",
      "userId": "14571755018649745938"
     },
     "user_tz": 300
    },
    "id": "dabc0226",
    "outputId": "0456944a-cb99-4ae8-eb71-437c60206368"
   },
   "outputs": [
    {
     "data": {
      "text/plain": [
       "np.float64(5009.0)"
      ]
     },
     "execution_count": 17,
     "metadata": {},
     "output_type": "execute_result"
    }
   ],
   "source": [
    "df_values_count.mean()"
   ]
  },
  {
   "cell_type": "code",
   "execution_count": 18,
   "id": "48024dd5",
   "metadata": {
    "colab": {
     "base_uri": "https://localhost:8080/"
    },
    "executionInfo": {
     "elapsed": 24,
     "status": "ok",
     "timestamp": 1749587553904,
     "user": {
      "displayName": "Steven Sebastian Araujo Moran",
      "userId": "14571755018649745938"
     },
     "user_tz": 300
    },
    "id": "48024dd5",
    "outputId": "bc7c34e6-7854-4d40-a66f-0f6c625763ca"
   },
   "outputs": [
    {
     "data": {
      "text/plain": [
       "np.int64(5009)"
      ]
     },
     "execution_count": 18,
     "metadata": {},
     "output_type": "execute_result"
    }
   ],
   "source": [
    "df_values_count.iloc[1]"
   ]
  },
  {
   "cell_type": "markdown",
   "id": "ad3a7c39",
   "metadata": {
    "id": "ad3a7c39"
   },
   "source": [
    "## Process"
   ]
  },
  {
   "cell_type": "markdown",
   "id": "23c29e56",
   "metadata": {
    "id": "23c29e56"
   },
   "source": [
    "#### Detect Lang"
   ]
  },
  {
   "cell_type": "code",
   "execution_count": 19,
   "id": "RYkupjixkjAD",
   "metadata": {
    "executionInfo": {
     "elapsed": 6,
     "status": "ok",
     "timestamp": 1749587553937,
     "user": {
      "displayName": "Steven Sebastian Araujo Moran",
      "userId": "14571755018649745938"
     },
     "user_tz": 300
    },
    "id": "RYkupjixkjAD"
   },
   "outputs": [],
   "source": [
    "# # batch_size = df_all.shape[0]//3\n",
    "# batch_size = 100 #1448 # fueron los datos directos de la base de espol\n",
    "# item = 2"
   ]
  },
  {
   "cell_type": "code",
   "execution_count": 20,
   "id": "LfOwMq_jgQaH",
   "metadata": {
    "executionInfo": {
     "elapsed": 51,
     "status": "ok",
     "timestamp": 1749587553992,
     "user": {
      "displayName": "Steven Sebastian Araujo Moran",
      "userId": "14571755018649745938"
     },
     "user_tz": 300
    },
    "id": "LfOwMq_jgQaH"
   },
   "outputs": [],
   "source": [
    "# batch_size = 100\n",
    "\n",
    "# result_list = []\n",
    "# for i in range(15):\n",
    "#   print(\"Index\", i)\n",
    "#   print(\"Desde:\",batch_size * i, \"hasta:\", batch_size * (i + 1))\n",
    "#   inputs = tokenizer_detected(df_all[\"text\"].iloc[batch_size * i : batch_size * (i + 1)].to_list(), padding=True, truncation=True, return_tensors=\"pt\")\n",
    "\n",
    "#   with torch.no_grad():\n",
    "#       logits = model_detected(**inputs).logits\n",
    "\n",
    "#   preds = torch.softmax(logits, dim=-1)\n",
    "#   id2lang = model_detected.config.id2label\n",
    "#   vals, idxs = torch.max(preds, dim=1)\n",
    "#   result_list.extend([(id2lang[k.item()], v.item()) for k, v in zip(idxs, vals)])\n",
    "#   print(\"*\"*50)"
   ]
  },
  {
   "cell_type": "code",
   "execution_count": 21,
   "id": "yogm0klqNCEB",
   "metadata": {
    "executionInfo": {
     "elapsed": 35,
     "status": "ok",
     "timestamp": 1749587553994,
     "user": {
      "displayName": "Steven Sebastian Araujo Moran",
      "userId": "14571755018649745938"
     },
     "user_tz": 300
    },
    "id": "yogm0klqNCEB"
   },
   "outputs": [],
   "source": [
    "# data = {'list_col': result_list}\n",
    "# df_result_lang = pd.DataFrame(data)"
   ]
  },
  {
   "cell_type": "code",
   "execution_count": 22,
   "id": "c4lKP2QJLqas",
   "metadata": {
    "executionInfo": {
     "elapsed": 25,
     "status": "ok",
     "timestamp": 1749587553996,
     "user": {
      "displayName": "Steven Sebastian Araujo Moran",
      "userId": "14571755018649745938"
     },
     "user_tz": 300
    },
    "id": "c4lKP2QJLqas"
   },
   "outputs": [],
   "source": [
    "# len(result_list), df_result_lang.shape"
   ]
  },
  {
   "cell_type": "code",
   "execution_count": 23,
   "id": "wM73UDI-NHxc",
   "metadata": {
    "executionInfo": {
     "elapsed": 13,
     "status": "ok",
     "timestamp": 1749587554000,
     "user": {
      "displayName": "Steven Sebastian Araujo Moran",
      "userId": "14571755018649745938"
     },
     "user_tz": 300
    },
    "id": "wM73UDI-NHxc"
   },
   "outputs": [],
   "source": [
    "# df_all[\"lang\"] = df_result_lang['list_col'].str[0]"
   ]
  },
  {
   "cell_type": "code",
   "execution_count": 24,
   "id": "DnpZZA12Pwih",
   "metadata": {
    "executionInfo": {
     "elapsed": 14,
     "status": "ok",
     "timestamp": 1749587554023,
     "user": {
      "displayName": "Steven Sebastian Araujo Moran",
      "userId": "14571755018649745938"
     },
     "user_tz": 300
    },
    "id": "DnpZZA12Pwih"
   },
   "outputs": [],
   "source": [
    "# # df_all[df_all[\"lang\"].isna()][\"lang\"] = \"en\"\n",
    "# df_all.loc[df_all[\"lang\"].isna(), \"lang\"] = \"en\"\n",
    "# # indices_na = df_all[df_all[\"lang\"].isna()].index\n",
    "# # df_all.iloc[indices_na, 2] = \"en\""
   ]
  },
  {
   "cell_type": "code",
   "execution_count": 25,
   "id": "_7DMvl_HIpn7",
   "metadata": {
    "executionInfo": {
     "elapsed": 2,
     "status": "ok",
     "timestamp": 1749587554028,
     "user": {
      "displayName": "Steven Sebastian Araujo Moran",
      "userId": "14571755018649745938"
     },
     "user_tz": 300
    },
    "id": "_7DMvl_HIpn7"
   },
   "outputs": [],
   "source": [
    "# df_all.info()"
   ]
  },
  {
   "cell_type": "code",
   "execution_count": 26,
   "id": "mVOjXpOJNRPI",
   "metadata": {
    "executionInfo": {
     "elapsed": 40,
     "status": "ok",
     "timestamp": 1749587554070,
     "user": {
      "displayName": "Steven Sebastian Araujo Moran",
      "userId": "14571755018649745938"
     },
     "user_tz": 300
    },
    "id": "mVOjXpOJNRPI"
   },
   "outputs": [],
   "source": [
    "# # df_all[\"lang\"].iloc[95:105]"
   ]
  },
  {
   "cell_type": "code",
   "execution_count": 27,
   "id": "gFmCsGstjgp_",
   "metadata": {
    "executionInfo": {
     "elapsed": 27,
     "status": "ok",
     "timestamp": 1749587554071,
     "user": {
      "displayName": "Steven Sebastian Araujo Moran",
      "userId": "14571755018649745938"
     },
     "user_tz": 300
    },
    "id": "gFmCsGstjgp_"
   },
   "outputs": [],
   "source": [
    "# if USING_COLAB:\n",
    "#   df_all.to_csv(\"/content/drive/My Drive/GTSI/Codigos_ods/data/dataset_lang.csv\", index=False)\n",
    "# else:\n",
    "#   df_all.to_csv(\"./data/dataset_lang.csv\", index=False)"
   ]
  },
  {
   "cell_type": "code",
   "execution_count": 28,
   "id": "8kLpilTrIE2k",
   "metadata": {
    "executionInfo": {
     "elapsed": 21,
     "status": "ok",
     "timestamp": 1749587554072,
     "user": {
      "displayName": "Steven Sebastian Araujo Moran",
      "userId": "14571755018649745938"
     },
     "user_tz": 300
    },
    "id": "8kLpilTrIE2k"
   },
   "outputs": [],
   "source": [
    "# if USING_COLAB:\n",
    "#   df_result_lang.to_csv(\"/content/drive/My Drive/GTSI/Codigos_ods/data/dataset_lang_estimate.csv\", index=False)\n",
    "# else:\n",
    "#   df_result_lang.to_csv(\"./data/dataset_lang_estimate.csv\", index=False)"
   ]
  },
  {
   "cell_type": "markdown",
   "id": "KymCrrBVUVo8",
   "metadata": {
    "id": "KymCrrBVUVo8"
   },
   "source": [
    "#### Traduction"
   ]
  },
  {
   "cell_type": "code",
   "execution_count": 29,
   "id": "IHTcteZGZ0Mv",
   "metadata": {
    "executionInfo": {
     "elapsed": 2,
     "status": "ok",
     "timestamp": 1749587554076,
     "user": {
      "displayName": "Steven Sebastian Araujo Moran",
      "userId": "14571755018649745938"
     },
     "user_tz": 300
    },
    "id": "IHTcteZGZ0Mv"
   },
   "outputs": [],
   "source": [
    "# df_all_cp = df_all.copy()"
   ]
  },
  {
   "cell_type": "code",
   "execution_count": 30,
   "id": "azrOxL-BU9wv",
   "metadata": {
    "executionInfo": {
     "elapsed": 15,
     "status": "ok",
     "timestamp": 1749587554095,
     "user": {
      "displayName": "Steven Sebastian Araujo Moran",
      "userId": "14571755018649745938"
     },
     "user_tz": 300
    },
    "id": "azrOxL-BU9wv"
   },
   "outputs": [],
   "source": [
    "# df_all_cp[df_all_cp[\"lang\"] == \"es\"].shape"
   ]
  },
  {
   "cell_type": "code",
   "execution_count": 31,
   "id": "9MsfeVv4X_y1",
   "metadata": {
    "executionInfo": {
     "elapsed": 16,
     "status": "ok",
     "timestamp": 1749587554098,
     "user": {
      "displayName": "Steven Sebastian Araujo Moran",
      "userId": "14571755018649745938"
     },
     "user_tz": 300
    },
    "id": "9MsfeVv4X_y1"
   },
   "outputs": [],
   "source": [
    "# def get_translation(text):\n",
    "#   translated = model_tradu.generate(**tokenizer_tradu(text, return_tensors=\"pt\", padding=True))\n",
    "#   return tokenizer_tradu.decode(translated[0], skip_special_tokens=True)"
   ]
  },
  {
   "cell_type": "code",
   "execution_count": 32,
   "id": "M7RYcB6yZhWf",
   "metadata": {
    "executionInfo": {
     "elapsed": 13,
     "status": "ok",
     "timestamp": 1749587554110,
     "user": {
      "displayName": "Steven Sebastian Araujo Moran",
      "userId": "14571755018649745938"
     },
     "user_tz": 300
    },
    "id": "M7RYcB6yZhWf"
   },
   "outputs": [],
   "source": [
    "# # df_all_cp.loc[df_all_cp[\"lang\"] == \"es\", \"text\"] = df_all_cp.loc[df_all_cp[\"lang\"] == \"es\", \"text\"].apply(get_translation)"
   ]
  },
  {
   "cell_type": "code",
   "execution_count": 33,
   "id": "foSYLEdhUuuG",
   "metadata": {
    "executionInfo": {
     "elapsed": 3,
     "status": "ok",
     "timestamp": 1749587554133,
     "user": {
      "displayName": "Steven Sebastian Araujo Moran",
      "userId": "14571755018649745938"
     },
     "user_tz": 300
    },
    "id": "foSYLEdhUuuG"
   },
   "outputs": [],
   "source": [
    "# # df_all_cp[df_all_cp[\"lang\"] == \"es\", \"text\"]"
   ]
  },
  {
   "cell_type": "code",
   "execution_count": 34,
   "id": "iVFAyGGTk3Zb",
   "metadata": {
    "executionInfo": {
     "elapsed": 49,
     "status": "ok",
     "timestamp": 1749587554184,
     "user": {
      "displayName": "Steven Sebastian Araujo Moran",
      "userId": "14571755018649745938"
     },
     "user_tz": 300
    },
    "id": "iVFAyGGTk3Zb"
   },
   "outputs": [],
   "source": [
    "# spanish_indices = df_all_cp[df_all_cp[\"lang\"] == \"es\"].index\n",
    "# total_spanish = len(spanish_indices)\n",
    "\n",
    "# print(f\"Total de textos en español a traducir: {total_spanish}\")"
   ]
  },
  {
   "cell_type": "code",
   "execution_count": 35,
   "id": "UGvWRB17kxdU",
   "metadata": {
    "executionInfo": {
     "elapsed": 46,
     "status": "ok",
     "timestamp": 1749587554185,
     "user": {
      "displayName": "Steven Sebastian Araujo Moran",
      "userId": "14571755018649745938"
     },
     "user_tz": 300
    },
    "id": "UGvWRB17kxdU"
   },
   "outputs": [],
   "source": [
    "# # Procesar en lotes de 100\n",
    "# batch_size = 100\n",
    "# for i in range(0, total_spanish, batch_size):\n",
    "#     start_idx = i\n",
    "#     end_idx = min(i + batch_size, total_spanish)\n",
    "#     batch_indices = spanish_indices[start_idx:end_idx]\n",
    "#     print(\"index\", i)\n",
    "#     print(f\"Procesando lote {i // batch_size + 1}/{total_spanish // batch_size + 1}\")\n",
    "\n",
    "#     # Traducir el lote\n",
    "#     batch_texts = df_all_cp.loc[batch_indices, \"text\"]\n",
    "#     translated_batch = batch_texts.apply(get_translation)\n",
    "\n",
    "#     # Actualizar el DataFrame\n",
    "#     df_all_cp.loc[batch_indices, \"text\"] = translated_batch\n",
    "\n",
    "#     print(f\"Progreso: {end_idx}/{total_spanish} textos traducidos ({(end_idx/total_spanish)*100:.1f}%)\")\n",
    "#     print(\"*\"*50)\n",
    "# print(\"✅ Traducción completada!\")"
   ]
  },
  {
   "cell_type": "code",
   "execution_count": 36,
   "id": "TVxGEuVGKBEo",
   "metadata": {
    "executionInfo": {
     "elapsed": 39,
     "status": "ok",
     "timestamp": 1749587554186,
     "user": {
      "displayName": "Steven Sebastian Araujo Moran",
      "userId": "14571755018649745938"
     },
     "user_tz": 300
    },
    "id": "TVxGEuVGKBEo"
   },
   "outputs": [],
   "source": [
    "# if USING_COLAB:\n",
    "#   df_all_cp.to_csv(\"/content/drive/My Drive/GTSI/Codigos_ods/data/dataset_english.csv\", index=False)\n",
    "# else:\n",
    "#   df_all_cp.to_csv(\"./data/dataset_english.csv\", index=False)"
   ]
  },
  {
   "cell_type": "markdown",
   "id": "odUdzch44tg0",
   "metadata": {
    "id": "odUdzch44tg0"
   },
   "source": [
    "#### Balance"
   ]
  },
  {
   "cell_type": "code",
   "execution_count": 37,
   "id": "sAdO9NVrU8H0",
   "metadata": {
    "executionInfo": {
     "elapsed": 38,
     "status": "ok",
     "timestamp": 1749587554198,
     "user": {
      "displayName": "Steven Sebastian Araujo Moran",
      "userId": "14571755018649745938"
     },
     "user_tz": 300
    },
    "id": "sAdO9NVrU8H0"
   },
   "outputs": [],
   "source": [
    "# df_all.info()"
   ]
  },
  {
   "cell_type": "code",
   "execution_count": 38,
   "id": "emgEAd5vBP-1",
   "metadata": {
    "executionInfo": {
     "elapsed": 39,
     "status": "ok",
     "timestamp": 1749587554207,
     "user": {
      "displayName": "Steven Sebastian Araujo Moran",
      "userId": "14571755018649745938"
     },
     "user_tz": 300
    },
    "id": "emgEAd5vBP-1"
   },
   "outputs": [],
   "source": [
    "# # df_all.loc[df_all[\"lang\"] == \"es\", \"lang\"]"
   ]
  },
  {
   "cell_type": "code",
   "execution_count": 39,
   "id": "waLTpwRV-xqD",
   "metadata": {
    "executionInfo": {
     "elapsed": 29,
     "status": "ok",
     "timestamp": 1749587554209,
     "user": {
      "displayName": "Steven Sebastian Araujo Moran",
      "userId": "14571755018649745938"
     },
     "user_tz": 300
    },
    "id": "waLTpwRV-xqD"
   },
   "outputs": [],
   "source": [
    "# class_counts = df_all[\"value\"].value_counts()\n",
    "# target_count = class_counts.max()"
   ]
  },
  {
   "cell_type": "code",
   "execution_count": 40,
   "id": "7JyUeJbWHwGe",
   "metadata": {
    "executionInfo": {
     "elapsed": 26,
     "status": "ok",
     "timestamp": 1749587554237,
     "user": {
      "displayName": "Steven Sebastian Araujo Moran",
      "userId": "14571755018649745938"
     },
     "user_tz": 300
    },
    "id": "7JyUeJbWHwGe"
   },
   "outputs": [],
   "source": [
    "# def simple_balance_with_bert(df, text_col='text', label_col='value'):\n",
    "#     \"\"\"Versión simplificada usando solo BERT\"\"\"\n",
    "\n",
    "#     class_counts = df[label_col].value_counts()\n",
    "#     target_count = class_counts.max()\n",
    "\n",
    "#     # Solo BERT augmenter\n",
    "#     aug = naw.ContextualWordEmbsAug(\n",
    "#         model_path='bert-base-multilingual-uncased',\n",
    "#         aug_p=0.1\n",
    "#     )\n",
    "\n",
    "#     augmented_data = []\n",
    "\n",
    "#     for class_label, current_count in class_counts.items():\n",
    "#         needed = target_count - current_count\n",
    "#         print(\"Clase:\", class_label, \"con\", current_count, \"necesita\", needed)\n",
    "\n",
    "#         if needed <= 0:\n",
    "#             continue\n",
    "\n",
    "#         class_texts = df[df[label_col] == class_label][text_col].tolist()\n",
    "\n",
    "#         for i in range(needed):\n",
    "#             original_text = class_texts[i % len(class_texts)]\n",
    "#             try:\n",
    "#                 augmented_text = aug.augment(original_text)\n",
    "#                 if isinstance(augmented_text, list):\n",
    "#                     augmented_text = augmented_text[0]\n",
    "#             except:\n",
    "#                 augmented_text = original_text\n",
    "\n",
    "#             augmented_data.append({\n",
    "#                 text_col: augmented_text,\n",
    "#                 label_col: class_label,\n",
    "#                 \"lang\": \"en\"\n",
    "#             })\n",
    "#         print(\"*\"*50)\n",
    "\n",
    "#     return pd.concat([df, pd.DataFrame(augmented_data)], ignore_index=True)"
   ]
  },
  {
   "cell_type": "code",
   "execution_count": 41,
   "id": "niT53qfPH_SQ",
   "metadata": {
    "executionInfo": {
     "elapsed": 26,
     "status": "ok",
     "timestamp": 1749587554240,
     "user": {
      "displayName": "Steven Sebastian Araujo Moran",
      "userId": "14571755018649745938"
     },
     "user_tz": 300
    },
    "id": "niT53qfPH_SQ"
   },
   "outputs": [],
   "source": [
    "# # balanced_df = simple_balance_with_bert(df_all)"
   ]
  },
  {
   "cell_type": "code",
   "execution_count": null,
   "id": "78moQfoDJQL7",
   "metadata": {
    "executionInfo": {
     "elapsed": 21,
     "status": "ok",
     "timestamp": 1749587554263,
     "user": {
      "displayName": "Steven Sebastian Araujo Moran",
      "userId": "14571755018649745938"
     },
     "user_tz": 300
    },
    "id": "78moQfoDJQL7"
   },
   "outputs": [],
   "source": [
    "def balance_with_multi_gpu(df, text_col='text', label_col='value', gpu_ids=[0, 1]):\n",
    "    \"\"\"Balancea dataset usando múltiples GPUs\"\"\"\n",
    "\n",
    "    # Verificar GPUs disponibles\n",
    "    available_gpus = torch.cuda.device_count()\n",
    "    print(f\"GPUs disponibles: {available_gpus}\")\n",
    "\n",
    "    if available_gpus < len(gpu_ids):\n",
    "        print(f\"⚠️ Solo {available_gpus} GPUs disponibles, usando las primeras {available_gpus}\")\n",
    "        gpu_ids = gpu_ids[:available_gpus]\n",
    "\n",
    "    # Crear augmenters para cada GPU\n",
    "    augmenters = {}\n",
    "    for gpu_id in gpu_ids:\n",
    "        augmenters[gpu_id] = naw.ContextualWordEmbsAug(\n",
    "            model_path='bert-base-multilingual-uncased',\n",
    "            aug_p=0.1,\n",
    "            device=f'cuda:{gpu_id}'\n",
    "        )\n",
    "        print(f\"✅ Augmenter creado en GPU {gpu_id}\")\n",
    "\n",
    "    class_counts = df[label_col].value_counts()\n",
    "    target_count = class_counts.max()\n",
    "\n",
    "    def process_class_on_gpu(args):\n",
    "        \"\"\"Procesa una clase en una GPU específica\"\"\"\n",
    "        class_label, needed_samples, class_texts, gpu_id = args\n",
    "\n",
    "        augmenter = augmenters[gpu_id]\n",
    "        augmented_data = []\n",
    "\n",
    "        print(f\"🚀 GPU {gpu_id}: Procesando clase {class_label} ({needed_samples} muestras)\")\n",
    "\n",
    "        batch_size = 16\n",
    "        for i in range(0, needed_samples, batch_size):\n",
    "            batch_end = min(i + batch_size, needed_samples)\n",
    "            batch_texts = [class_texts[j % len(class_texts)] for j in range(i, batch_end)]\n",
    "            print(\"batch_size\", batch_size, \"batch_end\", batch_end, \"needed_samples\", needed_samples)\n",
    "\n",
    "            try:\n",
    "                augmented_batch = augmenter.augment(batch_texts)\n",
    "\n",
    "                for aug_text in augmented_batch:\n",
    "                    augmented_data.append({\n",
    "                        text_col: aug_text,\n",
    "                        label_col: class_label,\n",
    "                        \"lang\": \"en\",\n",
    "                        'gpu_used': gpu_id\n",
    "                    })\n",
    "            except Exception as e:\n",
    "                print(f\"Error en GPU {gpu_id}: {e}\")\n",
    "                # Fallback\n",
    "                for text in batch_texts:\n",
    "                    augmented_data.append({\n",
    "                        text_col: text,\n",
    "                        label_col: class_label,\n",
    "                        \"lang\": \"en\",\n",
    "                        'gpu_used': gpu_id\n",
    "                    })\n",
    "\n",
    "        print(f\"✅ GPU {gpu_id}: Completada clase {class_label}\")\n",
    "        return augmented_data\n",
    "\n",
    "    # Preparar trabajos para cada GPU\n",
    "    jobs = []\n",
    "    gpu_idx = 0\n",
    "\n",
    "    for class_label, current_count in class_counts.items():\n",
    "        needed = target_count - current_count\n",
    "        if needed <= 0:\n",
    "            continue\n",
    "\n",
    "        class_texts = df[df[label_col] == class_label][text_col].tolist()\n",
    "        gpu_id = gpu_ids[gpu_idx % len(gpu_ids)]\n",
    "\n",
    "        jobs.append((class_label, needed, class_texts, gpu_id))\n",
    "        gpu_idx += 1\n",
    "\n",
    "    # Ejecutar en paralelo\n",
    "    all_augmented_data = []\n",
    "    with ThreadPoolExecutor(max_workers=len(gpu_ids)) as executor:\n",
    "        results = executor.map(process_class_on_gpu, jobs)\n",
    "\n",
    "        for result in results:\n",
    "            all_augmented_data.extend(result)\n",
    "\n",
    "    # Combinar resultados\n",
    "    augmented_df = pd.DataFrame(all_augmented_data)\n",
    "    balanced_df = pd.concat([df, augmented_df], ignore_index=True)\n",
    "\n",
    "    print(f\"\\n🎉 Completado!\")\n",
    "    print(f\"Total original: {len(df)}\")\n",
    "    print(f\"Total final: {len(balanced_df)}\")\n",
    "    print(f\"Muestras añadidas: {len(augmented_df)}\")\n",
    "\n",
    "    # Mostrar uso por GPU\n",
    "    if len(augmented_df) > 0:\n",
    "        gpu_usage = augmented_df['gpu_used'].value_counts()\n",
    "        print(\"\\nUso por GPU:\")\n",
    "        for gpu_id, count in gpu_usage.items():\n",
    "            print(f\"  GPU {gpu_id}: {count} muestras\")\n",
    "\n",
    "    return balanced_df"
   ]
  },
  {
   "cell_type": "code",
   "execution_count": 43,
   "id": "vxu-Ba1gJVIs",
   "metadata": {
    "executionInfo": {
     "elapsed": 2,
     "status": "ok",
     "timestamp": 1749587554268,
     "user": {
      "displayName": "Steven Sebastian Araujo Moran",
      "userId": "14571755018649745938"
     },
     "user_tz": 300
    },
    "id": "vxu-Ba1gJVIs"
   },
   "outputs": [],
   "source": [
    "# Usar con 2 GPUs\n",
    "# balanced_df = balance_with_multi_gpu(df_all, gpu_ids=[0])\n",
    "# # balanced_df = balance_with_multi_gpu(df_all, gpu_ids=[0, 1])"
   ]
  },
  {
   "cell_type": "code",
   "execution_count": 44,
   "id": "sPgv-kywDQXE",
   "metadata": {
    "executionInfo": {
     "elapsed": 12,
     "status": "ok",
     "timestamp": 1749587554284,
     "user": {
      "displayName": "Steven Sebastian Araujo Moran",
      "userId": "14571755018649745938"
     },
     "user_tz": 300
    },
    "id": "sPgv-kywDQXE"
   },
   "outputs": [],
   "source": [
    "# df_all.shape, balanced_df.shape"
   ]
  },
  {
   "cell_type": "code",
   "execution_count": 45,
   "id": "5WNWX73NaKoZ",
   "metadata": {
    "executionInfo": {
     "elapsed": 2,
     "status": "ok",
     "timestamp": 1749587554289,
     "user": {
      "displayName": "Steven Sebastian Araujo Moran",
      "userId": "14571755018649745938"
     },
     "user_tz": 300
    },
    "id": "5WNWX73NaKoZ"
   },
   "outputs": [],
   "source": [
    "# balanced_df.info()"
   ]
  },
  {
   "cell_type": "code",
   "execution_count": 46,
   "id": "baMoPqhWBkZN",
   "metadata": {
    "executionInfo": {
     "elapsed": 11,
     "status": "ok",
     "timestamp": 1749587554309,
     "user": {
      "displayName": "Steven Sebastian Araujo Moran",
      "userId": "14571755018649745938"
     },
     "user_tz": 300
    },
    "id": "baMoPqhWBkZN"
   },
   "outputs": [],
   "source": [
    "# if USING_COLAB:\n",
    "#   balanced_df.to_csv(\"/content/drive/My Drive/GTSI/Codigos_ods/data/dataset_balansed.csv\", index=False)\n",
    "# else:\n",
    "#   balanced_df.to_csv(\"./data/dataset_balansed.csv\", index=False)"
   ]
  },
  {
   "cell_type": "markdown",
   "id": "uaWDtlIHXXUN",
   "metadata": {
    "id": "uaWDtlIHXXUN"
   },
   "source": [
    "#### Lematizacion"
   ]
  },
  {
   "cell_type": "markdown",
   "id": "1d247d97",
   "metadata": {},
   "source": [
    "###### ES"
   ]
  },
  {
   "cell_type": "code",
   "execution_count": 47,
   "id": "Ro1UefNafZ9l",
   "metadata": {
    "executionInfo": {
     "elapsed": 14,
     "status": "ok",
     "timestamp": 1749587554337,
     "user": {
      "displayName": "Steven Sebastian Araujo Moran",
      "userId": "14571755018649745938"
     },
     "user_tz": 300
    },
    "id": "Ro1UefNafZ9l"
   },
   "outputs": [],
   "source": [
    "import re\n",
    "# Lista de textos de ejemplo\n",
    "texts = [\n",
    "    \"La inteligencia artificial está revolucionando la industria.\",\n",
    "    \"Los avances en aprendizaje profundo permiten nuevas aplicaciones.\",\n",
    "    \"La ética en inteligencia artificial es fundamental para su desarrollo.\",\n",
    "    \"Muchos algoritmos de aprendizaje no supervisado son complejos.\",\n",
    "    \"La visión por computadora es una rama de la inteligencia artificial.\"\n",
    "]\n",
    "texts = [re.sub(r'\\W', ' ', text.lower()) for text in texts]"
   ]
  },
  {
   "cell_type": "code",
   "execution_count": null,
   "id": "BiqZPLl-fYqd",
   "metadata": {
    "executionInfo": {
     "elapsed": 4800,
     "status": "ok",
     "timestamp": 1749587559134,
     "user": {
      "displayName": "Steven Sebastian Araujo Moran",
      "userId": "14571755018649745938"
     },
     "user_tz": 300
    },
    "id": "BiqZPLl-fYqd"
   },
   "outputs": [],
   "source": [
    "# Cargar modelo en español\n",
    "nlp = spacy.load(\"es_core_news_sm\")\n",
    "\n",
    "# Stopwords en español\n",
    "stop_words = set(stopwords.words(\"spanish\"))\n",
    "\n",
    "# Función de preprocesamiento\n",
    "def preprocess(text):\n",
    "    doc = nlp(text)\n",
    "    tokens = [token.lemma_ for token in doc if token.lemma_ not in stop_words and not token.is_punct]\n",
    "    return tokens\n",
    "\n",
    "# Aplicar preprocesamiento\n",
    "data_processed = [preprocess(text) for text in texts]"
   ]
  },
  {
   "cell_type": "code",
   "execution_count": 49,
   "id": "OcgX30E_fh-S",
   "metadata": {
    "colab": {
     "base_uri": "https://localhost:8080/"
    },
    "executionInfo": {
     "elapsed": 27,
     "status": "ok",
     "timestamp": 1749587559149,
     "user": {
      "displayName": "Steven Sebastian Araujo Moran",
      "userId": "14571755018649745938"
     },
     "user_tz": 300
    },
    "id": "OcgX30E_fh-S",
    "outputId": "4b8f52b9-ec63-4ee6-ba97-fee9e54391eb"
   },
   "outputs": [
    {
     "data": {
      "text/plain": [
       "[['inteligencia', 'artificial', 'revolucionando', 'industria'],\n",
       " ['avances', 'aprendizaje', 'profundo', 'permiten', 'nuevas', 'aplicaciones'],\n",
       " ['ética', 'inteligencia', 'artificial', 'fundamental', 'desarrollo'],\n",
       " ['algoritmos', 'aprendizaje', 'supervisado', 'complejos'],\n",
       " ['visión', 'computadora', 'rama', 'inteligencia', 'artificial']]"
      ]
     },
     "execution_count": 49,
     "metadata": {},
     "output_type": "execute_result"
    }
   ],
   "source": [
    "data_processed"
   ]
  },
  {
   "cell_type": "markdown",
   "id": "d8d3067f",
   "metadata": {},
   "source": [
    "###### EN"
   ]
  },
  {
   "cell_type": "code",
   "execution_count": null,
   "id": "HbmS3nCuZFf8",
   "metadata": {
    "executionInfo": {
     "elapsed": 6621,
     "status": "ok",
     "timestamp": 1749587565750,
     "user": {
      "displayName": "Steven Sebastian Araujo Moran",
      "userId": "14571755018649745938"
     },
     "user_tz": 300
    },
    "id": "HbmS3nCuZFf8"
   },
   "outputs": [],
   "source": [
    "# Cargar modelo en ingles\n",
    "# nlp = spacy.load(\"es_core_news_sm\")\n",
    "nlp = spacy.load(\"en_core_web_lg\")"
   ]
  },
  {
   "cell_type": "code",
   "execution_count": 51,
   "id": "_nI_FbKdY6KX",
   "metadata": {
    "executionInfo": {
     "elapsed": 32,
     "status": "ok",
     "timestamp": 1749587565788,
     "user": {
      "displayName": "Steven Sebastian Araujo Moran",
      "userId": "14571755018649745938"
     },
     "user_tz": 300
    },
    "id": "_nI_FbKdY6KX"
   },
   "outputs": [],
   "source": [
    "stopwords_es = set(stopwords.words('spanish'))\n",
    "stopwords_en = set(stopwords.words('english'))\n",
    "stop_words = stopwords_es | stopwords_en"
   ]
  },
  {
   "cell_type": "code",
   "execution_count": null,
   "id": "BpV4McRJY2j2",
   "metadata": {
    "executionInfo": {
     "elapsed": 12,
     "status": "ok",
     "timestamp": 1749587565790,
     "user": {
      "displayName": "Steven Sebastian Araujo Moran",
      "userId": "14571755018649745938"
     },
     "user_tz": 300
    },
    "id": "BpV4McRJY2j2"
   },
   "outputs": [],
   "source": [
    "# Función de limpieza y lematización\n",
    "def procesar_texto(texto):\n",
    "    if pd.isna(texto):\n",
    "        return \"\"\n",
    "    # Unicode, minúsculas, quitar puntuación\n",
    "    texto = texto.lower().translate(str.maketrans('', '', string.punctuation))\n",
    "    # Procesar con spaCy\n",
    "    doc = nlp(texto)\n",
    "    # Lematizar y quitar stopwords\n",
    "    tokens = [token.lemma_ for token in doc if token.lemma_ not in stop_words and not token.is_punct and not token.is_space]\n",
    "    return \" \".join(tokens)\n",
    "\n",
    "# Unir columnas y procesar\n",
    "def crear_corpus(row):\n",
    "    return procesar_texto(str(row['text']))"
   ]
  },
  {
   "cell_type": "code",
   "execution_count": 53,
   "id": "vEcVIOcgY79o",
   "metadata": {
    "executionInfo": {
     "elapsed": 1949427,
     "status": "ok",
     "timestamp": 1749589515218,
     "user": {
      "displayName": "Steven Sebastian Araujo Moran",
      "userId": "14571755018649745938"
     },
     "user_tz": 300
    },
    "id": "vEcVIOcgY79o"
   },
   "outputs": [],
   "source": [
    "df_all['CORPUS'] = df_all.apply(crear_corpus, axis=1)"
   ]
  },
  {
   "cell_type": "code",
   "execution_count": 54,
   "id": "WrfilfT8ddNz",
   "metadata": {
    "colab": {
     "base_uri": "https://localhost:8080/"
    },
    "executionInfo": {
     "elapsed": 36,
     "status": "ok",
     "timestamp": 1749589515221,
     "user": {
      "displayName": "Steven Sebastian Araujo Moran",
      "userId": "14571755018649745938"
     },
     "user_tz": 300
    },
    "id": "WrfilfT8ddNz",
    "outputId": "aaf5db25-2789-481d-f54f-66cd1ab925d2"
   },
   "outputs": [
    {
     "name": "stdout",
     "output_type": "stream",
     "text": [
      "<class 'pandas.core.frame.DataFrame'>\n",
      "RangeIndex: 80144 entries, 0 to 80143\n",
      "Data columns (total 5 columns):\n",
      " #   Column    Non-Null Count  Dtype  \n",
      "---  ------    --------------  -----  \n",
      " 0   text      80144 non-null  object \n",
      " 1   value     80144 non-null  int64  \n",
      " 2   lang      42140 non-null  object \n",
      " 3   gpu_used  38004 non-null  float64\n",
      " 4   CORPUS    80144 non-null  object \n",
      "dtypes: float64(1), int64(1), object(3)\n",
      "memory usage: 3.1+ MB\n"
     ]
    }
   ],
   "source": [
    "df_all.info()"
   ]
  },
  {
   "cell_type": "code",
   "execution_count": 55,
   "id": "ybyyT7KsXWru",
   "metadata": {
    "executionInfo": {
     "elapsed": 4796,
     "status": "ok",
     "timestamp": 1749589520439,
     "user": {
      "displayName": "Steven Sebastian Araujo Moran",
      "userId": "14571755018649745938"
     },
     "user_tz": 300
    },
    "id": "ybyyT7KsXWru"
   },
   "outputs": [],
   "source": [
    "if USING_COLAB:\n",
    "  df_all.to_csv(\"/content/drive/My Drive/GTSI/Codigos_ods/data/dataset_balansed_lema.csv\", index=False)\n",
    "else:\n",
    "  df_all.to_csv(\"./data/dataset_balansed_lema.csv\", index=False)"
   ]
  }
 ],
 "metadata": {
  "colab": {
   "collapsed_sections": [
    "bca87d79",
    "23c29e56",
    "KymCrrBVUVo8"
   ],
   "provenance": []
  },
  "kernelspec": {
   "display_name": "Python 3",
   "name": "python3"
  },
  "language_info": {
   "codemirror_mode": {
    "name": "ipython",
    "version": 3
   },
   "file_extension": ".py",
   "mimetype": "text/x-python",
   "name": "python",
   "nbconvert_exporter": "python",
   "pygments_lexer": "ipython3",
   "version": "3.12.10"
  }
 },
 "nbformat": 4,
 "nbformat_minor": 5
}
